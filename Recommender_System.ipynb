{
  "nbformat": 4,
  "nbformat_minor": 0,
  "metadata": {
    "colab": {
      "provenance": [],
      "authorship_tag": "ABX9TyNjdB5vuSKKXmIOCNxdgMN7",
      "include_colab_link": true
    },
    "kernelspec": {
      "name": "python3",
      "display_name": "Python 3"
    },
    "language_info": {
      "name": "python"
    }
  },
  "cells": [
    {
      "cell_type": "markdown",
      "metadata": {
        "id": "view-in-github",
        "colab_type": "text"
      },
      "source": [
        "<a href=\"https://colab.research.google.com/github/dinarrahman30/Machine-Learning-Terapan/blob/main/Recommender_System.ipynb\" target=\"_parent\"><img src=\"https://colab.research.google.com/assets/colab-badge.svg\" alt=\"Open In Colab\"/></a>"
      ]
    },
    {
      "cell_type": "markdown",
      "source": [
        "# Informasi Data Diri\n",
        "Nama: Dinar Wahyu Rahman\n",
        "\n",
        "Username Dicoding: dinar_wahyu\n",
        "\n",
        "Email: dinarrahman30@gmail.com\n",
        "\n",
        "LinkedIn: [Dinar Wahyu Rahman]('https:www.linkedin.com/in/dinar-wahyu-rahman/')"
      ],
      "metadata": {
        "id": "rOVORma9t_aj"
      }
    },
    {
      "cell_type": "markdown",
      "source": [
        "# Recommender System (Sistem Rekomendasi)\n",
        "Proyek akhir pada kelas Machine Learning Terapan by Dicoding Academy"
      ],
      "metadata": {
        "id": "joGH3_9muAgr"
      }
    },
    {
      "cell_type": "markdown",
      "source": [
        "## 1. Deskripsi Proyek Sistem Rekomendasi Destinasi Wisata di Kota Yogyakarta dengan Collaborative Filtering\n",
        "\n",
        "![Foto](https://opinijogja.com/wp-content/uploads/2023/02/Wisata.jpg)\n",
        "\n",
        "Pariwisata menjadi salah satu bidang andalan perekonomian negara Indonesia. Kota Yogyakarta adalah salah satu destinasi wisata terpopuler di Indonesia, menawarkan berbagai jenis tempat wisata mulai dari wisata budaya, sejarah, alam, hingga kuliner. Dengan banyaknya pilihan, wisatawan sering menghadapi kesulitan dalam menentukan destinasi yang sesuai dengan minat mereka. Selain itu, platform pariwisata sering kali memberikan rekomendasi generik yang kurang relevan dengan preferensi individu.\n",
        "\n",
        "Untuk mengatasi masalah ini, sistem rekomendasi destinasi wisata berbasis Collaborative Filtering dirancang untuk memberikan rekomendasi yang personal dan sesuai dengan preferensi pengguna, khususnya bagi wisatawan yang berkunjung ke Kota Yogyakarta."
      ],
      "metadata": {
        "id": "tQIqVjVfuMS9"
      }
    },
    {
      "cell_type": "markdown",
      "source": [
        "### 1.1. Import library yang dibutuhkan"
      ],
      "metadata": {
        "id": "gXYiyH-1uQUC"
      }
    },
    {
      "cell_type": "code",
      "execution_count": 1,
      "metadata": {
        "id": "QNABK6qZt3m2"
      },
      "outputs": [],
      "source": [
        "import pandas as pd\n",
        "import matplotlib.pyplot as plt\n",
        "import numpy as np\n",
        "import seaborn as sns\n",
        "import warnings\n",
        "warnings.filterwarnings('ignore')"
      ]
    },
    {
      "cell_type": "markdown",
      "source": [
        "### 1.2. Data Collection"
      ],
      "metadata": {
        "id": "yaAmxoCtE7at"
      }
    },
    {
      "cell_type": "markdown",
      "source": [
        "Dataset diambil dari situs [Kaggle](https://www.kaggle.com/aprabowo/indonesia-tourism-destination)"
      ],
      "metadata": {
        "id": "fBqryhofC06j"
      }
    },
    {
      "cell_type": "code",
      "source": [
        "!pip install kaggle"
      ],
      "metadata": {
        "id": "AJEJxsglEBZ7",
        "colab": {
          "base_uri": "https://localhost:8080/"
        },
        "outputId": "177dd695-70fd-4958-db78-471ca49ea349"
      },
      "execution_count": 2,
      "outputs": [
        {
          "output_type": "stream",
          "name": "stdout",
          "text": [
            "Requirement already satisfied: kaggle in /usr/local/lib/python3.10/dist-packages (1.6.17)\n",
            "Requirement already satisfied: six>=1.10 in /usr/local/lib/python3.10/dist-packages (from kaggle) (1.17.0)\n",
            "Requirement already satisfied: certifi>=2023.7.22 in /usr/local/lib/python3.10/dist-packages (from kaggle) (2024.8.30)\n",
            "Requirement already satisfied: python-dateutil in /usr/local/lib/python3.10/dist-packages (from kaggle) (2.8.2)\n",
            "Requirement already satisfied: requests in /usr/local/lib/python3.10/dist-packages (from kaggle) (2.32.3)\n",
            "Requirement already satisfied: tqdm in /usr/local/lib/python3.10/dist-packages (from kaggle) (4.66.6)\n",
            "Requirement already satisfied: python-slugify in /usr/local/lib/python3.10/dist-packages (from kaggle) (8.0.4)\n",
            "Requirement already satisfied: urllib3 in /usr/local/lib/python3.10/dist-packages (from kaggle) (2.2.3)\n",
            "Requirement already satisfied: bleach in /usr/local/lib/python3.10/dist-packages (from kaggle) (6.2.0)\n",
            "Requirement already satisfied: webencodings in /usr/local/lib/python3.10/dist-packages (from bleach->kaggle) (0.5.1)\n",
            "Requirement already satisfied: text-unidecode>=1.3 in /usr/local/lib/python3.10/dist-packages (from python-slugify->kaggle) (1.3)\n",
            "Requirement already satisfied: charset-normalizer<4,>=2 in /usr/local/lib/python3.10/dist-packages (from requests->kaggle) (3.4.0)\n",
            "Requirement already satisfied: idna<4,>=2.5 in /usr/local/lib/python3.10/dist-packages (from requests->kaggle) (3.10)\n"
          ]
        }
      ]
    },
    {
      "cell_type": "code",
      "source": [
        "!kaggle datasets download -d aprabowo/indonesia-tourism-destination"
      ],
      "metadata": {
        "id": "rKM9JBxvEJgG",
        "colab": {
          "base_uri": "https://localhost:8080/"
        },
        "outputId": "1ebc4306-e930-4968-85d4-2d9fb84ee5a2"
      },
      "execution_count": 3,
      "outputs": [
        {
          "output_type": "stream",
          "name": "stdout",
          "text": [
            "Dataset URL: https://www.kaggle.com/datasets/aprabowo/indonesia-tourism-destination\n",
            "License(s): copyright-authors\n",
            "Downloading indonesia-tourism-destination.zip to /content\n",
            "  0% 0.00/158k [00:00<?, ?B/s]\n",
            "100% 158k/158k [00:00<00:00, 62.0MB/s]\n"
          ]
        }
      ]
    },
    {
      "cell_type": "code",
      "source": [
        "!unzip /content/indonesia-tourism-destination.zip"
      ],
      "metadata": {
        "id": "w4cP6UhhESkr",
        "colab": {
          "base_uri": "https://localhost:8080/"
        },
        "outputId": "37b891f9-dab9-4967-d70e-a9a823287039"
      },
      "execution_count": 4,
      "outputs": [
        {
          "output_type": "stream",
          "name": "stdout",
          "text": [
            "Archive:  /content/indonesia-tourism-destination.zip\n",
            "  inflating: package_tourism.csv     \n",
            "  inflating: tourism_rating.csv      \n",
            "  inflating: tourism_with_id.csv     \n",
            "  inflating: user.csv                \n"
          ]
        }
      ]
    },
    {
      "cell_type": "markdown",
      "source": [
        "Dalam dataset terdapat 4 buah file bertipe csv (Comma-Seperated Values), yaitu\n",
        "- `tourism_with_id.csv`: mengandung informasi tempak wisata di 5 kota besar di Indonesia (hanya kota Yogyakarta yang dipakai).\n",
        "- `user.csv`: mengandung informasi pengguna untuk membuat rekomendasi fitur berdasar pengguna.\n",
        "- `tourism_rating.csv`: mengandung informasi pengguna, tempat wisata, dan rating untuk membuat sistem rekomendasi berdasar rating.\n",
        "- `package_tourism.csv`: berisi rekomendasi tempat terdekat berdasarkan waktu, biaya, dan peringkat.\n"
      ],
      "metadata": {
        "id": "WL1ihRabY_eX"
      }
    },
    {
      "cell_type": "markdown",
      "source": [
        "## 2. Data Understanding"
      ],
      "metadata": {
        "id": "65E9-sa4uU3n"
      }
    },
    {
      "cell_type": "code",
      "source": [
        "df_rating = pd.read_csv(\"/content/tourism_rating.csv\")\n",
        "df_tourism = pd.read_csv(\"/content/tourism_with_id.csv\")\n",
        "df_user = pd.read_csv(\"/content/user.csv\")\n",
        "df_package = pd.read_csv(\"/content/package_tourism.csv\")\n",
        "\n",
        "print(df_rating.head())\n",
        "print(\"-\" * 50)\n",
        "print(df_tourism.head())\n",
        "print(\"-\" * 50)\n",
        "print(df_user.head())\n",
        "print(\"-\" * 50)\n",
        "print(df_package.head())"
      ],
      "metadata": {
        "id": "WgD4c99quc9q",
        "colab": {
          "base_uri": "https://localhost:8080/"
        },
        "outputId": "0e9d5bf0-e224-4e59-b823-877c893cb0a7"
      },
      "execution_count": 5,
      "outputs": [
        {
          "output_type": "stream",
          "name": "stdout",
          "text": [
            "   User_Id  Place_Id  Place_Ratings\n",
            "0        1       179              3\n",
            "1        1       344              2\n",
            "2        1         5              5\n",
            "3        1       373              3\n",
            "4        1       101              4\n",
            "--------------------------------------------------\n",
            "   Place_Id                         Place_Name  \\\n",
            "0         1                   Monumen Nasional   \n",
            "1         2                           Kota Tua   \n",
            "2         3                      Dunia Fantasi   \n",
            "3         4  Taman Mini Indonesia Indah (TMII)   \n",
            "4         5           Atlantis Water Adventure   \n",
            "\n",
            "                                         Description       Category     City  \\\n",
            "0  Monumen Nasional atau yang populer disingkat d...         Budaya  Jakarta   \n",
            "1  Kota tua di Jakarta, yang juga bernama Kota Tu...         Budaya  Jakarta   \n",
            "2  Dunia Fantasi atau disebut juga Dufan adalah t...  Taman Hiburan  Jakarta   \n",
            "3  Taman Mini Indonesia Indah merupakan suatu kaw...  Taman Hiburan  Jakarta   \n",
            "4  Atlantis Water Adventure atau dikenal dengan A...  Taman Hiburan  Jakarta   \n",
            "\n",
            "    Price  Rating  Time_Minutes  \\\n",
            "0   20000     4.6          15.0   \n",
            "1       0     4.6          90.0   \n",
            "2  270000     4.6         360.0   \n",
            "3   10000     4.5           NaN   \n",
            "4   94000     4.5          60.0   \n",
            "\n",
            "                                        Coordinate       Lat        Long  \\\n",
            "0          {'lat': -6.1753924, 'lng': 106.8271528} -6.175392  106.827153   \n",
            "1  {'lat': -6.137644799999999, 'lng': 106.8171245} -6.137645  106.817125   \n",
            "2  {'lat': -6.125312399999999, 'lng': 106.8335377} -6.125312  106.833538   \n",
            "3  {'lat': -6.302445899999999, 'lng': 106.8951559} -6.302446  106.895156   \n",
            "4             {'lat': -6.12419, 'lng': 106.839134} -6.124190  106.839134   \n",
            "\n",
            "   Unnamed: 11  Unnamed: 12  \n",
            "0          NaN            1  \n",
            "1          NaN            2  \n",
            "2          NaN            3  \n",
            "3          NaN            4  \n",
            "4          NaN            5  \n",
            "--------------------------------------------------\n",
            "   User_Id                   Location  Age\n",
            "0        1      Semarang, Jawa Tengah   20\n",
            "1        2         Bekasi, Jawa Barat   21\n",
            "2        3        Cirebon, Jawa Barat   23\n",
            "3        4         Bekasi, Jawa Barat   21\n",
            "4        5  Lampung, Sumatera Selatan   20\n",
            "--------------------------------------------------\n",
            "   Package     City         Place_Tourism1      Place_Tourism2  \\\n",
            "0        1  Jakarta      Pasar Tanah Abang        Taman Ayodya   \n",
            "1        2  Jakarta      Pasar Tanah Abang  Pasar Taman Puring   \n",
            "2        3  Jakarta  Perpustakaan Nasional               Monas   \n",
            "3        4  Jakarta           Pulau Tidung      Pulau Bidadari   \n",
            "4        5  Jakarta  Museum Satria Mandala       Museum Wayang   \n",
            "\n",
            "          Place_Tourism3                                     Place_Tourism4  \\\n",
            "0         Museum Tekstil                                                NaN   \n",
            "1   Pasar Petak Sembilan                                                NaN   \n",
            "2        Masjid Istiqlal                                                NaN   \n",
            "3             Pulau Pari                                      Pulau Pramuka   \n",
            "4  Museum Bahari Jakarta  Museum Macan (Modern and Contemporary Art in N...   \n",
            "\n",
            "  Place_Tourism5  \n",
            "0            NaN  \n",
            "1            NaN  \n",
            "2            NaN  \n",
            "3  Pulau Pelangi  \n",
            "4            NaN  \n"
          ]
        }
      ]
    },
    {
      "cell_type": "markdown",
      "source": [
        "Untuk pemodelan machine learning pada kasus ini, kita hanya akan menggunakan file `tourism_with_id.csv`"
      ],
      "metadata": {
        "id": "3clc-SjkmF05"
      }
    },
    {
      "cell_type": "markdown",
      "source": [
        "#### 2.1. Exploratory Data Analytics (EDA)"
      ],
      "metadata": {
        "id": "xnOG_DG7ubML"
      }
    },
    {
      "cell_type": "code",
      "source": [
        "print(df_tourism.info())"
      ],
      "metadata": {
        "id": "cyTf-owTbHk8",
        "colab": {
          "base_uri": "https://localhost:8080/"
        },
        "outputId": "112cf774-b0fe-4b4e-bb14-263c97f27432"
      },
      "execution_count": 6,
      "outputs": [
        {
          "output_type": "stream",
          "name": "stdout",
          "text": [
            "<class 'pandas.core.frame.DataFrame'>\n",
            "RangeIndex: 437 entries, 0 to 436\n",
            "Data columns (total 13 columns):\n",
            " #   Column        Non-Null Count  Dtype  \n",
            "---  ------        --------------  -----  \n",
            " 0   Place_Id      437 non-null    int64  \n",
            " 1   Place_Name    437 non-null    object \n",
            " 2   Description   437 non-null    object \n",
            " 3   Category      437 non-null    object \n",
            " 4   City          437 non-null    object \n",
            " 5   Price         437 non-null    int64  \n",
            " 6   Rating        437 non-null    float64\n",
            " 7   Time_Minutes  205 non-null    float64\n",
            " 8   Coordinate    437 non-null    object \n",
            " 9   Lat           437 non-null    float64\n",
            " 10  Long          437 non-null    float64\n",
            " 11  Unnamed: 11   0 non-null      float64\n",
            " 12  Unnamed: 12   437 non-null    int64  \n",
            "dtypes: float64(5), int64(3), object(5)\n",
            "memory usage: 44.5+ KB\n",
            "None\n"
          ]
        }
      ]
    },
    {
      "cell_type": "markdown",
      "source": [
        "Dari output `.info()` dapat disimpulkan bahwa:\n",
        "- `Place_Id`: ID dari setiap tempat wisata yang digunakan untuk membedakan tempat satu dengan lainnya.\n",
        "- `Place_Name`: Nama tempat wisata\n",
        "- `Description`: Deskripsi singkat tentang tempat wisata, mencakup informasi utama yang menarik perhatian wisatawan, seperti daya tarik utama atau sejarah singkat.\n",
        "- `Category`: Kategori tempat wisata, seperti \"Budaya\", \"Sejarah\", \"Alam\", atau \"Kuliner\".\n",
        "- `City`: Kota tempat wisata tersebut berada, misalnya \"Yogyakarta\".\n",
        "- `Price`: Harga masuk atau biaya yang diperlukan untuk menikmati tempat wisata tersebut (dapat berupa nominal dalam mata uang tertentu).\n",
        "- `Rating`: Penilaian rata-rata dari pengunjung, biasanya dalam skala tertentu (misalnya 1-5).\n",
        "- `Time_Minutes`: Estimasi waktu yang diperlukan untuk menikmati atau mengunjungi tempat wisata tersebut (dalam satuan menit).\n",
        "- `Coordinate`: Informasi lokasi dalam bentuk koordinat geografis yang mungkin mencakup kombinasi latitude (Lat) dan longitude (Long).\n",
        "- `Lat`: Latitude, yaitu garis lintang yang menunjukkan lokasi tempat wisata di peta.\n",
        "- `Long`: Longitude, yaitu garis bujur yang menunjukkan lokasi tempat wisata di peta.\n",
        "- `Unnamed: 11`: Kolom yang berisi nilai NaN.\n",
        "- `Unnamed; 12`: Kolom yang berisi angka."
      ],
      "metadata": {
        "id": "fEIQjU8Jbg4T"
      }
    },
    {
      "cell_type": "code",
      "source": [
        "print(\"Shape of df_tourism:\", df_tourism.shape)"
      ],
      "metadata": {
        "id": "KGc1bgHHeL9R",
        "colab": {
          "base_uri": "https://localhost:8080/"
        },
        "outputId": "6ab6037e-dfa1-4c67-a030-8a15cdf84254"
      },
      "execution_count": 7,
      "outputs": [
        {
          "output_type": "stream",
          "name": "stdout",
          "text": [
            "Shape of df_tourism: (437, 13)\n"
          ]
        }
      ]
    },
    {
      "cell_type": "markdown",
      "source": [
        "Dari eksekusi method `.shape` Terlihat:\n",
        "\n",
        "| Jumlah Baris\t| Jumlah Kolom |\n",
        "| ------ | ------ |\n",
        "| 437 |\t13 |"
      ],
      "metadata": {
        "id": "GSs9pqjaEaw5"
      }
    },
    {
      "cell_type": "markdown",
      "source": [
        "#### 2.1.1. Checking Missing Value"
      ],
      "metadata": {
        "id": "rIyBjRf61kSV"
      }
    },
    {
      "cell_type": "code",
      "source": [
        "# Cek data duplicated\n",
        "df_tourism.duplicated().sum()"
      ],
      "metadata": {
        "colab": {
          "base_uri": "https://localhost:8080/"
        },
        "id": "SIHpW1PuCcye",
        "outputId": "ba2a6d2d-afb9-4b20-e755-233d3c6115b1"
      },
      "execution_count": 8,
      "outputs": [
        {
          "output_type": "execute_result",
          "data": {
            "text/plain": [
              "0"
            ]
          },
          "metadata": {},
          "execution_count": 8
        }
      ]
    },
    {
      "cell_type": "code",
      "source": [
        "# Cek missing value\n",
        "df_tourism.isnull().sum()"
      ],
      "metadata": {
        "colab": {
          "base_uri": "https://localhost:8080/",
          "height": 491
        },
        "id": "8Tq17wGHCYC7",
        "outputId": "4bb84568-ef68-4cb8-f93b-71a33b7ad7fd"
      },
      "execution_count": 9,
      "outputs": [
        {
          "output_type": "execute_result",
          "data": {
            "text/plain": [
              "Place_Id          0\n",
              "Place_Name        0\n",
              "Description       0\n",
              "Category          0\n",
              "City              0\n",
              "Price             0\n",
              "Rating            0\n",
              "Time_Minutes    232\n",
              "Coordinate        0\n",
              "Lat               0\n",
              "Long              0\n",
              "Unnamed: 11     437\n",
              "Unnamed: 12       0\n",
              "dtype: int64"
            ],
            "text/html": [
              "<div>\n",
              "<style scoped>\n",
              "    .dataframe tbody tr th:only-of-type {\n",
              "        vertical-align: middle;\n",
              "    }\n",
              "\n",
              "    .dataframe tbody tr th {\n",
              "        vertical-align: top;\n",
              "    }\n",
              "\n",
              "    .dataframe thead th {\n",
              "        text-align: right;\n",
              "    }\n",
              "</style>\n",
              "<table border=\"1\" class=\"dataframe\">\n",
              "  <thead>\n",
              "    <tr style=\"text-align: right;\">\n",
              "      <th></th>\n",
              "      <th>0</th>\n",
              "    </tr>\n",
              "  </thead>\n",
              "  <tbody>\n",
              "    <tr>\n",
              "      <th>Place_Id</th>\n",
              "      <td>0</td>\n",
              "    </tr>\n",
              "    <tr>\n",
              "      <th>Place_Name</th>\n",
              "      <td>0</td>\n",
              "    </tr>\n",
              "    <tr>\n",
              "      <th>Description</th>\n",
              "      <td>0</td>\n",
              "    </tr>\n",
              "    <tr>\n",
              "      <th>Category</th>\n",
              "      <td>0</td>\n",
              "    </tr>\n",
              "    <tr>\n",
              "      <th>City</th>\n",
              "      <td>0</td>\n",
              "    </tr>\n",
              "    <tr>\n",
              "      <th>Price</th>\n",
              "      <td>0</td>\n",
              "    </tr>\n",
              "    <tr>\n",
              "      <th>Rating</th>\n",
              "      <td>0</td>\n",
              "    </tr>\n",
              "    <tr>\n",
              "      <th>Time_Minutes</th>\n",
              "      <td>232</td>\n",
              "    </tr>\n",
              "    <tr>\n",
              "      <th>Coordinate</th>\n",
              "      <td>0</td>\n",
              "    </tr>\n",
              "    <tr>\n",
              "      <th>Lat</th>\n",
              "      <td>0</td>\n",
              "    </tr>\n",
              "    <tr>\n",
              "      <th>Long</th>\n",
              "      <td>0</td>\n",
              "    </tr>\n",
              "    <tr>\n",
              "      <th>Unnamed: 11</th>\n",
              "      <td>437</td>\n",
              "    </tr>\n",
              "    <tr>\n",
              "      <th>Unnamed: 12</th>\n",
              "      <td>0</td>\n",
              "    </tr>\n",
              "  </tbody>\n",
              "</table>\n",
              "</div><br><label><b>dtype:</b> int64</label>"
            ]
          },
          "metadata": {},
          "execution_count": 9
        }
      ]
    },
    {
      "cell_type": "code",
      "source": [
        "# Drop kolom yang tidak akan digunakan\n",
        "df_copy_tourism = df_tourism.copy()\n",
        "df_copy_tourism.drop(columns=['Unnamed: 11', 'Unnamed: 12', 'Time_Minutes', 'Coordinate', 'Lat', 'Long'], inplace=True)\n",
        "print('Done')"
      ],
      "metadata": {
        "colab": {
          "base_uri": "https://localhost:8080/"
        },
        "id": "eq-StIcYDEYv",
        "outputId": "3ea25c42-5850-42f4-da67-aeb85b593f14"
      },
      "execution_count": 10,
      "outputs": [
        {
          "output_type": "stream",
          "name": "stdout",
          "text": [
            "Done\n"
          ]
        }
      ]
    },
    {
      "cell_type": "code",
      "source": [
        "# Memfilter hanya kota Yogyakarta yang ditampilkan\n",
        "df_copy_tourism = df_copy_tourism[df_copy_tourism['City'] == 'Yogyakarta']\n",
        "df_copy_tourism.head()"
      ],
      "metadata": {
        "colab": {
          "base_uri": "https://localhost:8080/",
          "height": 206
        },
        "id": "7TyduYzrXCzg",
        "outputId": "dc1e92be-f1f5-482e-b32b-d076e0470ab0"
      },
      "execution_count": 11,
      "outputs": [
        {
          "output_type": "execute_result",
          "data": {
            "text/plain": [
              "    Place_Id                           Place_Name  \\\n",
              "84        85              Taman Pintar Yogyakarta   \n",
              "85        86                   Keraton Yogyakarta   \n",
              "86        87           Sindu Kusuma Edupark (SKE)   \n",
              "87        88  Museum Benteng Vredeburg Yogyakarta   \n",
              "88        89                 De Mata Museum Jogja   \n",
              "\n",
              "                                          Description       Category  \\\n",
              "84  Taman Pintar Yogyakarta (bahasa Jawa: Hanacara...  Taman Hiburan   \n",
              "85  Keraton Ngayogyakarta Hadiningrat atau Keraton...         Budaya   \n",
              "86  Sindu Kusuma Edupark (SKE) merupakan sebuah de...  Taman Hiburan   \n",
              "87  Museum Benteng Vredeburg (bahasa Jawa: ꦩꦸꦱꦶꦪꦸꦩ...         Budaya   \n",
              "88  Museum De Mata merupakan salah satu museum yan...         Budaya   \n",
              "\n",
              "          City  Price  Rating  \n",
              "84  Yogyakarta   6000     4.5  \n",
              "85  Yogyakarta  15000     4.6  \n",
              "86  Yogyakarta  20000     4.2  \n",
              "87  Yogyakarta   3000     4.6  \n",
              "88  Yogyakarta  50000     4.4  "
            ],
            "text/html": [
              "\n",
              "  <div id=\"df-c62e8c14-3a3b-4eb1-86ea-4856a5955c48\" class=\"colab-df-container\">\n",
              "    <div>\n",
              "<style scoped>\n",
              "    .dataframe tbody tr th:only-of-type {\n",
              "        vertical-align: middle;\n",
              "    }\n",
              "\n",
              "    .dataframe tbody tr th {\n",
              "        vertical-align: top;\n",
              "    }\n",
              "\n",
              "    .dataframe thead th {\n",
              "        text-align: right;\n",
              "    }\n",
              "</style>\n",
              "<table border=\"1\" class=\"dataframe\">\n",
              "  <thead>\n",
              "    <tr style=\"text-align: right;\">\n",
              "      <th></th>\n",
              "      <th>Place_Id</th>\n",
              "      <th>Place_Name</th>\n",
              "      <th>Description</th>\n",
              "      <th>Category</th>\n",
              "      <th>City</th>\n",
              "      <th>Price</th>\n",
              "      <th>Rating</th>\n",
              "    </tr>\n",
              "  </thead>\n",
              "  <tbody>\n",
              "    <tr>\n",
              "      <th>84</th>\n",
              "      <td>85</td>\n",
              "      <td>Taman Pintar Yogyakarta</td>\n",
              "      <td>Taman Pintar Yogyakarta (bahasa Jawa: Hanacara...</td>\n",
              "      <td>Taman Hiburan</td>\n",
              "      <td>Yogyakarta</td>\n",
              "      <td>6000</td>\n",
              "      <td>4.5</td>\n",
              "    </tr>\n",
              "    <tr>\n",
              "      <th>85</th>\n",
              "      <td>86</td>\n",
              "      <td>Keraton Yogyakarta</td>\n",
              "      <td>Keraton Ngayogyakarta Hadiningrat atau Keraton...</td>\n",
              "      <td>Budaya</td>\n",
              "      <td>Yogyakarta</td>\n",
              "      <td>15000</td>\n",
              "      <td>4.6</td>\n",
              "    </tr>\n",
              "    <tr>\n",
              "      <th>86</th>\n",
              "      <td>87</td>\n",
              "      <td>Sindu Kusuma Edupark (SKE)</td>\n",
              "      <td>Sindu Kusuma Edupark (SKE) merupakan sebuah de...</td>\n",
              "      <td>Taman Hiburan</td>\n",
              "      <td>Yogyakarta</td>\n",
              "      <td>20000</td>\n",
              "      <td>4.2</td>\n",
              "    </tr>\n",
              "    <tr>\n",
              "      <th>87</th>\n",
              "      <td>88</td>\n",
              "      <td>Museum Benteng Vredeburg Yogyakarta</td>\n",
              "      <td>Museum Benteng Vredeburg (bahasa Jawa: ꦩꦸꦱꦶꦪꦸꦩ...</td>\n",
              "      <td>Budaya</td>\n",
              "      <td>Yogyakarta</td>\n",
              "      <td>3000</td>\n",
              "      <td>4.6</td>\n",
              "    </tr>\n",
              "    <tr>\n",
              "      <th>88</th>\n",
              "      <td>89</td>\n",
              "      <td>De Mata Museum Jogja</td>\n",
              "      <td>Museum De Mata merupakan salah satu museum yan...</td>\n",
              "      <td>Budaya</td>\n",
              "      <td>Yogyakarta</td>\n",
              "      <td>50000</td>\n",
              "      <td>4.4</td>\n",
              "    </tr>\n",
              "  </tbody>\n",
              "</table>\n",
              "</div>\n",
              "    <div class=\"colab-df-buttons\">\n",
              "\n",
              "  <div class=\"colab-df-container\">\n",
              "    <button class=\"colab-df-convert\" onclick=\"convertToInteractive('df-c62e8c14-3a3b-4eb1-86ea-4856a5955c48')\"\n",
              "            title=\"Convert this dataframe to an interactive table.\"\n",
              "            style=\"display:none;\">\n",
              "\n",
              "  <svg xmlns=\"http://www.w3.org/2000/svg\" height=\"24px\" viewBox=\"0 -960 960 960\">\n",
              "    <path d=\"M120-120v-720h720v720H120Zm60-500h600v-160H180v160Zm220 220h160v-160H400v160Zm0 220h160v-160H400v160ZM180-400h160v-160H180v160Zm440 0h160v-160H620v160ZM180-180h160v-160H180v160Zm440 0h160v-160H620v160Z\"/>\n",
              "  </svg>\n",
              "    </button>\n",
              "\n",
              "  <style>\n",
              "    .colab-df-container {\n",
              "      display:flex;\n",
              "      gap: 12px;\n",
              "    }\n",
              "\n",
              "    .colab-df-convert {\n",
              "      background-color: #E8F0FE;\n",
              "      border: none;\n",
              "      border-radius: 50%;\n",
              "      cursor: pointer;\n",
              "      display: none;\n",
              "      fill: #1967D2;\n",
              "      height: 32px;\n",
              "      padding: 0 0 0 0;\n",
              "      width: 32px;\n",
              "    }\n",
              "\n",
              "    .colab-df-convert:hover {\n",
              "      background-color: #E2EBFA;\n",
              "      box-shadow: 0px 1px 2px rgba(60, 64, 67, 0.3), 0px 1px 3px 1px rgba(60, 64, 67, 0.15);\n",
              "      fill: #174EA6;\n",
              "    }\n",
              "\n",
              "    .colab-df-buttons div {\n",
              "      margin-bottom: 4px;\n",
              "    }\n",
              "\n",
              "    [theme=dark] .colab-df-convert {\n",
              "      background-color: #3B4455;\n",
              "      fill: #D2E3FC;\n",
              "    }\n",
              "\n",
              "    [theme=dark] .colab-df-convert:hover {\n",
              "      background-color: #434B5C;\n",
              "      box-shadow: 0px 1px 3px 1px rgba(0, 0, 0, 0.15);\n",
              "      filter: drop-shadow(0px 1px 2px rgba(0, 0, 0, 0.3));\n",
              "      fill: #FFFFFF;\n",
              "    }\n",
              "  </style>\n",
              "\n",
              "    <script>\n",
              "      const buttonEl =\n",
              "        document.querySelector('#df-c62e8c14-3a3b-4eb1-86ea-4856a5955c48 button.colab-df-convert');\n",
              "      buttonEl.style.display =\n",
              "        google.colab.kernel.accessAllowed ? 'block' : 'none';\n",
              "\n",
              "      async function convertToInteractive(key) {\n",
              "        const element = document.querySelector('#df-c62e8c14-3a3b-4eb1-86ea-4856a5955c48');\n",
              "        const dataTable =\n",
              "          await google.colab.kernel.invokeFunction('convertToInteractive',\n",
              "                                                    [key], {});\n",
              "        if (!dataTable) return;\n",
              "\n",
              "        const docLinkHtml = 'Like what you see? Visit the ' +\n",
              "          '<a target=\"_blank\" href=https://colab.research.google.com/notebooks/data_table.ipynb>data table notebook</a>'\n",
              "          + ' to learn more about interactive tables.';\n",
              "        element.innerHTML = '';\n",
              "        dataTable['output_type'] = 'display_data';\n",
              "        await google.colab.output.renderOutput(dataTable, element);\n",
              "        const docLink = document.createElement('div');\n",
              "        docLink.innerHTML = docLinkHtml;\n",
              "        element.appendChild(docLink);\n",
              "      }\n",
              "    </script>\n",
              "  </div>\n",
              "\n",
              "\n",
              "<div id=\"df-1bd1885b-19a8-4953-b450-1bfeb395a6e0\">\n",
              "  <button class=\"colab-df-quickchart\" onclick=\"quickchart('df-1bd1885b-19a8-4953-b450-1bfeb395a6e0')\"\n",
              "            title=\"Suggest charts\"\n",
              "            style=\"display:none;\">\n",
              "\n",
              "<svg xmlns=\"http://www.w3.org/2000/svg\" height=\"24px\"viewBox=\"0 0 24 24\"\n",
              "     width=\"24px\">\n",
              "    <g>\n",
              "        <path d=\"M19 3H5c-1.1 0-2 .9-2 2v14c0 1.1.9 2 2 2h14c1.1 0 2-.9 2-2V5c0-1.1-.9-2-2-2zM9 17H7v-7h2v7zm4 0h-2V7h2v10zm4 0h-2v-4h2v4z\"/>\n",
              "    </g>\n",
              "</svg>\n",
              "  </button>\n",
              "\n",
              "<style>\n",
              "  .colab-df-quickchart {\n",
              "      --bg-color: #E8F0FE;\n",
              "      --fill-color: #1967D2;\n",
              "      --hover-bg-color: #E2EBFA;\n",
              "      --hover-fill-color: #174EA6;\n",
              "      --disabled-fill-color: #AAA;\n",
              "      --disabled-bg-color: #DDD;\n",
              "  }\n",
              "\n",
              "  [theme=dark] .colab-df-quickchart {\n",
              "      --bg-color: #3B4455;\n",
              "      --fill-color: #D2E3FC;\n",
              "      --hover-bg-color: #434B5C;\n",
              "      --hover-fill-color: #FFFFFF;\n",
              "      --disabled-bg-color: #3B4455;\n",
              "      --disabled-fill-color: #666;\n",
              "  }\n",
              "\n",
              "  .colab-df-quickchart {\n",
              "    background-color: var(--bg-color);\n",
              "    border: none;\n",
              "    border-radius: 50%;\n",
              "    cursor: pointer;\n",
              "    display: none;\n",
              "    fill: var(--fill-color);\n",
              "    height: 32px;\n",
              "    padding: 0;\n",
              "    width: 32px;\n",
              "  }\n",
              "\n",
              "  .colab-df-quickchart:hover {\n",
              "    background-color: var(--hover-bg-color);\n",
              "    box-shadow: 0 1px 2px rgba(60, 64, 67, 0.3), 0 1px 3px 1px rgba(60, 64, 67, 0.15);\n",
              "    fill: var(--button-hover-fill-color);\n",
              "  }\n",
              "\n",
              "  .colab-df-quickchart-complete:disabled,\n",
              "  .colab-df-quickchart-complete:disabled:hover {\n",
              "    background-color: var(--disabled-bg-color);\n",
              "    fill: var(--disabled-fill-color);\n",
              "    box-shadow: none;\n",
              "  }\n",
              "\n",
              "  .colab-df-spinner {\n",
              "    border: 2px solid var(--fill-color);\n",
              "    border-color: transparent;\n",
              "    border-bottom-color: var(--fill-color);\n",
              "    animation:\n",
              "      spin 1s steps(1) infinite;\n",
              "  }\n",
              "\n",
              "  @keyframes spin {\n",
              "    0% {\n",
              "      border-color: transparent;\n",
              "      border-bottom-color: var(--fill-color);\n",
              "      border-left-color: var(--fill-color);\n",
              "    }\n",
              "    20% {\n",
              "      border-color: transparent;\n",
              "      border-left-color: var(--fill-color);\n",
              "      border-top-color: var(--fill-color);\n",
              "    }\n",
              "    30% {\n",
              "      border-color: transparent;\n",
              "      border-left-color: var(--fill-color);\n",
              "      border-top-color: var(--fill-color);\n",
              "      border-right-color: var(--fill-color);\n",
              "    }\n",
              "    40% {\n",
              "      border-color: transparent;\n",
              "      border-right-color: var(--fill-color);\n",
              "      border-top-color: var(--fill-color);\n",
              "    }\n",
              "    60% {\n",
              "      border-color: transparent;\n",
              "      border-right-color: var(--fill-color);\n",
              "    }\n",
              "    80% {\n",
              "      border-color: transparent;\n",
              "      border-right-color: var(--fill-color);\n",
              "      border-bottom-color: var(--fill-color);\n",
              "    }\n",
              "    90% {\n",
              "      border-color: transparent;\n",
              "      border-bottom-color: var(--fill-color);\n",
              "    }\n",
              "  }\n",
              "</style>\n",
              "\n",
              "  <script>\n",
              "    async function quickchart(key) {\n",
              "      const quickchartButtonEl =\n",
              "        document.querySelector('#' + key + ' button');\n",
              "      quickchartButtonEl.disabled = true;  // To prevent multiple clicks.\n",
              "      quickchartButtonEl.classList.add('colab-df-spinner');\n",
              "      try {\n",
              "        const charts = await google.colab.kernel.invokeFunction(\n",
              "            'suggestCharts', [key], {});\n",
              "      } catch (error) {\n",
              "        console.error('Error during call to suggestCharts:', error);\n",
              "      }\n",
              "      quickchartButtonEl.classList.remove('colab-df-spinner');\n",
              "      quickchartButtonEl.classList.add('colab-df-quickchart-complete');\n",
              "    }\n",
              "    (() => {\n",
              "      let quickchartButtonEl =\n",
              "        document.querySelector('#df-1bd1885b-19a8-4953-b450-1bfeb395a6e0 button');\n",
              "      quickchartButtonEl.style.display =\n",
              "        google.colab.kernel.accessAllowed ? 'block' : 'none';\n",
              "    })();\n",
              "  </script>\n",
              "</div>\n",
              "\n",
              "    </div>\n",
              "  </div>\n"
            ],
            "application/vnd.google.colaboratory.intrinsic+json": {
              "type": "dataframe",
              "variable_name": "df_copy_tourism",
              "summary": "{\n  \"name\": \"df_copy_tourism\",\n  \"rows\": 126,\n  \"fields\": [\n    {\n      \"column\": \"Place_Id\",\n      \"properties\": {\n        \"dtype\": \"number\",\n        \"std\": 36,\n        \"min\": 85,\n        \"max\": 210,\n        \"num_unique_values\": 126,\n        \"samples\": [\n          158,\n          104,\n          201\n        ],\n        \"semantic_type\": \"\",\n        \"description\": \"\"\n      }\n    },\n    {\n      \"column\": \"Place_Name\",\n      \"properties\": {\n        \"dtype\": \"string\",\n        \"num_unique_values\": 126,\n        \"samples\": [\n          \"Pantai Pok Tunggal\",\n          \"Tebing Breksi\",\n          \"Pantai Kesirat\"\n        ],\n        \"semantic_type\": \"\",\n        \"description\": \"\"\n      }\n    },\n    {\n      \"column\": \"Description\",\n      \"properties\": {\n        \"dtype\": \"string\",\n        \"num_unique_values\": 126,\n        \"samples\": [\n          \"Pantai Pok Tunggal atau biasa disebut \\\"the hidden paradise\\\" (surga yang tersembunyi) adalah salah satu objek wisata yang ada di Yogyakarta tepatnya di Desa Tepus, Tepus, Gunung Kidul, Yogyakarta. Jika dihitung dari kota, maka jarak tempuhnya sejauh 80 km atau sekitar 2 jam perjalanan.\\\\nNama Pantai Pok Tunggal diambil karena dipantai tersebut terdapat sebuah pohon duras tua yang berdiri kokoh hingga saat ini. Pantai ini dikelilingi oleh tebing perbukitan karst. Terdapat tebing-tebing karang yang ditumbuhi oleh pepohonan yang lebat dan didalamnya dihuni oleh kera-kera yang jinak. Uniknya, pantai ini memiliki aliran sungai air tawar dibawah tanah yang menjadi sumber kehidupan bagi masyarakat sekitar pantai. Layaknya pantai selatan lainnya, Pantai Pok Tunggal memiliki pasir putih yang halus dan membentang sepanjang pantai. Sampai saat ini Pantai Pok Tunggal masih terjaga kebersihan dan kealamiannya.\\\\nPantai ini sangat ramai dikunjungi baik saat liburan maupun saat hari biasa. Terdapat banyak sekali aktivitas-aktivitas yang ditawarkan di Pantai Pok Tunggal, seperti diving, snorkeling, berenang, berkemah, berfoto di spot-spot foto yang indah, hingga aktivitas ekstrem seperti rock climbing.\",\n          \"Tebing Breksi merupakan tempat wisata yang berada di wilayah Kabupaten Sleman. Lokasinya berada di sebelah selatan Candi Prambanan dan berdekatan dengan Candi Ijo serta Kompleks Keraton Boko. Lokasi Wisata Tebing Breksi tepatnya berada di Desa Sambirejo, Prambanan, Kabupaten Sleman, Daerah Istimewa Yogyakarta 55572.\",\n          \"Pada umumnya pantai identik dengan pasirnya bukan, namun pantai kesirat memiliki keunikan tersendiri yang akan anda temukan disini. Pantai kesirat tidak memiliki pasir namun anda akan menemukan tebing tebing yang memeiliki struktur yang cantik kemudian anda kana menikmati pantai di atasnya, tempat ini juga sangat cocok untuk menikmati sunset. Keindahan pantai ini membuat semua orang tidak bisa melupakannya seperti janji mantan hehee.. pantai kesirat memiliki spot spot foto yang instagramable banget cocok sekali untuk kamu yang suka berfoto. Keunikan lain yang menjadi ciri khas dari wisata Pantai Kesirat adalah hadirnya sebuah pohon yang tampak berdiri kokoh yang menjadi ikon dari tempat wisata ini. Banyak wisatawan yang memanfaatkan pohon ini sebagai latar belakang foto mereka.\"\n        ],\n        \"semantic_type\": \"\",\n        \"description\": \"\"\n      }\n    },\n    {\n      \"column\": \"Category\",\n      \"properties\": {\n        \"dtype\": \"category\",\n        \"num_unique_values\": 5,\n        \"samples\": [\n          \"Budaya\",\n          \"Pusat Perbelanjaan\",\n          \"Cagar Alam\"\n        ],\n        \"semantic_type\": \"\",\n        \"description\": \"\"\n      }\n    },\n    {\n      \"column\": \"City\",\n      \"properties\": {\n        \"dtype\": \"category\",\n        \"num_unique_values\": 1,\n        \"samples\": [\n          \"Yogyakarta\"\n        ],\n        \"semantic_type\": \"\",\n        \"description\": \"\"\n      }\n    },\n    {\n      \"column\": \"Price\",\n      \"properties\": {\n        \"dtype\": \"number\",\n        \"std\": 55219,\n        \"min\": 0,\n        \"max\": 500000,\n        \"num_unique_values\": 24,\n        \"samples\": [\n          7000\n        ],\n        \"semantic_type\": \"\",\n        \"description\": \"\"\n      }\n    },\n    {\n      \"column\": \"Rating\",\n      \"properties\": {\n        \"dtype\": \"number\",\n        \"std\": 0.1738965209542733,\n        \"min\": 4.0,\n        \"max\": 5.0,\n        \"num_unique_values\": 10,\n        \"samples\": [\n          4.8\n        ],\n        \"semantic_type\": \"\",\n        \"description\": \"\"\n      }\n    }\n  ]\n}"
            }
          },
          "metadata": {},
          "execution_count": 11
        }
      ]
    },
    {
      "cell_type": "markdown",
      "source": [
        "Kesimpulan dari sesi `Data Understanding`, didapat,\n",
        "- Dataset memiliki 437 sample dengan jumlah kolom sebanyak 13.\n",
        "- Terdapat fitur `Time_Minutes` dengan missing value sebanyak 232 dan kolom `Unnamed: 11` sebanyak 437.\n",
        "- Tidak terdapat data yang duplikat.\n",
        "- Namun, kita mendrop beberapa fitur yang tidak terpakai yaitu `Time_Minutes`, `Unnamed: 11`, dan `Unnamed: 12`.\n",
        "- Memfilter data dalam DataFrame `df_copy_tourism` sehingga hanya menampilkan baris-baris yang memiliki nilai kolom `City` sama dengan 'Yogyakarta'\n",
        "- Dataset memiliki 3 fitur `int64`, 5 `object`, dan 5 `float64`."
      ],
      "metadata": {
        "id": "GgCO2WRHC2s7"
      }
    },
    {
      "cell_type": "markdown",
      "source": [
        "#### 2.1.2 Visualisasi Data"
      ],
      "metadata": {
        "id": "i0KxH2T9VS0F"
      }
    },
    {
      "cell_type": "code",
      "source": [
        "# Membuat visualisasi jumlah kategori wisata\n",
        "\n",
        "sns.countplot(x='Category', data=df_copy_tourism)\n",
        "plt.title('Jumlah Kategori Wisata')\n",
        "plt.show()"
      ],
      "metadata": {
        "id": "6qjPTu3Zukau",
        "colab": {
          "base_uri": "https://localhost:8080/",
          "height": 472
        },
        "outputId": "2b41940e-0f34-4e1f-bcc9-6f8ff091bf53"
      },
      "execution_count": 12,
      "outputs": [
        {
          "output_type": "display_data",
          "data": {
            "text/plain": [
              "<Figure size 640x480 with 1 Axes>"
            ],
            "image/png": "[encoded data removed]"
          },
          "metadata": {}
        }
      ]
    },
    {
      "cell_type": "code",
      "source": [
        "# Visualisasi rating tempat wisata\n",
        "\n",
        "plt.figure(figsize=(10, 6))\n",
        "sns.histplot(df_copy_tourism['Rating'], bins=10, kde=True)\n",
        "plt.title('Distribusi Rating Tempat Wisata')\n",
        "plt.xlabel('Rating')"
      ],
      "metadata": {
        "colab": {
          "base_uri": "https://localhost:8080/",
          "height": 581
        },
        "id": "FXEmnejrV-uG",
        "outputId": "da00325c-5cd1-49b9-8251-5ea80c8b1fff"
      },
      "execution_count": 13,
      "outputs": [
        {
          "output_type": "execute_result",
          "data": {
            "text/plain": [
              "Text(0.5, 0, 'Rating')"
            ]
          },
          "metadata": {},
          "execution_count": 13
        },
        {
          "output_type": "display_data",
          "data": {
            "text/plain": [
              "<Figure size 1000x600 with 1 Axes>"
            ],
            "image/png": "[encoded data removed]"
          },
          "metadata": {}
        }
      ]
    },
    {
      "cell_type": "markdown",
      "source": [
        "## 3. Data Preparation"
      ],
      "metadata": {
        "id": "d854Qd63uk3J"
      }
    },
    {
      "cell_type": "markdown",
      "source": [
        "#### 3.1. Label Encoding"
      ],
      "metadata": {
        "id": "Sxyv57OkVnpK"
      }
    },
    {
      "cell_type": "code",
      "source": [],
      "metadata": {
        "id": "sW1pQWBGuuoF"
      },
      "execution_count": 13,
      "outputs": []
    },
    {
      "cell_type": "markdown",
      "source": [
        "#### 3.2. Train-Test-Split"
      ],
      "metadata": {
        "id": "QmXT70LauvHG"
      }
    },
    {
      "cell_type": "code",
      "source": [],
      "metadata": {
        "id": "r3kb7aVLuzqw"
      },
      "execution_count": 13,
      "outputs": []
    },
    {
      "cell_type": "markdown",
      "source": [
        "## 4. Model Development"
      ],
      "metadata": {
        "id": "FWufdjSYu0b_"
      }
    },
    {
      "cell_type": "code",
      "source": [],
      "metadata": {
        "id": "q9CZWrTOu4Cv"
      },
      "execution_count": 13,
      "outputs": []
    },
    {
      "cell_type": "markdown",
      "source": [
        "## 5. Evaluation"
      ],
      "metadata": {
        "id": "Y1EkVn1ru4bw"
      }
    },
    {
      "cell_type": "code",
      "source": [],
      "metadata": {
        "id": "_T9LDA_8u7vN"
      },
      "execution_count": 13,
      "outputs": []
    }
  ]
}