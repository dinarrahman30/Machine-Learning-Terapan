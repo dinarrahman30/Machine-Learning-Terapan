{
  "nbformat": 4,
  "nbformat_minor": 0,
  "metadata": {
    "colab": {
      "provenance": [],
      "authorship_tag": "ABX9TyPuc3gYcjwwO08BMMllZiyE",
      "include_colab_link": true
    },
    "kernelspec": {
      "name": "python3",
      "display_name": "Python 3"
    },
    "language_info": {
      "name": "python"
    }
  },
  "cells": [
    {
      "cell_type": "markdown",
      "metadata": {
        "id": "view-in-github",
        "colab_type": "text"
      },
      "source": [
        "<a href=\"https://colab.research.google.com/github/dinarrahman30/Machine-Learning-Terapan/blob/main/Recommender_System.ipynb\" target=\"_parent\"><img src=\"https://colab.research.google.com/assets/colab-badge.svg\" alt=\"Open In Colab\"/></a>"
      ]
    },
    {
      "cell_type": "markdown",
      "source": [
        "# Informasi Data Diri\n",
        "Nama: Dinar Wahyu Rahman\n",
        "\n",
        "Username Dicoding: dinar_wahyu\n",
        "\n",
        "Email: dinarrahman30@gmail.com\n",
        "\n",
        "LinkedIn: [Dinar Wahyu Rahman]('https:www.linkedin.com/in/dinar-wahyu-rahman/')"
      ],
      "metadata": {
        "id": "rOVORma9t_aj"
      }
    },
    {
      "cell_type": "markdown",
      "source": [
        "# Recommender System (Sistem Rekomendasi)\n",
        "Proyek akhir pada kelas Machine Learning Terapan by Dicoding Academy"
      ],
      "metadata": {
        "id": "joGH3_9muAgr"
      }
    },
    {
      "cell_type": "markdown",
      "source": [
        "## 1. Deskripsi Proyek Sistem Rekomendasi Destinasi Wisata di Kota Yogyakarta dengan Collaborative Filtering\n",
        "\n",
        "![Foto](https://opinijogja.com/wp-content/uploads/2023/02/Wisata.jpg)\n",
        "\n",
        "Pariwisata menjadi salah satu bidang andalan perekonomian negara Indonesia. Kota Yogyakarta adalah salah satu destinasi wisata terpopuler di Indonesia, menawarkan berbagai jenis tempat wisata mulai dari wisata budaya, sejarah, alam, hingga kuliner. Dengan banyaknya pilihan, wisatawan sering menghadapi kesulitan dalam menentukan destinasi yang sesuai dengan minat mereka. Selain itu, platform pariwisata sering kali memberikan rekomendasi generik yang kurang relevan dengan preferensi individu.\n",
        "\n",
        "Untuk mengatasi masalah ini, sistem rekomendasi destinasi wisata berbasis Collaborative Filtering dirancang untuk memberikan rekomendasi yang personal dan sesuai dengan preferensi pengguna, khususnya bagi wisatawan yang berkunjung ke Kota Yogyakarta."
      ],
      "metadata": {
        "id": "tQIqVjVfuMS9"
      }
    },
    {
      "cell_type": "markdown",
      "source": [
        "### 1.1. Import library yang dibutuhkan"
      ],
      "metadata": {
        "id": "gXYiyH-1uQUC"
      }
    },
    {
      "cell_type": "code",
      "execution_count": 2,
      "metadata": {
        "id": "QNABK6qZt3m2"
      },
      "outputs": [],
      "source": [
        "import pandas as pd\n",
        "import matplotlib.pyplot as plt\n",
        "import numpy as np\n",
        "import seaborn as sns\n",
        "import warnings\n",
        "warnings.filterwarnings('ignore')"
      ]
    },
    {
      "cell_type": "markdown",
      "source": [
        "### 1.2. Data Collection"
      ],
      "metadata": {
        "id": "yaAmxoCtE7at"
      }
    },
    {
      "cell_type": "markdown",
      "source": [
        "Dataset diambil dari situs [Kaggle](https://www.kaggle.com/aprabowo/indonesia-tourism-destination)"
      ],
      "metadata": {
        "id": "fBqryhofC06j"
      }
    },
    {
      "cell_type": "code",
      "source": [
        "!pip install kaggle"
      ],
      "metadata": {
        "id": "AJEJxsglEBZ7",
        "colab": {
          "base_uri": "https://localhost:8080/"
        },
        "outputId": "13f5c797-1be0-402d-cc26-b17af2f60010"
      },
      "execution_count": 3,
      "outputs": [
        {
          "output_type": "stream",
          "name": "stdout",
          "text": [
            "Requirement already satisfied: kaggle in /usr/local/lib/python3.10/dist-packages (1.6.17)\n",
            "Requirement already satisfied: six>=1.10 in /usr/local/lib/python3.10/dist-packages (from kaggle) (1.17.0)\n",
            "Requirement already satisfied: certifi>=2023.7.22 in /usr/local/lib/python3.10/dist-packages (from kaggle) (2024.8.30)\n",
            "Requirement already satisfied: python-dateutil in /usr/local/lib/python3.10/dist-packages (from kaggle) (2.8.2)\n",
            "Requirement already satisfied: requests in /usr/local/lib/python3.10/dist-packages (from kaggle) (2.32.3)\n",
            "Requirement already satisfied: tqdm in /usr/local/lib/python3.10/dist-packages (from kaggle) (4.66.6)\n",
            "Requirement already satisfied: python-slugify in /usr/local/lib/python3.10/dist-packages (from kaggle) (8.0.4)\n",
            "Requirement already satisfied: urllib3 in /usr/local/lib/python3.10/dist-packages (from kaggle) (2.2.3)\n",
            "Requirement already satisfied: bleach in /usr/local/lib/python3.10/dist-packages (from kaggle) (6.2.0)\n",
            "Requirement already satisfied: webencodings in /usr/local/lib/python3.10/dist-packages (from bleach->kaggle) (0.5.1)\n",
            "Requirement already satisfied: text-unidecode>=1.3 in /usr/local/lib/python3.10/dist-packages (from python-slugify->kaggle) (1.3)\n",
            "Requirement already satisfied: charset-normalizer<4,>=2 in /usr/local/lib/python3.10/dist-packages (from requests->kaggle) (3.4.0)\n",
            "Requirement already satisfied: idna<4,>=2.5 in /usr/local/lib/python3.10/dist-packages (from requests->kaggle) (3.10)\n"
          ]
        }
      ]
    },
    {
      "cell_type": "code",
      "source": [
        "!kaggle datasets download -d aprabowo/indonesia-tourism-destination"
      ],
      "metadata": {
        "id": "rKM9JBxvEJgG",
        "colab": {
          "base_uri": "https://localhost:8080/"
        },
        "outputId": "e8e9c471-972c-4b28-a6ed-aad2cbad9dba"
      },
      "execution_count": 4,
      "outputs": [
        {
          "output_type": "stream",
          "name": "stdout",
          "text": [
            "Dataset URL: https://www.kaggle.com/datasets/aprabowo/indonesia-tourism-destination\n",
            "License(s): copyright-authors\n",
            "Downloading indonesia-tourism-destination.zip to /content\n",
            "  0% 0.00/158k [00:00<?, ?B/s]\n",
            "100% 158k/158k [00:00<00:00, 72.7MB/s]\n"
          ]
        }
      ]
    },
    {
      "cell_type": "code",
      "source": [
        "!unzip /content/indonesia-tourism-destination.zip"
      ],
      "metadata": {
        "id": "w4cP6UhhESkr",
        "colab": {
          "base_uri": "https://localhost:8080/"
        },
        "outputId": "c68ba7ed-4508-41c7-b314-f0ced163cd6d"
      },
      "execution_count": 5,
      "outputs": [
        {
          "output_type": "stream",
          "name": "stdout",
          "text": [
            "Archive:  /content/indonesia-tourism-destination.zip\n",
            "  inflating: package_tourism.csv     \n",
            "  inflating: tourism_rating.csv      \n",
            "  inflating: tourism_with_id.csv     \n",
            "  inflating: user.csv                \n"
          ]
        }
      ]
    },
    {
      "cell_type": "markdown",
      "source": [
        "Dalam dataset terdapat 4 buah file bertipe csv (Comma-Seperated Values), yaitu\n",
        "- `tourism_with_id.csv`: mengandung informasi tempak wisata di 5 kota besar di Indonesia (hanya kota Yogyakarta yang dipakai).\n",
        "- `user.csv`: mengandung informasi pengguna untuk membuat rekomendasi fitur berdasar pengguna.\n",
        "- `tourism_rating.csv`: mengandung informasi pengguna, tempat wisata, dan rating untuk membuat sistem rekomendasi berdasar rating.\n",
        "- `package_tourism.csv`: berisi rekomendasi tempat terdekat berdasarkan waktu, biaya, dan peringkat.\n"
      ],
      "metadata": {
        "id": "WL1ihRabY_eX"
      }
    },
    {
      "cell_type": "markdown",
      "source": [
        "## 2. Data Understanding"
      ],
      "metadata": {
        "id": "65E9-sa4uU3n"
      }
    },
    {
      "cell_type": "code",
      "source": [
        "df_rating = pd.read_csv(\"/content/tourism_rating.csv\")\n",
        "df_tourism = pd.read_csv(\"/content/tourism_with_id.csv\")\n",
        "df_user = pd.read_csv(\"/content/user.csv\")\n",
        "df_package = pd.read_csv(\"/content/package_tourism.csv\")\n",
        "\n",
        "print(df_rating.head())\n",
        "print(\"-\" * 50)\n",
        "print(df_tourism.head())\n",
        "print(\"-\" * 50)\n",
        "print(df_user.head())\n",
        "print(\"-\" * 50)\n",
        "print(df_package.head())"
      ],
      "metadata": {
        "id": "WgD4c99quc9q",
        "colab": {
          "base_uri": "https://localhost:8080/"
        },
        "outputId": "a63382cd-36bd-485b-84bd-df41e57323e7"
      },
      "execution_count": 6,
      "outputs": [
        {
          "output_type": "stream",
          "name": "stdout",
          "text": [
            "   User_Id  Place_Id  Place_Ratings\n",
            "0        1       179              3\n",
            "1        1       344              2\n",
            "2        1         5              5\n",
            "3        1       373              3\n",
            "4        1       101              4\n",
            "--------------------------------------------------\n",
            "   Place_Id                         Place_Name  \\\n",
            "0         1                   Monumen Nasional   \n",
            "1         2                           Kota Tua   \n",
            "2         3                      Dunia Fantasi   \n",
            "3         4  Taman Mini Indonesia Indah (TMII)   \n",
            "4         5           Atlantis Water Adventure   \n",
            "\n",
            "                                         Description       Category     City  \\\n",
            "0  Monumen Nasional atau yang populer disingkat d...         Budaya  Jakarta   \n",
            "1  Kota tua di Jakarta, yang juga bernama Kota Tu...         Budaya  Jakarta   \n",
            "2  Dunia Fantasi atau disebut juga Dufan adalah t...  Taman Hiburan  Jakarta   \n",
            "3  Taman Mini Indonesia Indah merupakan suatu kaw...  Taman Hiburan  Jakarta   \n",
            "4  Atlantis Water Adventure atau dikenal dengan A...  Taman Hiburan  Jakarta   \n",
            "\n",
            "    Price  Rating  Time_Minutes  \\\n",
            "0   20000     4.6          15.0   \n",
            "1       0     4.6          90.0   \n",
            "2  270000     4.6         360.0   \n",
            "3   10000     4.5           NaN   \n",
            "4   94000     4.5          60.0   \n",
            "\n",
            "                                        Coordinate       Lat        Long  \\\n",
            "0          {'lat': -6.1753924, 'lng': 106.8271528} -6.175392  106.827153   \n",
            "1  {'lat': -6.137644799999999, 'lng': 106.8171245} -6.137645  106.817125   \n",
            "2  {'lat': -6.125312399999999, 'lng': 106.8335377} -6.125312  106.833538   \n",
            "3  {'lat': -6.302445899999999, 'lng': 106.8951559} -6.302446  106.895156   \n",
            "4             {'lat': -6.12419, 'lng': 106.839134} -6.124190  106.839134   \n",
            "\n",
            "   Unnamed: 11  Unnamed: 12  \n",
            "0          NaN            1  \n",
            "1          NaN            2  \n",
            "2          NaN            3  \n",
            "3          NaN            4  \n",
            "4          NaN            5  \n",
            "--------------------------------------------------\n",
            "   User_Id                   Location  Age\n",
            "0        1      Semarang, Jawa Tengah   20\n",
            "1        2         Bekasi, Jawa Barat   21\n",
            "2        3        Cirebon, Jawa Barat   23\n",
            "3        4         Bekasi, Jawa Barat   21\n",
            "4        5  Lampung, Sumatera Selatan   20\n",
            "--------------------------------------------------\n",
            "   Package     City         Place_Tourism1      Place_Tourism2  \\\n",
            "0        1  Jakarta      Pasar Tanah Abang        Taman Ayodya   \n",
            "1        2  Jakarta      Pasar Tanah Abang  Pasar Taman Puring   \n",
            "2        3  Jakarta  Perpustakaan Nasional               Monas   \n",
            "3        4  Jakarta           Pulau Tidung      Pulau Bidadari   \n",
            "4        5  Jakarta  Museum Satria Mandala       Museum Wayang   \n",
            "\n",
            "          Place_Tourism3                                     Place_Tourism4  \\\n",
            "0         Museum Tekstil                                                NaN   \n",
            "1   Pasar Petak Sembilan                                                NaN   \n",
            "2        Masjid Istiqlal                                                NaN   \n",
            "3             Pulau Pari                                      Pulau Pramuka   \n",
            "4  Museum Bahari Jakarta  Museum Macan (Modern and Contemporary Art in N...   \n",
            "\n",
            "  Place_Tourism5  \n",
            "0            NaN  \n",
            "1            NaN  \n",
            "2            NaN  \n",
            "3  Pulau Pelangi  \n",
            "4            NaN  \n"
          ]
        }
      ]
    },
    {
      "cell_type": "markdown",
      "source": [
        "Untuk pemodelan machine learning pada kasus ini, kita hanya akan menggunakan file `tourism_with_id.csv`"
      ],
      "metadata": {
        "id": "3clc-SjkmF05"
      }
    },
    {
      "cell_type": "markdown",
      "source": [
        "#### 2.1. Exploratory Data Analytics (EDA)"
      ],
      "metadata": {
        "id": "xnOG_DG7ubML"
      }
    },
    {
      "cell_type": "code",
      "source": [
        "print(df_tourism.info())"
      ],
      "metadata": {
        "id": "cyTf-owTbHk8",
        "colab": {
          "base_uri": "https://localhost:8080/"
        },
        "outputId": "1ff047fa-4963-4f8a-ca00-fa00eed7a5bd"
      },
      "execution_count": 7,
      "outputs": [
        {
          "output_type": "stream",
          "name": "stdout",
          "text": [
            "<class 'pandas.core.frame.DataFrame'>\n",
            "RangeIndex: 437 entries, 0 to 436\n",
            "Data columns (total 13 columns):\n",
            " #   Column        Non-Null Count  Dtype  \n",
            "---  ------        --------------  -----  \n",
            " 0   Place_Id      437 non-null    int64  \n",
            " 1   Place_Name    437 non-null    object \n",
            " 2   Description   437 non-null    object \n",
            " 3   Category      437 non-null    object \n",
            " 4   City          437 non-null    object \n",
            " 5   Price         437 non-null    int64  \n",
            " 6   Rating        437 non-null    float64\n",
            " 7   Time_Minutes  205 non-null    float64\n",
            " 8   Coordinate    437 non-null    object \n",
            " 9   Lat           437 non-null    float64\n",
            " 10  Long          437 non-null    float64\n",
            " 11  Unnamed: 11   0 non-null      float64\n",
            " 12  Unnamed: 12   437 non-null    int64  \n",
            "dtypes: float64(5), int64(3), object(5)\n",
            "memory usage: 44.5+ KB\n",
            "None\n"
          ]
        }
      ]
    },
    {
      "cell_type": "markdown",
      "source": [
        "Dari output `.info()` dapat disimpulkan bahwa:\n",
        "- `Place_Id`: ID dari setiap tempat wisata yang digunakan untuk membedakan tempat satu dengan lainnya.\n",
        "- `Place_Name`: Nama tempat wisata\n",
        "- `Description`: Deskripsi singkat tentang tempat wisata, mencakup informasi utama yang menarik perhatian wisatawan, seperti daya tarik utama atau sejarah singkat.\n",
        "- `Category`: Kategori tempat wisata, seperti \"Budaya\", \"Sejarah\", \"Alam\", atau \"Kuliner\".\n",
        "- `City`: Kota tempat wisata tersebut berada, misalnya \"Yogyakarta\".\n",
        "- `Price`: Harga masuk atau biaya yang diperlukan untuk menikmati tempat wisata tersebut (dapat berupa nominal dalam mata uang tertentu).\n",
        "- `Rating`: Penilaian rata-rata dari pengunjung, biasanya dalam skala tertentu (misalnya 1-5).\n",
        "- `Time_Minutes`: Estimasi waktu yang diperlukan untuk menikmati atau mengunjungi tempat wisata tersebut (dalam satuan menit).\n",
        "- `Coordinate`: Informasi lokasi dalam bentuk koordinat geografis yang mungkin mencakup kombinasi latitude (Lat) dan longitude (Long).\n",
        "- `Lat`: Latitude, yaitu garis lintang yang menunjukkan lokasi tempat wisata di peta.\n",
        "- `Long`: Longitude, yaitu garis bujur yang menunjukkan lokasi tempat wisata di peta.\n",
        "- `Unnamed: 11`: Kolom yang berisi nilai NaN.\n",
        "- `Unnamed; 12`: Kolom yang berisi angka."
      ],
      "metadata": {
        "id": "fEIQjU8Jbg4T"
      }
    },
    {
      "cell_type": "code",
      "source": [
        "print(\"Shape of df_tourism:\", df_tourism.shape)"
      ],
      "metadata": {
        "id": "KGc1bgHHeL9R",
        "colab": {
          "base_uri": "https://localhost:8080/"
        },
        "outputId": "3a8a0f8a-6ba7-4e24-bb33-aefa3f44776d"
      },
      "execution_count": 8,
      "outputs": [
        {
          "output_type": "stream",
          "name": "stdout",
          "text": [
            "Shape of df_tourism: (437, 13)\n"
          ]
        }
      ]
    },
    {
      "cell_type": "markdown",
      "source": [
        "Dari eksekusi method `.shape` Terlihat:\n",
        "\n",
        "| Jumlah Baris\t| Jumlah Kolom |\n",
        "| ------ | ------ |\n",
        "| 437 |\t13 |"
      ],
      "metadata": {
        "id": "GSs9pqjaEaw5"
      }
    },
    {
      "cell_type": "markdown",
      "source": [
        "#### 2.1.1. Checking Missing Value"
      ],
      "metadata": {
        "id": "rIyBjRf61kSV"
      }
    },
    {
      "cell_type": "code",
      "source": [
        "# Cek data duplicated\n",
        "df_tourism.duplicated().sum()"
      ],
      "metadata": {
        "colab": {
          "base_uri": "https://localhost:8080/"
        },
        "id": "SIHpW1PuCcye",
        "outputId": "324ac5ee-3c8e-4bea-c47f-aeca0169c5a6"
      },
      "execution_count": 9,
      "outputs": [
        {
          "output_type": "execute_result",
          "data": {
            "text/plain": [
              "0"
            ]
          },
          "metadata": {},
          "execution_count": 9
        }
      ]
    },
    {
      "cell_type": "code",
      "source": [
        "# Cek missing value\n",
        "df_tourism.isnull().sum()"
      ],
      "metadata": {
        "colab": {
          "base_uri": "https://localhost:8080/",
          "height": 491
        },
        "id": "8Tq17wGHCYC7",
        "outputId": "9fdceeaf-d296-4a9a-c02e-e68cbc01773a"
      },
      "execution_count": 10,
      "outputs": [
        {
          "output_type": "execute_result",
          "data": {
            "text/plain": [
              "Place_Id          0\n",
              "Place_Name        0\n",
              "Description       0\n",
              "Category          0\n",
              "City              0\n",
              "Price             0\n",
              "Rating            0\n",
              "Time_Minutes    232\n",
              "Coordinate        0\n",
              "Lat               0\n",
              "Long              0\n",
              "Unnamed: 11     437\n",
              "Unnamed: 12       0\n",
              "dtype: int64"
            ],
            "text/html": [
              "<div>\n",
              "<style scoped>\n",
              "    .dataframe tbody tr th:only-of-type {\n",
              "        vertical-align: middle;\n",
              "    }\n",
              "\n",
              "    .dataframe tbody tr th {\n",
              "        vertical-align: top;\n",
              "    }\n",
              "\n",
              "    .dataframe thead th {\n",
              "        text-align: right;\n",
              "    }\n",
              "</style>\n",
              "<table border=\"1\" class=\"dataframe\">\n",
              "  <thead>\n",
              "    <tr style=\"text-align: right;\">\n",
              "      <th></th>\n",
              "      <th>0</th>\n",
              "    </tr>\n",
              "  </thead>\n",
              "  <tbody>\n",
              "    <tr>\n",
              "      <th>Place_Id</th>\n",
              "      <td>0</td>\n",
              "    </tr>\n",
              "    <tr>\n",
              "      <th>Place_Name</th>\n",
              "      <td>0</td>\n",
              "    </tr>\n",
              "    <tr>\n",
              "      <th>Description</th>\n",
              "      <td>0</td>\n",
              "    </tr>\n",
              "    <tr>\n",
              "      <th>Category</th>\n",
              "      <td>0</td>\n",
              "    </tr>\n",
              "    <tr>\n",
              "      <th>City</th>\n",
              "      <td>0</td>\n",
              "    </tr>\n",
              "    <tr>\n",
              "      <th>Price</th>\n",
              "      <td>0</td>\n",
              "    </tr>\n",
              "    <tr>\n",
              "      <th>Rating</th>\n",
              "      <td>0</td>\n",
              "    </tr>\n",
              "    <tr>\n",
              "      <th>Time_Minutes</th>\n",
              "      <td>232</td>\n",
              "    </tr>\n",
              "    <tr>\n",
              "      <th>Coordinate</th>\n",
              "      <td>0</td>\n",
              "    </tr>\n",
              "    <tr>\n",
              "      <th>Lat</th>\n",
              "      <td>0</td>\n",
              "    </tr>\n",
              "    <tr>\n",
              "      <th>Long</th>\n",
              "      <td>0</td>\n",
              "    </tr>\n",
              "    <tr>\n",
              "      <th>Unnamed: 11</th>\n",
              "      <td>437</td>\n",
              "    </tr>\n",
              "    <tr>\n",
              "      <th>Unnamed: 12</th>\n",
              "      <td>0</td>\n",
              "    </tr>\n",
              "  </tbody>\n",
              "</table>\n",
              "</div><br><label><b>dtype:</b> int64</label>"
            ]
          },
          "metadata": {},
          "execution_count": 10
        }
      ]
    },
    {
      "cell_type": "code",
      "source": [
        "# Drop kolom yang tidak akan digunakan\n",
        "df_copy_tourism = df_tourism.copy()\n",
        "df_copy_tourism.drop(columns=['Unnamed: 11', 'Unnamed: 12', 'Time_Minutes', 'Coordinate', 'Lat', 'Long'], inplace=True)\n",
        "print('Done')"
      ],
      "metadata": {
        "colab": {
          "base_uri": "https://localhost:8080/"
        },
        "id": "eq-StIcYDEYv",
        "outputId": "f7b58e74-af96-4941-cb18-4f6928d760c9"
      },
      "execution_count": 11,
      "outputs": [
        {
          "output_type": "stream",
          "name": "stdout",
          "text": [
            "Done\n"
          ]
        }
      ]
    },
    {
      "cell_type": "code",
      "source": [
        "# Memfilter hanya kota Yogyakarta yang ditampilkan\n",
        "df_copy_tourism = df_copy_tourism[df_copy_tourism['City'] == 'Yogyakarta']\n",
        "df_copy_tourism.head()"
      ],
      "metadata": {
        "colab": {
          "base_uri": "https://localhost:8080/",
          "height": 206
        },
        "id": "7TyduYzrXCzg",
        "outputId": "aa3e048c-a0dd-4455-bf08-07a4b5ecd27e"
      },
      "execution_count": 12,
      "outputs": [
        {
          "output_type": "execute_result",
          "data": {
            "text/plain": [
              "    Place_Id                           Place_Name  \\\n",
              "84        85              Taman Pintar Yogyakarta   \n",
              "85        86                   Keraton Yogyakarta   \n",
              "86        87           Sindu Kusuma Edupark (SKE)   \n",
              "87        88  Museum Benteng Vredeburg Yogyakarta   \n",
              "88        89                 De Mata Museum Jogja   \n",
              "\n",
              "                                          Description       Category  \\\n",
              "84  Taman Pintar Yogyakarta (bahasa Jawa: Hanacara...  Taman Hiburan   \n",
              "85  Keraton Ngayogyakarta Hadiningrat atau Keraton...         Budaya   \n",
              "86  Sindu Kusuma Edupark (SKE) merupakan sebuah de...  Taman Hiburan   \n",
              "87  Museum Benteng Vredeburg (bahasa Jawa: ꦩꦸꦱꦶꦪꦸꦩ...         Budaya   \n",
              "88  Museum De Mata merupakan salah satu museum yan...         Budaya   \n",
              "\n",
              "          City  Price  Rating  \n",
              "84  Yogyakarta   6000     4.5  \n",
              "85  Yogyakarta  15000     4.6  \n",
              "86  Yogyakarta  20000     4.2  \n",
              "87  Yogyakarta   3000     4.6  \n",
              "88  Yogyakarta  50000     4.4  "
            ],
            "text/html": [
              "\n",
              "  <div id=\"df-09ce870b-0e03-4a80-9d23-e7f2ca8c8148\" class=\"colab-df-container\">\n",
              "    <div>\n",
              "<style scoped>\n",
              "    .dataframe tbody tr th:only-of-type {\n",
              "        vertical-align: middle;\n",
              "    }\n",
              "\n",
              "    .dataframe tbody tr th {\n",
              "        vertical-align: top;\n",
              "    }\n",
              "\n",
              "    .dataframe thead th {\n",
              "        text-align: right;\n",
              "    }\n",
              "</style>\n",
              "<table border=\"1\" class=\"dataframe\">\n",
              "  <thead>\n",
              "    <tr style=\"text-align: right;\">\n",
              "      <th></th>\n",
              "      <th>Place_Id</th>\n",
              "      <th>Place_Name</th>\n",
              "      <th>Description</th>\n",
              "      <th>Category</th>\n",
              "      <th>City</th>\n",
              "      <th>Price</th>\n",
              "      <th>Rating</th>\n",
              "    </tr>\n",
              "  </thead>\n",
              "  <tbody>\n",
              "    <tr>\n",
              "      <th>84</th>\n",
              "      <td>85</td>\n",
              "      <td>Taman Pintar Yogyakarta</td>\n",
              "      <td>Taman Pintar Yogyakarta (bahasa Jawa: Hanacara...</td>\n",
              "      <td>Taman Hiburan</td>\n",
              "      <td>Yogyakarta</td>\n",
              "      <td>6000</td>\n",
              "      <td>4.5</td>\n",
              "    </tr>\n",
              "    <tr>\n",
              "      <th>85</th>\n",
              "      <td>86</td>\n",
              "      <td>Keraton Yogyakarta</td>\n",
              "      <td>Keraton Ngayogyakarta Hadiningrat atau Keraton...</td>\n",
              "      <td>Budaya</td>\n",
              "      <td>Yogyakarta</td>\n",
              "      <td>15000</td>\n",
              "      <td>4.6</td>\n",
              "    </tr>\n",
              "    <tr>\n",
              "      <th>86</th>\n",
              "      <td>87</td>\n",
              "      <td>Sindu Kusuma Edupark (SKE)</td>\n",
              "      <td>Sindu Kusuma Edupark (SKE) merupakan sebuah de...</td>\n",
              "      <td>Taman Hiburan</td>\n",
              "      <td>Yogyakarta</td>\n",
              "      <td>20000</td>\n",
              "      <td>4.2</td>\n",
              "    </tr>\n",
              "    <tr>\n",
              "      <th>87</th>\n",
              "      <td>88</td>\n",
              "      <td>Museum Benteng Vredeburg Yogyakarta</td>\n",
              "      <td>Museum Benteng Vredeburg (bahasa Jawa: ꦩꦸꦱꦶꦪꦸꦩ...</td>\n",
              "      <td>Budaya</td>\n",
              "      <td>Yogyakarta</td>\n",
              "      <td>3000</td>\n",
              "      <td>4.6</td>\n",
              "    </tr>\n",
              "    <tr>\n",
              "      <th>88</th>\n",
              "      <td>89</td>\n",
              "      <td>De Mata Museum Jogja</td>\n",
              "      <td>Museum De Mata merupakan salah satu museum yan...</td>\n",
              "      <td>Budaya</td>\n",
              "      <td>Yogyakarta</td>\n",
              "      <td>50000</td>\n",
              "      <td>4.4</td>\n",
              "    </tr>\n",
              "  </tbody>\n",
              "</table>\n",
              "</div>\n",
              "    <div class=\"colab-df-buttons\">\n",
              "\n",
              "  <div class=\"colab-df-container\">\n",
              "    <button class=\"colab-df-convert\" onclick=\"convertToInteractive('df-09ce870b-0e03-4a80-9d23-e7f2ca8c8148')\"\n",
              "            title=\"Convert this dataframe to an interactive table.\"\n",
              "            style=\"display:none;\">\n",
              "\n",
              "  <svg xmlns=\"http://www.w3.org/2000/svg\" height=\"24px\" viewBox=\"0 -960 960 960\">\n",
              "    <path d=\"M120-120v-720h720v720H120Zm60-500h600v-160H180v160Zm220 220h160v-160H400v160Zm0 220h160v-160H400v160ZM180-400h160v-160H180v160Zm440 0h160v-160H620v160ZM180-180h160v-160H180v160Zm440 0h160v-160H620v160Z\"/>\n",
              "  </svg>\n",
              "    </button>\n",
              "\n",
              "  <style>\n",
              "    .colab-df-container {\n",
              "      display:flex;\n",
              "      gap: 12px;\n",
              "    }\n",
              "\n",
              "    .colab-df-convert {\n",
              "      background-color: #E8F0FE;\n",
              "      border: none;\n",
              "      border-radius: 50%;\n",
              "      cursor: pointer;\n",
              "      display: none;\n",
              "      fill: #1967D2;\n",
              "      height: 32px;\n",
              "      padding: 0 0 0 0;\n",
              "      width: 32px;\n",
              "    }\n",
              "\n",
              "    .colab-df-convert:hover {\n",
              "      background-color: #E2EBFA;\n",
              "      box-shadow: 0px 1px 2px rgba(60, 64, 67, 0.3), 0px 1px 3px 1px rgba(60, 64, 67, 0.15);\n",
              "      fill: #174EA6;\n",
              "    }\n",
              "\n",
              "    .colab-df-buttons div {\n",
              "      margin-bottom: 4px;\n",
              "    }\n",
              "\n",
              "    [theme=dark] .colab-df-convert {\n",
              "      background-color: #3B4455;\n",
              "      fill: #D2E3FC;\n",
              "    }\n",
              "\n",
              "    [theme=dark] .colab-df-convert:hover {\n",
              "      background-color: #434B5C;\n",
              "      box-shadow: 0px 1px 3px 1px rgba(0, 0, 0, 0.15);\n",
              "      filter: drop-shadow(0px 1px 2px rgba(0, 0, 0, 0.3));\n",
              "      fill: #FFFFFF;\n",
              "    }\n",
              "  </style>\n",
              "\n",
              "    <script>\n",
              "      const buttonEl =\n",
              "        document.querySelector('#df-09ce870b-0e03-4a80-9d23-e7f2ca8c8148 button.colab-df-convert');\n",
              "      buttonEl.style.display =\n",
              "        google.colab.kernel.accessAllowed ? 'block' : 'none';\n",
              "\n",
              "      async function convertToInteractive(key) {\n",
              "        const element = document.querySelector('#df-09ce870b-0e03-4a80-9d23-e7f2ca8c8148');\n",
              "        const dataTable =\n",
              "          await google.colab.kernel.invokeFunction('convertToInteractive',\n",
              "                                                    [key], {});\n",
              "        if (!dataTable) return;\n",
              "\n",
              "        const docLinkHtml = 'Like what you see? Visit the ' +\n",
              "          '<a target=\"_blank\" href=https://colab.research.google.com/notebooks/data_table.ipynb>data table notebook</a>'\n",
              "          + ' to learn more about interactive tables.';\n",
              "        element.innerHTML = '';\n",
              "        dataTable['output_type'] = 'display_data';\n",
              "        await google.colab.output.renderOutput(dataTable, element);\n",
              "        const docLink = document.createElement('div');\n",
              "        docLink.innerHTML = docLinkHtml;\n",
              "        element.appendChild(docLink);\n",
              "      }\n",
              "    </script>\n",
              "  </div>\n",
              "\n",
              "\n",
              "<div id=\"df-c27602bf-0cee-4655-a64d-0837652b7740\">\n",
              "  <button class=\"colab-df-quickchart\" onclick=\"quickchart('df-c27602bf-0cee-4655-a64d-0837652b7740')\"\n",
              "            title=\"Suggest charts\"\n",
              "            style=\"display:none;\">\n",
              "\n",
              "<svg xmlns=\"http://www.w3.org/2000/svg\" height=\"24px\"viewBox=\"0 0 24 24\"\n",
              "     width=\"24px\">\n",
              "    <g>\n",
              "        <path d=\"M19 3H5c-1.1 0-2 .9-2 2v14c0 1.1.9 2 2 2h14c1.1 0 2-.9 2-2V5c0-1.1-.9-2-2-2zM9 17H7v-7h2v7zm4 0h-2V7h2v10zm4 0h-2v-4h2v4z\"/>\n",
              "    </g>\n",
              "</svg>\n",
              "  </button>\n",
              "\n",
              "<style>\n",
              "  .colab-df-quickchart {\n",
              "      --bg-color: #E8F0FE;\n",
              "      --fill-color: #1967D2;\n",
              "      --hover-bg-color: #E2EBFA;\n",
              "      --hover-fill-color: #174EA6;\n",
              "      --disabled-fill-color: #AAA;\n",
              "      --disabled-bg-color: #DDD;\n",
              "  }\n",
              "\n",
              "  [theme=dark] .colab-df-quickchart {\n",
              "      --bg-color: #3B4455;\n",
              "      --fill-color: #D2E3FC;\n",
              "      --hover-bg-color: #434B5C;\n",
              "      --hover-fill-color: #FFFFFF;\n",
              "      --disabled-bg-color: #3B4455;\n",
              "      --disabled-fill-color: #666;\n",
              "  }\n",
              "\n",
              "  .colab-df-quickchart {\n",
              "    background-color: var(--bg-color);\n",
              "    border: none;\n",
              "    border-radius: 50%;\n",
              "    cursor: pointer;\n",
              "    display: none;\n",
              "    fill: var(--fill-color);\n",
              "    height: 32px;\n",
              "    padding: 0;\n",
              "    width: 32px;\n",
              "  }\n",
              "\n",
              "  .colab-df-quickchart:hover {\n",
              "    background-color: var(--hover-bg-color);\n",
              "    box-shadow: 0 1px 2px rgba(60, 64, 67, 0.3), 0 1px 3px 1px rgba(60, 64, 67, 0.15);\n",
              "    fill: var(--button-hover-fill-color);\n",
              "  }\n",
              "\n",
              "  .colab-df-quickchart-complete:disabled,\n",
              "  .colab-df-quickchart-complete:disabled:hover {\n",
              "    background-color: var(--disabled-bg-color);\n",
              "    fill: var(--disabled-fill-color);\n",
              "    box-shadow: none;\n",
              "  }\n",
              "\n",
              "  .colab-df-spinner {\n",
              "    border: 2px solid var(--fill-color);\n",
              "    border-color: transparent;\n",
              "    border-bottom-color: var(--fill-color);\n",
              "    animation:\n",
              "      spin 1s steps(1) infinite;\n",
              "  }\n",
              "\n",
              "  @keyframes spin {\n",
              "    0% {\n",
              "      border-color: transparent;\n",
              "      border-bottom-color: var(--fill-color);\n",
              "      border-left-color: var(--fill-color);\n",
              "    }\n",
              "    20% {\n",
              "      border-color: transparent;\n",
              "      border-left-color: var(--fill-color);\n",
              "      border-top-color: var(--fill-color);\n",
              "    }\n",
              "    30% {\n",
              "      border-color: transparent;\n",
              "      border-left-color: var(--fill-color);\n",
              "      border-top-color: var(--fill-color);\n",
              "      border-right-color: var(--fill-color);\n",
              "    }\n",
              "    40% {\n",
              "      border-color: transparent;\n",
              "      border-right-color: var(--fill-color);\n",
              "      border-top-color: var(--fill-color);\n",
              "    }\n",
              "    60% {\n",
              "      border-color: transparent;\n",
              "      border-right-color: var(--fill-color);\n",
              "    }\n",
              "    80% {\n",
              "      border-color: transparent;\n",
              "      border-right-color: var(--fill-color);\n",
              "      border-bottom-color: var(--fill-color);\n",
              "    }\n",
              "    90% {\n",
              "      border-color: transparent;\n",
              "      border-bottom-color: var(--fill-color);\n",
              "    }\n",
              "  }\n",
              "</style>\n",
              "\n",
              "  <script>\n",
              "    async function quickchart(key) {\n",
              "      const quickchartButtonEl =\n",
              "        document.querySelector('#' + key + ' button');\n",
              "      quickchartButtonEl.disabled = true;  // To prevent multiple clicks.\n",
              "      quickchartButtonEl.classList.add('colab-df-spinner');\n",
              "      try {\n",
              "        const charts = await google.colab.kernel.invokeFunction(\n",
              "            'suggestCharts', [key], {});\n",
              "      } catch (error) {\n",
              "        console.error('Error during call to suggestCharts:', error);\n",
              "      }\n",
              "      quickchartButtonEl.classList.remove('colab-df-spinner');\n",
              "      quickchartButtonEl.classList.add('colab-df-quickchart-complete');\n",
              "    }\n",
              "    (() => {\n",
              "      let quickchartButtonEl =\n",
              "        document.querySelector('#df-c27602bf-0cee-4655-a64d-0837652b7740 button');\n",
              "      quickchartButtonEl.style.display =\n",
              "        google.colab.kernel.accessAllowed ? 'block' : 'none';\n",
              "    })();\n",
              "  </script>\n",
              "</div>\n",
              "\n",
              "    </div>\n",
              "  </div>\n"
            ],
            "application/vnd.google.colaboratory.intrinsic+json": {
              "type": "dataframe",
              "variable_name": "df_copy_tourism",
              "summary": "{\n  \"name\": \"df_copy_tourism\",\n  \"rows\": 126,\n  \"fields\": [\n    {\n      \"column\": \"Place_Id\",\n      \"properties\": {\n        \"dtype\": \"number\",\n        \"std\": 36,\n        \"min\": 85,\n        \"max\": 210,\n        \"num_unique_values\": 126,\n        \"samples\": [\n          158,\n          104,\n          201\n        ],\n        \"semantic_type\": \"\",\n        \"description\": \"\"\n      }\n    },\n    {\n      \"column\": \"Place_Name\",\n      \"properties\": {\n        \"dtype\": \"string\",\n        \"num_unique_values\": 126,\n        \"samples\": [\n          \"Pantai Pok Tunggal\",\n          \"Tebing Breksi\",\n          \"Pantai Kesirat\"\n        ],\n        \"semantic_type\": \"\",\n        \"description\": \"\"\n      }\n    },\n    {\n      \"column\": \"Description\",\n      \"properties\": {\n        \"dtype\": \"string\",\n        \"num_unique_values\": 126,\n        \"samples\": [\n          \"Pantai Pok Tunggal atau biasa disebut \\\"the hidden paradise\\\" (surga yang tersembunyi) adalah salah satu objek wisata yang ada di Yogyakarta tepatnya di Desa Tepus, Tepus, Gunung Kidul, Yogyakarta. Jika dihitung dari kota, maka jarak tempuhnya sejauh 80 km atau sekitar 2 jam perjalanan.\\\\nNama Pantai Pok Tunggal diambil karena dipantai tersebut terdapat sebuah pohon duras tua yang berdiri kokoh hingga saat ini. Pantai ini dikelilingi oleh tebing perbukitan karst. Terdapat tebing-tebing karang yang ditumbuhi oleh pepohonan yang lebat dan didalamnya dihuni oleh kera-kera yang jinak. Uniknya, pantai ini memiliki aliran sungai air tawar dibawah tanah yang menjadi sumber kehidupan bagi masyarakat sekitar pantai. Layaknya pantai selatan lainnya, Pantai Pok Tunggal memiliki pasir putih yang halus dan membentang sepanjang pantai. Sampai saat ini Pantai Pok Tunggal masih terjaga kebersihan dan kealamiannya.\\\\nPantai ini sangat ramai dikunjungi baik saat liburan maupun saat hari biasa. Terdapat banyak sekali aktivitas-aktivitas yang ditawarkan di Pantai Pok Tunggal, seperti diving, snorkeling, berenang, berkemah, berfoto di spot-spot foto yang indah, hingga aktivitas ekstrem seperti rock climbing.\",\n          \"Tebing Breksi merupakan tempat wisata yang berada di wilayah Kabupaten Sleman. Lokasinya berada di sebelah selatan Candi Prambanan dan berdekatan dengan Candi Ijo serta Kompleks Keraton Boko. Lokasi Wisata Tebing Breksi tepatnya berada di Desa Sambirejo, Prambanan, Kabupaten Sleman, Daerah Istimewa Yogyakarta 55572.\",\n          \"Pada umumnya pantai identik dengan pasirnya bukan, namun pantai kesirat memiliki keunikan tersendiri yang akan anda temukan disini. Pantai kesirat tidak memiliki pasir namun anda akan menemukan tebing tebing yang memeiliki struktur yang cantik kemudian anda kana menikmati pantai di atasnya, tempat ini juga sangat cocok untuk menikmati sunset. Keindahan pantai ini membuat semua orang tidak bisa melupakannya seperti janji mantan hehee.. pantai kesirat memiliki spot spot foto yang instagramable banget cocok sekali untuk kamu yang suka berfoto. Keunikan lain yang menjadi ciri khas dari wisata Pantai Kesirat adalah hadirnya sebuah pohon yang tampak berdiri kokoh yang menjadi ikon dari tempat wisata ini. Banyak wisatawan yang memanfaatkan pohon ini sebagai latar belakang foto mereka.\"\n        ],\n        \"semantic_type\": \"\",\n        \"description\": \"\"\n      }\n    },\n    {\n      \"column\": \"Category\",\n      \"properties\": {\n        \"dtype\": \"category\",\n        \"num_unique_values\": 5,\n        \"samples\": [\n          \"Budaya\",\n          \"Pusat Perbelanjaan\",\n          \"Cagar Alam\"\n        ],\n        \"semantic_type\": \"\",\n        \"description\": \"\"\n      }\n    },\n    {\n      \"column\": \"City\",\n      \"properties\": {\n        \"dtype\": \"category\",\n        \"num_unique_values\": 1,\n        \"samples\": [\n          \"Yogyakarta\"\n        ],\n        \"semantic_type\": \"\",\n        \"description\": \"\"\n      }\n    },\n    {\n      \"column\": \"Price\",\n      \"properties\": {\n        \"dtype\": \"number\",\n        \"std\": 55219,\n        \"min\": 0,\n        \"max\": 500000,\n        \"num_unique_values\": 24,\n        \"samples\": [\n          7000\n        ],\n        \"semantic_type\": \"\",\n        \"description\": \"\"\n      }\n    },\n    {\n      \"column\": \"Rating\",\n      \"properties\": {\n        \"dtype\": \"number\",\n        \"std\": 0.1738965209542733,\n        \"min\": 4.0,\n        \"max\": 5.0,\n        \"num_unique_values\": 10,\n        \"samples\": [\n          4.8\n        ],\n        \"semantic_type\": \"\",\n        \"description\": \"\"\n      }\n    }\n  ]\n}"
            }
          },
          "metadata": {},
          "execution_count": 12
        }
      ]
    },
    {
      "cell_type": "code",
      "source": [
        "# menghitung ada berapa tempat wisata dengan harga tiket masuk yang sama\n",
        "df_copy_tourism['Price'].value_counts()"
      ],
      "metadata": {
        "colab": {
          "base_uri": "https://localhost:8080/",
          "height": 868
        },
        "id": "io2V6Q8lV7rJ",
        "outputId": "a6cea774-3143-40d6-da1b-769434aed5f9"
      },
      "execution_count": 32,
      "outputs": [
        {
          "output_type": "execute_result",
          "data": {
            "text/plain": [
              "Price\n",
              "10000     26\n",
              "0         25\n",
              "5000      23\n",
              "3000       8\n",
              "15000      6\n",
              "2500       5\n",
              "20000      5\n",
              "50000      5\n",
              "2000       3\n",
              "40000      3\n",
              "4000       2\n",
              "6000       2\n",
              "7000       2\n",
              "30000      1\n",
              "22000      1\n",
              "250000     1\n",
              "25000      1\n",
              "60000      1\n",
              "500000     1\n",
              "220000     1\n",
              "100000     1\n",
              "75000      1\n",
              "150000     1\n",
              "8000       1\n",
              "Name: count, dtype: int64"
            ],
            "text/html": [
              "<div>\n",
              "<style scoped>\n",
              "    .dataframe tbody tr th:only-of-type {\n",
              "        vertical-align: middle;\n",
              "    }\n",
              "\n",
              "    .dataframe tbody tr th {\n",
              "        vertical-align: top;\n",
              "    }\n",
              "\n",
              "    .dataframe thead th {\n",
              "        text-align: right;\n",
              "    }\n",
              "</style>\n",
              "<table border=\"1\" class=\"dataframe\">\n",
              "  <thead>\n",
              "    <tr style=\"text-align: right;\">\n",
              "      <th></th>\n",
              "      <th>count</th>\n",
              "    </tr>\n",
              "    <tr>\n",
              "      <th>Price</th>\n",
              "      <th></th>\n",
              "    </tr>\n",
              "  </thead>\n",
              "  <tbody>\n",
              "    <tr>\n",
              "      <th>10000</th>\n",
              "      <td>26</td>\n",
              "    </tr>\n",
              "    <tr>\n",
              "      <th>0</th>\n",
              "      <td>25</td>\n",
              "    </tr>\n",
              "    <tr>\n",
              "      <th>5000</th>\n",
              "      <td>23</td>\n",
              "    </tr>\n",
              "    <tr>\n",
              "      <th>3000</th>\n",
              "      <td>8</td>\n",
              "    </tr>\n",
              "    <tr>\n",
              "      <th>15000</th>\n",
              "      <td>6</td>\n",
              "    </tr>\n",
              "    <tr>\n",
              "      <th>2500</th>\n",
              "      <td>5</td>\n",
              "    </tr>\n",
              "    <tr>\n",
              "      <th>20000</th>\n",
              "      <td>5</td>\n",
              "    </tr>\n",
              "    <tr>\n",
              "      <th>50000</th>\n",
              "      <td>5</td>\n",
              "    </tr>\n",
              "    <tr>\n",
              "      <th>2000</th>\n",
              "      <td>3</td>\n",
              "    </tr>\n",
              "    <tr>\n",
              "      <th>40000</th>\n",
              "      <td>3</td>\n",
              "    </tr>\n",
              "    <tr>\n",
              "      <th>4000</th>\n",
              "      <td>2</td>\n",
              "    </tr>\n",
              "    <tr>\n",
              "      <th>6000</th>\n",
              "      <td>2</td>\n",
              "    </tr>\n",
              "    <tr>\n",
              "      <th>7000</th>\n",
              "      <td>2</td>\n",
              "    </tr>\n",
              "    <tr>\n",
              "      <th>30000</th>\n",
              "      <td>1</td>\n",
              "    </tr>\n",
              "    <tr>\n",
              "      <th>22000</th>\n",
              "      <td>1</td>\n",
              "    </tr>\n",
              "    <tr>\n",
              "      <th>250000</th>\n",
              "      <td>1</td>\n",
              "    </tr>\n",
              "    <tr>\n",
              "      <th>25000</th>\n",
              "      <td>1</td>\n",
              "    </tr>\n",
              "    <tr>\n",
              "      <th>60000</th>\n",
              "      <td>1</td>\n",
              "    </tr>\n",
              "    <tr>\n",
              "      <th>500000</th>\n",
              "      <td>1</td>\n",
              "    </tr>\n",
              "    <tr>\n",
              "      <th>220000</th>\n",
              "      <td>1</td>\n",
              "    </tr>\n",
              "    <tr>\n",
              "      <th>100000</th>\n",
              "      <td>1</td>\n",
              "    </tr>\n",
              "    <tr>\n",
              "      <th>75000</th>\n",
              "      <td>1</td>\n",
              "    </tr>\n",
              "    <tr>\n",
              "      <th>150000</th>\n",
              "      <td>1</td>\n",
              "    </tr>\n",
              "    <tr>\n",
              "      <th>8000</th>\n",
              "      <td>1</td>\n",
              "    </tr>\n",
              "  </tbody>\n",
              "</table>\n",
              "</div><br><label><b>dtype:</b> int64</label>"
            ]
          },
          "metadata": {},
          "execution_count": 32
        }
      ]
    },
    {
      "cell_type": "markdown",
      "source": [
        "Kesimpulan dari sesi `Data Understanding`, didapat,\n",
        "- Dataset memiliki 437 sample dengan jumlah kolom sebanyak 13.\n",
        "- Terdapat fitur `Time_Minutes` dengan missing value sebanyak 232 dan kolom `Unnamed: 11` sebanyak 437.\n",
        "- Tidak terdapat data yang duplikat.\n",
        "- Namun, kita mendrop beberapa fitur yang tidak terpakai yaitu `Time_Minutes`, `Unnamed: 11`, dan `Unnamed: 12`.\n",
        "- Memfilter data dalam DataFrame `df_copy_tourism` sehingga hanya menampilkan baris-baris yang memiliki nilai kolom `City` sama dengan 'Yogyakarta'\n",
        "- Dataset memiliki 3 fitur `int64`, 5 `object`, dan 5 `float64`."
      ],
      "metadata": {
        "id": "GgCO2WRHC2s7"
      }
    },
    {
      "cell_type": "markdown",
      "source": [
        "#### 2.1.2 Visualisasi Data"
      ],
      "metadata": {
        "id": "i0KxH2T9VS0F"
      }
    },
    {
      "cell_type": "code",
      "source": [
        "# Membuat visualisasi jumlah kategori wisata\n",
        "\n",
        "sns.countplot(x='Category', data=df_copy_tourism)\n",
        "plt.title('Jumlah Kategori Wisata')\n",
        "plt.show()"
      ],
      "metadata": {
        "id": "6qjPTu3Zukau",
        "colab": {
          "base_uri": "https://localhost:8080/",
          "height": 472
        },
        "outputId": "ec76ab13-c0f2-4bc9-d0bd-2c26f2c1c84f"
      },
      "execution_count": 13,
      "outputs": [
        {
          "output_type": "display_data",
          "data": {
            "text/plain": [
              "<Figure size 640x480 with 1 Axes>"
            ],
            "image/png": "[encoded data removed]"
          },
          "metadata": {}
        }
      ]
    },
    {
      "cell_type": "code",
      "source": [
        "# Visualisasi rating tempat wisata\n",
        "\n",
        "plt.figure(figsize=(10, 6))\n",
        "sns.histplot(df_copy_tourism['Rating'], bins=10, kde=True)\n",
        "plt.title('Distribusi Rating Tempat Wisata')\n",
        "plt.xlabel('Rating')"
      ],
      "metadata": {
        "colab": {
          "base_uri": "https://localhost:8080/",
          "height": 581
        },
        "id": "FXEmnejrV-uG",
        "outputId": "c44af4ab-239f-42dd-cee2-39cac8416abb"
      },
      "execution_count": 14,
      "outputs": [
        {
          "output_type": "execute_result",
          "data": {
            "text/plain": [
              "Text(0.5, 0, 'Rating')"
            ]
          },
          "metadata": {},
          "execution_count": 14
        },
        {
          "output_type": "display_data",
          "data": {
            "text/plain": [
              "<Figure size 1000x600 with 1 Axes>"
            ],
            "image/png": "[encoded data removed]"
          },
          "metadata": {}
        }
      ]
    },
    {
      "cell_type": "markdown",
      "source": [
        "## 3. Data Preparation"
      ],
      "metadata": {
        "id": "d854Qd63uk3J"
      }
    },
    {
      "cell_type": "markdown",
      "source": [
        "#### 3.2. Train-Test-Split"
      ],
      "metadata": {
        "id": "QmXT70LauvHG"
      }
    },
    {
      "cell_type": "code",
      "source": [
        "import tensorflow as tf\n",
        "from sklearn.model_selection import train_test_split\n",
        "from sklearn.preprocessing import StandardScaler\n",
        "from tensorflow.keras.models import Sequential\n",
        "from tensorflow.keras.layers import Dense\n",
        "\n",
        "# Select relevant features\n",
        "data_model = df_copy_tourism[['Place_Name','City', 'Price','Rating', 'Category','Description']].copy()  # create a copy to avoid SettingWithCopyWarning\n",
        "\n",
        "# Rescale the ratings to be between 1 and 5\n",
        "data_model['Rating'] = data_model['Rating'].apply(lambda x: round(x/2) if x <= 10 else 5)\n",
        "\n",
        "# Handle duplicates and missing data\n",
        "data_model.drop_duplicates(inplace=True)\n",
        "data_model.dropna(inplace=True)\n",
        "\n",
        "# Split into features and target\n",
        "X = df_copy_tourism[['City','Price']]\n",
        "y = df_copy_tourism['Rating']\n",
        "\n",
        "\n",
        "# Convert City to one-hot encoding\n",
        "X = pd.get_dummies(X, columns=['City'])\n",
        "\n",
        "# Convert y to categorical\n",
        "y = tf.keras.utils.to_categorical(y-1, num_classes=5)\n",
        "\n",
        "# Split into train, test, and validation sets (50% train, 20% validation, 30% test)\n",
        "X_train_val, X_test, y_train_val, y_test = train_test_split(X, y, test_size=0.3, random_state=42)\n",
        "X_train, X_val, y_train, y_val = train_test_split(X_train_val, y_train_val, test_size=(0.2/0.7), random_state=42)\n",
        "\n",
        "# Scale the features\n",
        "scaler = StandardScaler()\n",
        "X_train = scaler.fit_transform(X_train)\n",
        "X_val = scaler.transform(X_val)\n",
        "X_test = scaler.transform(X_test)"
      ],
      "metadata": {
        "id": "r3kb7aVLuzqw"
      },
      "execution_count": 16,
      "outputs": []
    },
    {
      "cell_type": "markdown",
      "source": [
        "## 4. Model Development"
      ],
      "metadata": {
        "id": "FWufdjSYu0b_"
      }
    },
    {
      "cell_type": "code",
      "source": [
        "# Build the neural network model\n",
        "model = Sequential()\n",
        "model.add(Dense(32, activation='relu', input_shape=(X_train.shape[1],)))\n",
        "model.add(Dense(16, activation='relu'))\n",
        "model.add(Dense(5, activation='softmax'))  # 5 classes\n",
        "\n",
        "# Compile the model\n",
        "model.compile(loss='categorical_crossentropy', optimizer='adam', metrics=['accuracy'])\n",
        "\n",
        "# Fit the model\n",
        "history = model.fit(X_train, y_train, validation_data=(X_val, y_val), epochs=100, batch_size=32)"
      ],
      "metadata": {
        "id": "q9CZWrTOu4Cv",
        "colab": {
          "base_uri": "https://localhost:8080/"
        },
        "outputId": "cce1abac-c3da-4285-88e7-ebbe6e901cc0"
      },
      "execution_count": 17,
      "outputs": [
        {
          "output_type": "stream",
          "name": "stdout",
          "text": [
            "Epoch 1/100\n",
            "\u001b[1m2/2\u001b[0m \u001b[32m━━━━━━━━━━━━━━━━━━━━\u001b[0m\u001b[37m\u001b[0m \u001b[1m4s\u001b[0m 554ms/step - accuracy: 0.9892 - loss: 1.5727 - val_accuracy: 1.0000 - val_loss: 1.5759\n",
            "Epoch 2/100\n",
            "\u001b[1m2/2\u001b[0m \u001b[32m━━━━━━━━━━━━━━━━━━━━\u001b[0m\u001b[37m\u001b[0m \u001b[1m1s\u001b[0m 150ms/step - accuracy: 0.9788 - loss: 1.5618 - val_accuracy: 1.0000 - val_loss: 1.5648\n",
            "Epoch 3/100\n",
            "\u001b[1m2/2\u001b[0m \u001b[32m━━━━━━━━━━━━━━━━━━━━\u001b[0m\u001b[37m\u001b[0m \u001b[1m0s\u001b[0m 48ms/step - accuracy: 0.9892 - loss: 1.5562 - val_accuracy: 1.0000 - val_loss: 1.5540\n",
            "Epoch 4/100\n",
            "\u001b[1m2/2\u001b[0m \u001b[32m━━━━━━━━━━━━━━━━━━━━\u001b[0m\u001b[37m\u001b[0m \u001b[1m0s\u001b[0m 139ms/step - accuracy: 0.9788 - loss: 1.5416 - val_accuracy: 1.0000 - val_loss: 1.5431\n",
            "Epoch 5/100\n",
            "\u001b[1m2/2\u001b[0m \u001b[32m━━━━━━━━━━━━━━━━━━━━\u001b[0m\u001b[37m\u001b[0m \u001b[1m0s\u001b[0m 134ms/step - accuracy: 0.9788 - loss: 1.5290 - val_accuracy: 1.0000 - val_loss: 1.5316\n",
            "Epoch 6/100\n",
            "\u001b[1m2/2\u001b[0m \u001b[32m━━━━━━━━━━━━━━━━━━━━\u001b[0m\u001b[37m\u001b[0m \u001b[1m0s\u001b[0m 168ms/step - accuracy: 0.9788 - loss: 1.5181 - val_accuracy: 1.0000 - val_loss: 1.5201\n",
            "Epoch 7/100\n",
            "\u001b[1m2/2\u001b[0m \u001b[32m━━━━━━━━━━━━━━━━━━━━\u001b[0m\u001b[37m\u001b[0m \u001b[1m1s\u001b[0m 141ms/step - accuracy: 0.9892 - loss: 1.5039 - val_accuracy: 1.0000 - val_loss: 1.5083\n",
            "Epoch 8/100\n",
            "\u001b[1m2/2\u001b[0m \u001b[32m━━━━━━━━━━━━━━━━━━━━\u001b[0m\u001b[37m\u001b[0m \u001b[1m0s\u001b[0m 162ms/step - accuracy: 0.9788 - loss: 1.4923 - val_accuracy: 1.0000 - val_loss: 1.4959\n",
            "Epoch 9/100\n",
            "\u001b[1m2/2\u001b[0m \u001b[32m━━━━━━━━━━━━━━━━━━━━\u001b[0m\u001b[37m\u001b[0m \u001b[1m0s\u001b[0m 202ms/step - accuracy: 0.9788 - loss: 1.4805 - val_accuracy: 1.0000 - val_loss: 1.4833\n",
            "Epoch 10/100\n",
            "\u001b[1m2/2\u001b[0m \u001b[32m━━━━━━━━━━━━━━━━━━━━\u001b[0m\u001b[37m\u001b[0m \u001b[1m0s\u001b[0m 190ms/step - accuracy: 0.9892 - loss: 1.4627 - val_accuracy: 1.0000 - val_loss: 1.4702\n",
            "Epoch 11/100\n",
            "\u001b[1m2/2\u001b[0m \u001b[32m━━━━━━━━━━━━━━━━━━━━\u001b[0m\u001b[37m\u001b[0m \u001b[1m1s\u001b[0m 267ms/step - accuracy: 0.9788 - loss: 1.4474 - val_accuracy: 1.0000 - val_loss: 1.4565\n",
            "Epoch 12/100\n",
            "\u001b[1m2/2\u001b[0m \u001b[32m━━━━━━━━━━━━━━━━━━━━\u001b[0m\u001b[37m\u001b[0m \u001b[1m1s\u001b[0m 181ms/step - accuracy: 0.9892 - loss: 1.4334 - val_accuracy: 1.0000 - val_loss: 1.4424\n",
            "Epoch 13/100\n",
            "\u001b[1m2/2\u001b[0m \u001b[32m━━━━━━━━━━━━━━━━━━━━\u001b[0m\u001b[37m\u001b[0m \u001b[1m0s\u001b[0m 180ms/step - accuracy: 0.9892 - loss: 1.4141 - val_accuracy: 1.0000 - val_loss: 1.4281\n",
            "Epoch 14/100\n",
            "\u001b[1m2/2\u001b[0m \u001b[32m━━━━━━━━━━━━━━━━━━━━\u001b[0m\u001b[37m\u001b[0m \u001b[1m1s\u001b[0m 235ms/step - accuracy: 0.9788 - loss: 1.4088 - val_accuracy: 1.0000 - val_loss: 1.4133\n",
            "Epoch 15/100\n",
            "\u001b[1m2/2\u001b[0m \u001b[32m━━━━━━━━━━━━━━━━━━━━\u001b[0m\u001b[37m\u001b[0m \u001b[1m0s\u001b[0m 220ms/step - accuracy: 0.9788 - loss: 1.4019 - val_accuracy: 1.0000 - val_loss: 1.3981\n",
            "Epoch 16/100\n",
            "\u001b[1m2/2\u001b[0m \u001b[32m━━━━━━━━━━━━━━━━━━━━\u001b[0m\u001b[37m\u001b[0m \u001b[1m0s\u001b[0m 29ms/step - accuracy: 0.9788 - loss: 1.3700 - val_accuracy: 1.0000 - val_loss: 1.3823\n",
            "Epoch 17/100\n",
            "\u001b[1m2/2\u001b[0m \u001b[32m━━━━━━━━━━━━━━━━━━━━\u001b[0m\u001b[37m\u001b[0m \u001b[1m0s\u001b[0m 32ms/step - accuracy: 0.9788 - loss: 1.3589 - val_accuracy: 1.0000 - val_loss: 1.3661\n",
            "Epoch 18/100\n",
            "\u001b[1m2/2\u001b[0m \u001b[32m━━━━━━━━━━━━━━━━━━━━\u001b[0m\u001b[37m\u001b[0m \u001b[1m0s\u001b[0m 28ms/step - accuracy: 0.9788 - loss: 1.3291 - val_accuracy: 1.0000 - val_loss: 1.3492\n",
            "Epoch 19/100\n",
            "\u001b[1m2/2\u001b[0m \u001b[32m━━━━━━━━━━━━━━━━━━━━\u001b[0m\u001b[37m\u001b[0m \u001b[1m0s\u001b[0m 120ms/step - accuracy: 0.9788 - loss: 1.3120 - val_accuracy: 1.0000 - val_loss: 1.3318\n",
            "Epoch 20/100\n",
            "\u001b[1m2/2\u001b[0m \u001b[32m━━━━━━━━━━━━━━━━━━━━\u001b[0m\u001b[37m\u001b[0m \u001b[1m0s\u001b[0m 112ms/step - accuracy: 0.9892 - loss: 1.2976 - val_accuracy: 1.0000 - val_loss: 1.3137\n",
            "Epoch 21/100\n",
            "\u001b[1m2/2\u001b[0m \u001b[32m━━━━━━━━━━━━━━━━━━━━\u001b[0m\u001b[37m\u001b[0m \u001b[1m0s\u001b[0m 148ms/step - accuracy: 0.9892 - loss: 1.2803 - val_accuracy: 1.0000 - val_loss: 1.2948\n",
            "Epoch 22/100\n",
            "\u001b[1m2/2\u001b[0m \u001b[32m━━━━━━━━━━━━━━━━━━━━\u001b[0m\u001b[37m\u001b[0m \u001b[1m0s\u001b[0m 54ms/step - accuracy: 0.9892 - loss: 1.2573 - val_accuracy: 1.0000 - val_loss: 1.2746\n",
            "Epoch 23/100\n",
            "\u001b[1m2/2\u001b[0m \u001b[32m━━━━━━━━━━━━━━━━━━━━\u001b[0m\u001b[37m\u001b[0m \u001b[1m0s\u001b[0m 90ms/step - accuracy: 0.9788 - loss: 1.2608 - val_accuracy: 1.0000 - val_loss: 1.2533\n",
            "Epoch 24/100\n",
            "\u001b[1m2/2\u001b[0m \u001b[32m━━━━━━━━━━━━━━━━━━━━\u001b[0m\u001b[37m\u001b[0m \u001b[1m0s\u001b[0m 128ms/step - accuracy: 0.9788 - loss: 1.2178 - val_accuracy: 1.0000 - val_loss: 1.2311\n",
            "Epoch 25/100\n",
            "\u001b[1m2/2\u001b[0m \u001b[32m━━━━━━━━━━━━━━━━━━━━\u001b[0m\u001b[37m\u001b[0m \u001b[1m0s\u001b[0m 103ms/step - accuracy: 0.9788 - loss: 1.2098 - val_accuracy: 1.0000 - val_loss: 1.2080\n",
            "Epoch 26/100\n",
            "\u001b[1m2/2\u001b[0m \u001b[32m━━━━━━━━━━━━━━━━━━━━\u001b[0m\u001b[37m\u001b[0m \u001b[1m0s\u001b[0m 102ms/step - accuracy: 0.9788 - loss: 1.1850 - val_accuracy: 1.0000 - val_loss: 1.1841\n",
            "Epoch 27/100\n",
            "\u001b[1m2/2\u001b[0m \u001b[32m━━━━━━━━━━━━━━━━━━━━\u001b[0m\u001b[37m\u001b[0m \u001b[1m0s\u001b[0m 108ms/step - accuracy: 0.9892 - loss: 1.1474 - val_accuracy: 1.0000 - val_loss: 1.1593\n",
            "Epoch 28/100\n",
            "\u001b[1m2/2\u001b[0m \u001b[32m━━━━━━━━━━━━━━━━━━━━\u001b[0m\u001b[37m\u001b[0m \u001b[1m0s\u001b[0m 48ms/step - accuracy: 0.9788 - loss: 1.1279 - val_accuracy: 1.0000 - val_loss: 1.1335\n",
            "Epoch 29/100\n",
            "\u001b[1m2/2\u001b[0m \u001b[32m━━━━━━━━━━━━━━━━━━━━\u001b[0m\u001b[37m\u001b[0m \u001b[1m0s\u001b[0m 85ms/step - accuracy: 0.9788 - loss: 1.1099 - val_accuracy: 1.0000 - val_loss: 1.1069\n",
            "Epoch 30/100\n",
            "\u001b[1m2/2\u001b[0m \u001b[32m━━━━━━━━━━━━━━━━━━━━\u001b[0m\u001b[37m\u001b[0m \u001b[1m0s\u001b[0m 104ms/step - accuracy: 0.9788 - loss: 1.0769 - val_accuracy: 1.0000 - val_loss: 1.0796\n",
            "Epoch 31/100\n",
            "\u001b[1m2/2\u001b[0m \u001b[32m━━━━━━━━━━━━━━━━━━━━\u001b[0m\u001b[37m\u001b[0m \u001b[1m0s\u001b[0m 180ms/step - accuracy: 0.9892 - loss: 1.0599 - val_accuracy: 1.0000 - val_loss: 1.0514\n",
            "Epoch 32/100\n",
            "\u001b[1m2/2\u001b[0m \u001b[32m━━━━━━━━━━━━━━━━━━━━\u001b[0m\u001b[37m\u001b[0m \u001b[1m0s\u001b[0m 149ms/step - accuracy: 0.9788 - loss: 1.0374 - val_accuracy: 1.0000 - val_loss: 1.0225\n",
            "Epoch 33/100\n",
            "\u001b[1m2/2\u001b[0m \u001b[32m━━━━━━━━━━━━━━━━━━━━\u001b[0m\u001b[37m\u001b[0m \u001b[1m0s\u001b[0m 79ms/step - accuracy: 0.9892 - loss: 1.0004 - val_accuracy: 1.0000 - val_loss: 0.9929\n",
            "Epoch 34/100\n",
            "\u001b[1m2/2\u001b[0m \u001b[32m━━━━━━━━━━━━━━━━━━━━\u001b[0m\u001b[37m\u001b[0m \u001b[1m0s\u001b[0m 93ms/step - accuracy: 0.9892 - loss: 0.9707 - val_accuracy: 1.0000 - val_loss: 0.9625\n",
            "Epoch 35/100\n",
            "\u001b[1m2/2\u001b[0m \u001b[32m━━━━━━━━━━━━━━━━━━━━\u001b[0m\u001b[37m\u001b[0m \u001b[1m0s\u001b[0m 141ms/step - accuracy: 0.9892 - loss: 0.9505 - val_accuracy: 1.0000 - val_loss: 0.9315\n",
            "Epoch 36/100\n",
            "\u001b[1m2/2\u001b[0m \u001b[32m━━━━━━━━━━━━━━━━━━━━\u001b[0m\u001b[37m\u001b[0m \u001b[1m0s\u001b[0m 87ms/step - accuracy: 0.9788 - loss: 0.9343 - val_accuracy: 1.0000 - val_loss: 0.8997\n",
            "Epoch 37/100\n",
            "\u001b[1m2/2\u001b[0m \u001b[32m━━━━━━━━━━━━━━━━━━━━\u001b[0m\u001b[37m\u001b[0m \u001b[1m0s\u001b[0m 95ms/step - accuracy: 0.9892 - loss: 0.8822 - val_accuracy: 1.0000 - val_loss: 0.8671\n",
            "Epoch 38/100\n",
            "\u001b[1m2/2\u001b[0m \u001b[32m━━━━━━━━━━━━━━━━━━━━\u001b[0m\u001b[37m\u001b[0m \u001b[1m0s\u001b[0m 62ms/step - accuracy: 0.9788 - loss: 0.8634 - val_accuracy: 1.0000 - val_loss: 0.8339\n",
            "Epoch 39/100\n",
            "\u001b[1m2/2\u001b[0m \u001b[32m━━━━━━━━━━━━━━━━━━━━\u001b[0m\u001b[37m\u001b[0m \u001b[1m0s\u001b[0m 62ms/step - accuracy: 0.9788 - loss: 0.8321 - val_accuracy: 1.0000 - val_loss: 0.8001\n",
            "Epoch 40/100\n",
            "\u001b[1m2/2\u001b[0m \u001b[32m━━━━━━━━━━━━━━━━━━━━\u001b[0m\u001b[37m\u001b[0m \u001b[1m0s\u001b[0m 70ms/step - accuracy: 0.9788 - loss: 0.7954 - val_accuracy: 1.0000 - val_loss: 0.7658\n",
            "Epoch 41/100\n",
            "\u001b[1m2/2\u001b[0m \u001b[32m━━━━━━━━━━━━━━━━━━━━\u001b[0m\u001b[37m\u001b[0m \u001b[1m0s\u001b[0m 75ms/step - accuracy: 0.9788 - loss: 0.7707 - val_accuracy: 1.0000 - val_loss: 0.7311\n",
            "Epoch 42/100\n",
            "\u001b[1m2/2\u001b[0m \u001b[32m━━━━━━━━━━━━━━━━━━━━\u001b[0m\u001b[37m\u001b[0m \u001b[1m0s\u001b[0m 46ms/step - accuracy: 0.9892 - loss: 0.7114 - val_accuracy: 1.0000 - val_loss: 0.6963\n",
            "Epoch 43/100\n",
            "\u001b[1m2/2\u001b[0m \u001b[32m━━━━━━━━━━━━━━━━━━━━\u001b[0m\u001b[37m\u001b[0m \u001b[1m0s\u001b[0m 88ms/step - accuracy: 0.9892 - loss: 0.6787 - val_accuracy: 1.0000 - val_loss: 0.6612\n",
            "Epoch 44/100\n",
            "\u001b[1m2/2\u001b[0m \u001b[32m━━━━━━━━━━━━━━━━━━━━\u001b[0m\u001b[37m\u001b[0m \u001b[1m0s\u001b[0m 136ms/step - accuracy: 0.9788 - loss: 0.6744 - val_accuracy: 1.0000 - val_loss: 0.6263\n",
            "Epoch 45/100\n",
            "\u001b[1m2/2\u001b[0m \u001b[32m━━━━━━━━━━━━━━━━━━━━\u001b[0m\u001b[37m\u001b[0m \u001b[1m0s\u001b[0m 67ms/step - accuracy: 0.9788 - loss: 0.6317 - val_accuracy: 1.0000 - val_loss: 0.5917\n",
            "Epoch 46/100\n",
            "\u001b[1m2/2\u001b[0m \u001b[32m━━━━━━━━━━━━━━━━━━━━\u001b[0m\u001b[37m\u001b[0m \u001b[1m0s\u001b[0m 28ms/step - accuracy: 0.9892 - loss: 0.5878 - val_accuracy: 1.0000 - val_loss: 0.5574\n",
            "Epoch 47/100\n",
            "\u001b[1m2/2\u001b[0m \u001b[32m━━━━━━━━━━━━━━━━━━━━\u001b[0m\u001b[37m\u001b[0m \u001b[1m0s\u001b[0m 29ms/step - accuracy: 0.9788 - loss: 0.5740 - val_accuracy: 1.0000 - val_loss: 0.5238\n",
            "Epoch 48/100\n",
            "\u001b[1m2/2\u001b[0m \u001b[32m━━━━━━━━━━━━━━━━━━━━\u001b[0m\u001b[37m\u001b[0m \u001b[1m0s\u001b[0m 28ms/step - accuracy: 0.9892 - loss: 0.5192 - val_accuracy: 1.0000 - val_loss: 0.4909\n",
            "Epoch 49/100\n",
            "\u001b[1m2/2\u001b[0m \u001b[32m━━━━━━━━━━━━━━━━━━━━\u001b[0m\u001b[37m\u001b[0m \u001b[1m0s\u001b[0m 28ms/step - accuracy: 0.9788 - loss: 0.5159 - val_accuracy: 1.0000 - val_loss: 0.4590\n",
            "Epoch 50/100\n",
            "\u001b[1m2/2\u001b[0m \u001b[32m━━━━━━━━━━━━━━━━━━━━\u001b[0m\u001b[37m\u001b[0m \u001b[1m0s\u001b[0m 39ms/step - accuracy: 0.9788 - loss: 0.4809 - val_accuracy: 1.0000 - val_loss: 0.4282\n",
            "Epoch 51/100\n",
            "\u001b[1m2/2\u001b[0m \u001b[32m━━━━━━━━━━━━━━━━━━━━\u001b[0m\u001b[37m\u001b[0m \u001b[1m0s\u001b[0m 29ms/step - accuracy: 0.9892 - loss: 0.4360 - val_accuracy: 1.0000 - val_loss: 0.3985\n",
            "Epoch 52/100\n",
            "\u001b[1m2/2\u001b[0m \u001b[32m━━━━━━━━━━━━━━━━━━━━\u001b[0m\u001b[37m\u001b[0m \u001b[1m0s\u001b[0m 34ms/step - accuracy: 0.9788 - loss: 0.4168 - val_accuracy: 1.0000 - val_loss: 0.3703\n",
            "Epoch 53/100\n",
            "\u001b[1m2/2\u001b[0m \u001b[32m━━━━━━━━━━━━━━━━━━━━\u001b[0m\u001b[37m\u001b[0m \u001b[1m0s\u001b[0m 53ms/step - accuracy: 0.9892 - loss: 0.3764 - val_accuracy: 1.0000 - val_loss: 0.3433\n",
            "Epoch 54/100\n",
            "\u001b[1m2/2\u001b[0m \u001b[32m━━━━━━━━━━━━━━━━━━━━\u001b[0m\u001b[37m\u001b[0m \u001b[1m0s\u001b[0m 29ms/step - accuracy: 0.9788 - loss: 0.3762 - val_accuracy: 1.0000 - val_loss: 0.3179\n",
            "Epoch 55/100\n",
            "\u001b[1m2/2\u001b[0m \u001b[32m━━━━━━━━━━━━━━━━━━━━\u001b[0m\u001b[37m\u001b[0m \u001b[1m0s\u001b[0m 29ms/step - accuracy: 0.9788 - loss: 0.3517 - val_accuracy: 1.0000 - val_loss: 0.2940\n",
            "Epoch 56/100\n",
            "\u001b[1m2/2\u001b[0m \u001b[32m━━━━━━━━━━━━━━━━━━━━\u001b[0m\u001b[37m\u001b[0m \u001b[1m0s\u001b[0m 29ms/step - accuracy: 0.9788 - loss: 0.3245 - val_accuracy: 1.0000 - val_loss: 0.2717\n",
            "Epoch 57/100\n",
            "\u001b[1m2/2\u001b[0m \u001b[32m━━━━━━━━━━━━━━━━━━━━\u001b[0m\u001b[37m\u001b[0m \u001b[1m0s\u001b[0m 27ms/step - accuracy: 0.9788 - loss: 0.3089 - val_accuracy: 1.0000 - val_loss: 0.2509\n",
            "Epoch 58/100\n",
            "\u001b[1m2/2\u001b[0m \u001b[32m━━━━━━━━━━━━━━━━━━━━\u001b[0m\u001b[37m\u001b[0m \u001b[1m0s\u001b[0m 32ms/step - accuracy: 0.9892 - loss: 0.2653 - val_accuracy: 1.0000 - val_loss: 0.2314\n",
            "Epoch 59/100\n",
            "\u001b[1m2/2\u001b[0m \u001b[32m━━━━━━━━━━━━━━━━━━━━\u001b[0m\u001b[37m\u001b[0m \u001b[1m0s\u001b[0m 33ms/step - accuracy: 0.9788 - loss: 0.2743 - val_accuracy: 1.0000 - val_loss: 0.2136\n",
            "Epoch 60/100\n",
            "\u001b[1m2/2\u001b[0m \u001b[32m━━━━━━━━━━━━━━━━━━━━\u001b[0m\u001b[37m\u001b[0m \u001b[1m0s\u001b[0m 28ms/step - accuracy: 0.9892 - loss: 0.2287 - val_accuracy: 1.0000 - val_loss: 0.1971\n",
            "Epoch 61/100\n",
            "\u001b[1m2/2\u001b[0m \u001b[32m━━━━━━━━━━━━━━━━━━━━\u001b[0m\u001b[37m\u001b[0m \u001b[1m0s\u001b[0m 28ms/step - accuracy: 0.9788 - loss: 0.2448 - val_accuracy: 1.0000 - val_loss: 0.1821\n",
            "Epoch 62/100\n",
            "\u001b[1m2/2\u001b[0m \u001b[32m━━━━━━━━━━━━━━━━━━━━\u001b[0m\u001b[37m\u001b[0m \u001b[1m0s\u001b[0m 28ms/step - accuracy: 0.9892 - loss: 0.2038 - val_accuracy: 1.0000 - val_loss: 0.1682\n",
            "Epoch 63/100\n",
            "\u001b[1m2/2\u001b[0m \u001b[32m━━━━━━━━━━━━━━━━━━━━\u001b[0m\u001b[37m\u001b[0m \u001b[1m0s\u001b[0m 29ms/step - accuracy: 0.9788 - loss: 0.2205 - val_accuracy: 1.0000 - val_loss: 0.1556\n",
            "Epoch 64/100\n",
            "\u001b[1m2/2\u001b[0m \u001b[32m━━━━━━━━━━━━━━━━━━━━\u001b[0m\u001b[37m\u001b[0m \u001b[1m0s\u001b[0m 33ms/step - accuracy: 0.9892 - loss: 0.1795 - val_accuracy: 1.0000 - val_loss: 0.1441\n",
            "Epoch 65/100\n",
            "\u001b[1m2/2\u001b[0m \u001b[32m━━━━━━━━━━━━━━━━━━━━\u001b[0m\u001b[37m\u001b[0m \u001b[1m0s\u001b[0m 30ms/step - accuracy: 0.9788 - loss: 0.2023 - val_accuracy: 1.0000 - val_loss: 0.1337\n",
            "Epoch 66/100\n",
            "\u001b[1m2/2\u001b[0m \u001b[32m━━━━━━━━━━━━━━━━━━━━\u001b[0m\u001b[37m\u001b[0m \u001b[1m0s\u001b[0m 31ms/step - accuracy: 0.9892 - loss: 0.1597 - val_accuracy: 1.0000 - val_loss: 0.1241\n",
            "Epoch 67/100\n",
            "\u001b[1m2/2\u001b[0m \u001b[32m━━━━━━━━━━━━━━━━━━━━\u001b[0m\u001b[37m\u001b[0m \u001b[1m0s\u001b[0m 42ms/step - accuracy: 0.9892 - loss: 0.1552 - val_accuracy: 1.0000 - val_loss: 0.1155\n",
            "Epoch 68/100\n",
            "\u001b[1m2/2\u001b[0m \u001b[32m━━━━━━━━━━━━━━━━━━━━\u001b[0m\u001b[37m\u001b[0m \u001b[1m0s\u001b[0m 37ms/step - accuracy: 0.9892 - loss: 0.1455 - val_accuracy: 1.0000 - val_loss: 0.1077\n",
            "Epoch 69/100\n",
            "\u001b[1m2/2\u001b[0m \u001b[32m━━━━━━━━━━━━━━━━━━━━\u001b[0m\u001b[37m\u001b[0m \u001b[1m0s\u001b[0m 29ms/step - accuracy: 0.9892 - loss: 0.1384 - val_accuracy: 1.0000 - val_loss: 0.1006\n",
            "Epoch 70/100\n",
            "\u001b[1m2/2\u001b[0m \u001b[32m━━━━━━━━━━━━━━━━━━━━\u001b[0m\u001b[37m\u001b[0m \u001b[1m0s\u001b[0m 29ms/step - accuracy: 0.9788 - loss: 0.1675 - val_accuracy: 1.0000 - val_loss: 0.0943\n",
            "Epoch 71/100\n",
            "\u001b[1m2/2\u001b[0m \u001b[32m━━━━━━━━━━━━━━━━━━━━\u001b[0m\u001b[37m\u001b[0m \u001b[1m0s\u001b[0m 31ms/step - accuracy: 0.9892 - loss: 0.1279 - val_accuracy: 1.0000 - val_loss: 0.0884\n",
            "Epoch 72/100\n",
            "\u001b[1m2/2\u001b[0m \u001b[32m━━━━━━━━━━━━━━━━━━━━\u001b[0m\u001b[37m\u001b[0m \u001b[1m0s\u001b[0m 28ms/step - accuracy: 0.9892 - loss: 0.1236 - val_accuracy: 1.0000 - val_loss: 0.0831\n",
            "Epoch 73/100\n",
            "\u001b[1m2/2\u001b[0m \u001b[32m━━━━━━━━━━━━━━━━━━━━\u001b[0m\u001b[37m\u001b[0m \u001b[1m0s\u001b[0m 28ms/step - accuracy: 0.9788 - loss: 0.1550 - val_accuracy: 1.0000 - val_loss: 0.0784\n",
            "Epoch 74/100\n",
            "\u001b[1m2/2\u001b[0m \u001b[32m━━━━━━━━━━━━━━━━━━━━\u001b[0m\u001b[37m\u001b[0m \u001b[1m0s\u001b[0m 28ms/step - accuracy: 0.9892 - loss: 0.1129 - val_accuracy: 1.0000 - val_loss: 0.0740\n",
            "Epoch 75/100\n",
            "\u001b[1m2/2\u001b[0m \u001b[32m━━━━━━━━━━━━━━━━━━━━\u001b[0m\u001b[37m\u001b[0m \u001b[1m0s\u001b[0m 28ms/step - accuracy: 0.9892 - loss: 0.1105 - val_accuracy: 1.0000 - val_loss: 0.0700\n",
            "Epoch 76/100\n",
            "\u001b[1m2/2\u001b[0m \u001b[32m━━━━━━━━━━━━━━━━━━━━\u001b[0m\u001b[37m\u001b[0m \u001b[1m0s\u001b[0m 27ms/step - accuracy: 0.9892 - loss: 0.1083 - val_accuracy: 1.0000 - val_loss: 0.0664\n",
            "Epoch 77/100\n",
            "\u001b[1m2/2\u001b[0m \u001b[32m━━━━━━━━━━━━━━━━━━━━\u001b[0m\u001b[37m\u001b[0m \u001b[1m0s\u001b[0m 29ms/step - accuracy: 0.9788 - loss: 0.1446 - val_accuracy: 1.0000 - val_loss: 0.0632\n",
            "Epoch 78/100\n",
            "\u001b[1m2/2\u001b[0m \u001b[32m━━━━━━━━━━━━━━━━━━━━\u001b[0m\u001b[37m\u001b[0m \u001b[1m0s\u001b[0m 28ms/step - accuracy: 0.9788 - loss: 0.1439 - val_accuracy: 1.0000 - val_loss: 0.0602\n",
            "Epoch 79/100\n",
            "\u001b[1m2/2\u001b[0m \u001b[32m━━━━━━━━━━━━━━━━━━━━\u001b[0m\u001b[37m\u001b[0m \u001b[1m0s\u001b[0m 35ms/step - accuracy: 0.9788 - loss: 0.1410 - val_accuracy: 1.0000 - val_loss: 0.0574\n",
            "Epoch 80/100\n",
            "\u001b[1m2/2\u001b[0m \u001b[32m━━━━━━━━━━━━━━━━━━━━\u001b[0m\u001b[37m\u001b[0m \u001b[1m0s\u001b[0m 30ms/step - accuracy: 0.9788 - loss: 0.1387 - val_accuracy: 1.0000 - val_loss: 0.0549\n",
            "Epoch 81/100\n",
            "\u001b[1m2/2\u001b[0m \u001b[32m━━━━━━━━━━━━━━━━━━━━\u001b[0m\u001b[37m\u001b[0m \u001b[1m0s\u001b[0m 37ms/step - accuracy: 0.9788 - loss: 0.1376 - val_accuracy: 1.0000 - val_loss: 0.0526\n",
            "Epoch 82/100\n",
            "\u001b[1m2/2\u001b[0m \u001b[32m━━━━━━━━━━━━━━━━━━━━\u001b[0m\u001b[37m\u001b[0m \u001b[1m0s\u001b[0m 32ms/step - accuracy: 0.9788 - loss: 0.1360 - val_accuracy: 1.0000 - val_loss: 0.0504\n",
            "Epoch 83/100\n",
            "\u001b[1m2/2\u001b[0m \u001b[32m━━━━━━━━━━━━━━━━━━━━\u001b[0m\u001b[37m\u001b[0m \u001b[1m0s\u001b[0m 28ms/step - accuracy: 0.9788 - loss: 0.1329 - val_accuracy: 1.0000 - val_loss: 0.0484\n",
            "Epoch 84/100\n",
            "\u001b[1m2/2\u001b[0m \u001b[32m━━━━━━━━━━━━━━━━━━━━\u001b[0m\u001b[37m\u001b[0m \u001b[1m0s\u001b[0m 28ms/step - accuracy: 0.9788 - loss: 0.1328 - val_accuracy: 1.0000 - val_loss: 0.0466\n",
            "Epoch 85/100\n",
            "\u001b[1m2/2\u001b[0m \u001b[32m━━━━━━━━━━━━━━━━━━━━\u001b[0m\u001b[37m\u001b[0m \u001b[1m0s\u001b[0m 30ms/step - accuracy: 0.9892 - loss: 0.0893 - val_accuracy: 1.0000 - val_loss: 0.0448\n",
            "Epoch 86/100\n",
            "\u001b[1m2/2\u001b[0m \u001b[32m━━━━━━━━━━━━━━━━━━━━\u001b[0m\u001b[37m\u001b[0m \u001b[1m0s\u001b[0m 30ms/step - accuracy: 0.9892 - loss: 0.0868 - val_accuracy: 1.0000 - val_loss: 0.0432\n",
            "Epoch 87/100\n",
            "\u001b[1m2/2\u001b[0m \u001b[32m━━━━━━━━━━━━━━━━━━━━\u001b[0m\u001b[37m\u001b[0m \u001b[1m0s\u001b[0m 28ms/step - accuracy: 0.9788 - loss: 0.1311 - val_accuracy: 1.0000 - val_loss: 0.0418\n",
            "Epoch 88/100\n",
            "\u001b[1m2/2\u001b[0m \u001b[32m━━━━━━━━━━━━━━━━━━━━\u001b[0m\u001b[37m\u001b[0m \u001b[1m0s\u001b[0m 28ms/step - accuracy: 0.9788 - loss: 0.1289 - val_accuracy: 1.0000 - val_loss: 0.0404\n",
            "Epoch 89/100\n",
            "\u001b[1m2/2\u001b[0m \u001b[32m━━━━━━━━━━━━━━━━━━━━\u001b[0m\u001b[37m\u001b[0m \u001b[1m0s\u001b[0m 28ms/step - accuracy: 0.9788 - loss: 0.1285 - val_accuracy: 1.0000 - val_loss: 0.0392\n",
            "Epoch 90/100\n",
            "\u001b[1m2/2\u001b[0m \u001b[32m━━━━━━━━━━━━━━━━━━━━\u001b[0m\u001b[37m\u001b[0m \u001b[1m0s\u001b[0m 28ms/step - accuracy: 0.9788 - loss: 0.1274 - val_accuracy: 1.0000 - val_loss: 0.0380\n",
            "Epoch 91/100\n",
            "\u001b[1m2/2\u001b[0m \u001b[32m━━━━━━━━━━━━━━━━━━━━\u001b[0m\u001b[37m\u001b[0m \u001b[1m0s\u001b[0m 28ms/step - accuracy: 0.9892 - loss: 0.0834 - val_accuracy: 1.0000 - val_loss: 0.0368\n",
            "Epoch 92/100\n",
            "\u001b[1m2/2\u001b[0m \u001b[32m━━━━━━━━━━━━━━━━━━━━\u001b[0m\u001b[37m\u001b[0m \u001b[1m0s\u001b[0m 32ms/step - accuracy: 0.9892 - loss: 0.0828 - val_accuracy: 1.0000 - val_loss: 0.0357\n",
            "Epoch 93/100\n",
            "\u001b[1m2/2\u001b[0m \u001b[32m━━━━━━━━━━━━━━━━━━━━\u001b[0m\u001b[37m\u001b[0m \u001b[1m0s\u001b[0m 46ms/step - accuracy: 0.9788 - loss: 0.1264 - val_accuracy: 1.0000 - val_loss: 0.0348\n",
            "Epoch 94/100\n",
            "\u001b[1m2/2\u001b[0m \u001b[32m━━━━━━━━━━━━━━━━━━━━\u001b[0m\u001b[37m\u001b[0m \u001b[1m0s\u001b[0m 47ms/step - accuracy: 0.9788 - loss: 0.1253 - val_accuracy: 1.0000 - val_loss: 0.0339\n",
            "Epoch 95/100\n",
            "\u001b[1m2/2\u001b[0m \u001b[32m━━━━━━━━━━━━━━━━━━━━\u001b[0m\u001b[37m\u001b[0m \u001b[1m0s\u001b[0m 55ms/step - accuracy: 0.9892 - loss: 0.0792 - val_accuracy: 1.0000 - val_loss: 0.0330\n",
            "Epoch 96/100\n",
            "\u001b[1m2/2\u001b[0m \u001b[32m━━━━━━━━━━━━━━━━━━━━\u001b[0m\u001b[37m\u001b[0m \u001b[1m0s\u001b[0m 55ms/step - accuracy: 0.9788 - loss: 0.1250 - val_accuracy: 1.0000 - val_loss: 0.0323\n",
            "Epoch 97/100\n",
            "\u001b[1m2/2\u001b[0m \u001b[32m━━━━━━━━━━━━━━━━━━━━\u001b[0m\u001b[37m\u001b[0m \u001b[1m0s\u001b[0m 40ms/step - accuracy: 0.9892 - loss: 0.0779 - val_accuracy: 1.0000 - val_loss: 0.0315\n",
            "Epoch 98/100\n",
            "\u001b[1m2/2\u001b[0m \u001b[32m━━━━━━━━━━━━━━━━━━━━\u001b[0m\u001b[37m\u001b[0m \u001b[1m0s\u001b[0m 44ms/step - accuracy: 0.9788 - loss: 0.1239 - val_accuracy: 1.0000 - val_loss: 0.0308\n",
            "Epoch 99/100\n",
            "\u001b[1m2/2\u001b[0m \u001b[32m━━━━━━━━━━━━━━━━━━━━\u001b[0m\u001b[37m\u001b[0m \u001b[1m0s\u001b[0m 40ms/step - accuracy: 0.9788 - loss: 0.1236 - val_accuracy: 1.0000 - val_loss: 0.0302\n",
            "Epoch 100/100\n",
            "\u001b[1m2/2\u001b[0m \u001b[32m━━━━━━━━━━━━━━━━━━━━\u001b[0m\u001b[37m\u001b[0m \u001b[1m0s\u001b[0m 46ms/step - accuracy: 0.9892 - loss: 0.0767 - val_accuracy: 1.0000 - val_loss: 0.0295\n"
          ]
        }
      ]
    },
    {
      "cell_type": "markdown",
      "source": [
        "## 5. Evaluation"
      ],
      "metadata": {
        "id": "Y1EkVn1ru4bw"
      }
    },
    {
      "cell_type": "code",
      "source": [
        "# Evaluate the model\n",
        "loss, accuracy = model.evaluate(X_test, y_test)\n",
        "\n",
        "print('Train Accuracy: ', max(history.history['accuracy']))\n",
        "print('Validation Accuracy: ', max(history.history['val_accuracy']))\n",
        "print('Train Loss: ', min(history.history['loss']))\n",
        "print('Validation Loss: ', min(history.history['val_loss']))"
      ],
      "metadata": {
        "id": "_T9LDA_8u7vN",
        "colab": {
          "base_uri": "https://localhost:8080/"
        },
        "outputId": "08ddf604-ef3e-467a-ffa4-092f162961cb"
      },
      "execution_count": 18,
      "outputs": [
        {
          "output_type": "stream",
          "name": "stdout",
          "text": [
            "\u001b[1m2/2\u001b[0m \u001b[32m━━━━━━━━━━━━━━━━━━━━\u001b[0m\u001b[37m\u001b[0m \u001b[1m0s\u001b[0m 10ms/step - accuracy: 0.9720 - loss: 0.1544\n",
            "Train Accuracy:  0.9838709831237793\n",
            "Validation Accuracy:  1.0\n",
            "Train Loss:  0.10088348388671875\n",
            "Validation Loss:  0.029483692720532417\n"
          ]
        }
      ]
    },
    {
      "cell_type": "markdown",
      "source": [
        "#### 5.1. Plot Akurasi"
      ],
      "metadata": {
        "id": "SNXgtZTmZ3qr"
      }
    },
    {
      "cell_type": "code",
      "source": [
        "plt.figure(figsize=(12, 4))\n",
        "\n",
        "plt.subplot(1, 2, 1)\n",
        "plt.plot(history.history['accuracy'], label='Train Accuracy')\n",
        "plt.plot(history.history['val_accuracy'], label='Validation Accuracy')\n",
        "plt.legend()\n",
        "plt.title('Accuracy')\n",
        "\n",
        "plt.subplot(1, 2, 2)\n",
        "plt.plot(history.history['loss'], label='Train Loss')\n",
        "plt.plot(history.history['val_loss'], label='Validation Loss')\n",
        "plt.legend()\n",
        "plt.title('Loss')\n",
        "\n",
        "plt.show()"
      ],
      "metadata": {
        "id": "x9JSeJBbcCAX",
        "colab": {
          "base_uri": "https://localhost:8080/",
          "height": 391
        },
        "outputId": "7d85067c-bc0d-4519-aa9a-21c03bc4e097"
      },
      "execution_count": 19,
      "outputs": [
        {
          "output_type": "display_data",
          "data": {
            "text/plain": [
              "<Figure size 1200x400 with 2 Axes>"
            ],
            "image/png": "[encoded data removed]"
          },
          "metadata": {}
        }
      ]
    },
    {
      "cell_type": "markdown",
      "source": [],
      "metadata": {
        "id": "mQVI19vBSgc5"
      }
    },
    {
      "cell_type": "code",
      "source": [
        "import pickle\n",
        "\n",
        "data_model.to_hdf('wisata_yogya.h5', key='df', mode='w')\n",
        "with open('scaler.pkl', 'wb') as f:\n",
        "    pickle.dump(scaler, f)"
      ],
      "metadata": {
        "id": "xLnYQN4uSfOl"
      },
      "execution_count": 20,
      "outputs": []
    },
    {
      "cell_type": "markdown",
      "source": [],
      "metadata": {
        "id": "LcdueUxFSraP"
      }
    },
    {
      "cell_type": "code",
      "source": [
        "# Load and preprocess data\n",
        "loadedModel = pd.read_hdf('wisata_yogya.h5', 'df')\n",
        "with open('scaler.pkl', 'rb') as f:\n",
        "    loaded_scaler = pickle.load(f)\n",
        "test_model = df_copy_tourism.copy()\n",
        "test_model"
      ],
      "metadata": {
        "colab": {
          "base_uri": "https://localhost:8080/",
          "height": 423
        },
        "id": "KnpagpbASq_l",
        "outputId": "ffe7e897-cf24-4cc9-9a33-4f72bf0ad529"
      },
      "execution_count": 21,
      "outputs": [
        {
          "output_type": "execute_result",
          "data": {
            "text/plain": [
              "     Place_Id                           Place_Name  \\\n",
              "84         85              Taman Pintar Yogyakarta   \n",
              "85         86                   Keraton Yogyakarta   \n",
              "86         87           Sindu Kusuma Edupark (SKE)   \n",
              "87         88  Museum Benteng Vredeburg Yogyakarta   \n",
              "88         89                 De Mata Museum Jogja   \n",
              "..        ...                                  ...   \n",
              "205       206                     Wisata Kaliurang   \n",
              "206       207                        Heha Sky View   \n",
              "207       208                   Taman Sungai Mudal   \n",
              "208       209                       Pantai Sanglen   \n",
              "209       210                        Pantai Congot   \n",
              "\n",
              "                                           Description       Category  \\\n",
              "84   Taman Pintar Yogyakarta (bahasa Jawa: Hanacara...  Taman Hiburan   \n",
              "85   Keraton Ngayogyakarta Hadiningrat atau Keraton...         Budaya   \n",
              "86   Sindu Kusuma Edupark (SKE) merupakan sebuah de...  Taman Hiburan   \n",
              "87   Museum Benteng Vredeburg (bahasa Jawa: ꦩꦸꦱꦶꦪꦸꦩ...         Budaya   \n",
              "88   Museum De Mata merupakan salah satu museum yan...         Budaya   \n",
              "..                                                 ...            ...   \n",
              "205  Jogja selalu menarik untuk dikulik, terlebih t...     Cagar Alam   \n",
              "206  HeHa Sky View adalah salah satu tempat wisata ...  Taman Hiburan   \n",
              "207  Taman Sungai Mudal, sebuah objek wisata alam t...     Cagar Alam   \n",
              "208  Pantai Sanglen. Lokasinya berada di Desa Kemad...         Bahari   \n",
              "209  Selain Pantai Glagah dan Pantai Trisik, ternya...         Bahari   \n",
              "\n",
              "           City  Price  Rating  \n",
              "84   Yogyakarta   6000     4.5  \n",
              "85   Yogyakarta  15000     4.6  \n",
              "86   Yogyakarta  20000     4.2  \n",
              "87   Yogyakarta   3000     4.6  \n",
              "88   Yogyakarta  50000     4.4  \n",
              "..          ...    ...     ...  \n",
              "205  Yogyakarta   8000     4.4  \n",
              "206  Yogyakarta  15000     4.4  \n",
              "207  Yogyakarta  10000     4.6  \n",
              "208  Yogyakarta  10000     4.5  \n",
              "209  Yogyakarta   3000     4.3  \n",
              "\n",
              "[126 rows x 7 columns]"
            ],
            "text/html": [
              "\n",
              "  <div id=\"df-498b10ca-c51d-4dfb-955c-71312b6c7be3\" class=\"colab-df-container\">\n",
              "    <div>\n",
              "<style scoped>\n",
              "    .dataframe tbody tr th:only-of-type {\n",
              "        vertical-align: middle;\n",
              "    }\n",
              "\n",
              "    .dataframe tbody tr th {\n",
              "        vertical-align: top;\n",
              "    }\n",
              "\n",
              "    .dataframe thead th {\n",
              "        text-align: right;\n",
              "    }\n",
              "</style>\n",
              "<table border=\"1\" class=\"dataframe\">\n",
              "  <thead>\n",
              "    <tr style=\"text-align: right;\">\n",
              "      <th></th>\n",
              "      <th>Place_Id</th>\n",
              "      <th>Place_Name</th>\n",
              "      <th>Description</th>\n",
              "      <th>Category</th>\n",
              "      <th>City</th>\n",
              "      <th>Price</th>\n",
              "      <th>Rating</th>\n",
              "    </tr>\n",
              "  </thead>\n",
              "  <tbody>\n",
              "    <tr>\n",
              "      <th>84</th>\n",
              "      <td>85</td>\n",
              "      <td>Taman Pintar Yogyakarta</td>\n",
              "      <td>Taman Pintar Yogyakarta (bahasa Jawa: Hanacara...</td>\n",
              "      <td>Taman Hiburan</td>\n",
              "      <td>Yogyakarta</td>\n",
              "      <td>6000</td>\n",
              "      <td>4.5</td>\n",
              "    </tr>\n",
              "    <tr>\n",
              "      <th>85</th>\n",
              "      <td>86</td>\n",
              "      <td>Keraton Yogyakarta</td>\n",
              "      <td>Keraton Ngayogyakarta Hadiningrat atau Keraton...</td>\n",
              "      <td>Budaya</td>\n",
              "      <td>Yogyakarta</td>\n",
              "      <td>15000</td>\n",
              "      <td>4.6</td>\n",
              "    </tr>\n",
              "    <tr>\n",
              "      <th>86</th>\n",
              "      <td>87</td>\n",
              "      <td>Sindu Kusuma Edupark (SKE)</td>\n",
              "      <td>Sindu Kusuma Edupark (SKE) merupakan sebuah de...</td>\n",
              "      <td>Taman Hiburan</td>\n",
              "      <td>Yogyakarta</td>\n",
              "      <td>20000</td>\n",
              "      <td>4.2</td>\n",
              "    </tr>\n",
              "    <tr>\n",
              "      <th>87</th>\n",
              "      <td>88</td>\n",
              "      <td>Museum Benteng Vredeburg Yogyakarta</td>\n",
              "      <td>Museum Benteng Vredeburg (bahasa Jawa: ꦩꦸꦱꦶꦪꦸꦩ...</td>\n",
              "      <td>Budaya</td>\n",
              "      <td>Yogyakarta</td>\n",
              "      <td>3000</td>\n",
              "      <td>4.6</td>\n",
              "    </tr>\n",
              "    <tr>\n",
              "      <th>88</th>\n",
              "      <td>89</td>\n",
              "      <td>De Mata Museum Jogja</td>\n",
              "      <td>Museum De Mata merupakan salah satu museum yan...</td>\n",
              "      <td>Budaya</td>\n",
              "      <td>Yogyakarta</td>\n",
              "      <td>50000</td>\n",
              "      <td>4.4</td>\n",
              "    </tr>\n",
              "    <tr>\n",
              "      <th>...</th>\n",
              "      <td>...</td>\n",
              "      <td>...</td>\n",
              "      <td>...</td>\n",
              "      <td>...</td>\n",
              "      <td>...</td>\n",
              "      <td>...</td>\n",
              "      <td>...</td>\n",
              "    </tr>\n",
              "    <tr>\n",
              "      <th>205</th>\n",
              "      <td>206</td>\n",
              "      <td>Wisata Kaliurang</td>\n",
              "      <td>Jogja selalu menarik untuk dikulik, terlebih t...</td>\n",
              "      <td>Cagar Alam</td>\n",
              "      <td>Yogyakarta</td>\n",
              "      <td>8000</td>\n",
              "      <td>4.4</td>\n",
              "    </tr>\n",
              "    <tr>\n",
              "      <th>206</th>\n",
              "      <td>207</td>\n",
              "      <td>Heha Sky View</td>\n",
              "      <td>HeHa Sky View adalah salah satu tempat wisata ...</td>\n",
              "      <td>Taman Hiburan</td>\n",
              "      <td>Yogyakarta</td>\n",
              "      <td>15000</td>\n",
              "      <td>4.4</td>\n",
              "    </tr>\n",
              "    <tr>\n",
              "      <th>207</th>\n",
              "      <td>208</td>\n",
              "      <td>Taman Sungai Mudal</td>\n",
              "      <td>Taman Sungai Mudal, sebuah objek wisata alam t...</td>\n",
              "      <td>Cagar Alam</td>\n",
              "      <td>Yogyakarta</td>\n",
              "      <td>10000</td>\n",
              "      <td>4.6</td>\n",
              "    </tr>\n",
              "    <tr>\n",
              "      <th>208</th>\n",
              "      <td>209</td>\n",
              "      <td>Pantai Sanglen</td>\n",
              "      <td>Pantai Sanglen. Lokasinya berada di Desa Kemad...</td>\n",
              "      <td>Bahari</td>\n",
              "      <td>Yogyakarta</td>\n",
              "      <td>10000</td>\n",
              "      <td>4.5</td>\n",
              "    </tr>\n",
              "    <tr>\n",
              "      <th>209</th>\n",
              "      <td>210</td>\n",
              "      <td>Pantai Congot</td>\n",
              "      <td>Selain Pantai Glagah dan Pantai Trisik, ternya...</td>\n",
              "      <td>Bahari</td>\n",
              "      <td>Yogyakarta</td>\n",
              "      <td>3000</td>\n",
              "      <td>4.3</td>\n",
              "    </tr>\n",
              "  </tbody>\n",
              "</table>\n",
              "<p>126 rows × 7 columns</p>\n",
              "</div>\n",
              "    <div class=\"colab-df-buttons\">\n",
              "\n",
              "  <div class=\"colab-df-container\">\n",
              "    <button class=\"colab-df-convert\" onclick=\"convertToInteractive('df-498b10ca-c51d-4dfb-955c-71312b6c7be3')\"\n",
              "            title=\"Convert this dataframe to an interactive table.\"\n",
              "            style=\"display:none;\">\n",
              "\n",
              "  <svg xmlns=\"http://www.w3.org/2000/svg\" height=\"24px\" viewBox=\"0 -960 960 960\">\n",
              "    <path d=\"M120-120v-720h720v720H120Zm60-500h600v-160H180v160Zm220 220h160v-160H400v160Zm0 220h160v-160H400v160ZM180-400h160v-160H180v160Zm440 0h160v-160H620v160ZM180-180h160v-160H180v160Zm440 0h160v-160H620v160Z\"/>\n",
              "  </svg>\n",
              "    </button>\n",
              "\n",
              "  <style>\n",
              "    .colab-df-container {\n",
              "      display:flex;\n",
              "      gap: 12px;\n",
              "    }\n",
              "\n",
              "    .colab-df-convert {\n",
              "      background-color: #E8F0FE;\n",
              "      border: none;\n",
              "      border-radius: 50%;\n",
              "      cursor: pointer;\n",
              "      display: none;\n",
              "      fill: #1967D2;\n",
              "      height: 32px;\n",
              "      padding: 0 0 0 0;\n",
              "      width: 32px;\n",
              "    }\n",
              "\n",
              "    .colab-df-convert:hover {\n",
              "      background-color: #E2EBFA;\n",
              "      box-shadow: 0px 1px 2px rgba(60, 64, 67, 0.3), 0px 1px 3px 1px rgba(60, 64, 67, 0.15);\n",
              "      fill: #174EA6;\n",
              "    }\n",
              "\n",
              "    .colab-df-buttons div {\n",
              "      margin-bottom: 4px;\n",
              "    }\n",
              "\n",
              "    [theme=dark] .colab-df-convert {\n",
              "      background-color: #3B4455;\n",
              "      fill: #D2E3FC;\n",
              "    }\n",
              "\n",
              "    [theme=dark] .colab-df-convert:hover {\n",
              "      background-color: #434B5C;\n",
              "      box-shadow: 0px 1px 3px 1px rgba(0, 0, 0, 0.15);\n",
              "      filter: drop-shadow(0px 1px 2px rgba(0, 0, 0, 0.3));\n",
              "      fill: #FFFFFF;\n",
              "    }\n",
              "  </style>\n",
              "\n",
              "    <script>\n",
              "      const buttonEl =\n",
              "        document.querySelector('#df-498b10ca-c51d-4dfb-955c-71312b6c7be3 button.colab-df-convert');\n",
              "      buttonEl.style.display =\n",
              "        google.colab.kernel.accessAllowed ? 'block' : 'none';\n",
              "\n",
              "      async function convertToInteractive(key) {\n",
              "        const element = document.querySelector('#df-498b10ca-c51d-4dfb-955c-71312b6c7be3');\n",
              "        const dataTable =\n",
              "          await google.colab.kernel.invokeFunction('convertToInteractive',\n",
              "                                                    [key], {});\n",
              "        if (!dataTable) return;\n",
              "\n",
              "        const docLinkHtml = 'Like what you see? Visit the ' +\n",
              "          '<a target=\"_blank\" href=https://colab.research.google.com/notebooks/data_table.ipynb>data table notebook</a>'\n",
              "          + ' to learn more about interactive tables.';\n",
              "        element.innerHTML = '';\n",
              "        dataTable['output_type'] = 'display_data';\n",
              "        await google.colab.output.renderOutput(dataTable, element);\n",
              "        const docLink = document.createElement('div');\n",
              "        docLink.innerHTML = docLinkHtml;\n",
              "        element.appendChild(docLink);\n",
              "      }\n",
              "    </script>\n",
              "  </div>\n",
              "\n",
              "\n",
              "<div id=\"df-282391e3-dc72-4f49-8f13-c69e081aa8f0\">\n",
              "  <button class=\"colab-df-quickchart\" onclick=\"quickchart('df-282391e3-dc72-4f49-8f13-c69e081aa8f0')\"\n",
              "            title=\"Suggest charts\"\n",
              "            style=\"display:none;\">\n",
              "\n",
              "<svg xmlns=\"http://www.w3.org/2000/svg\" height=\"24px\"viewBox=\"0 0 24 24\"\n",
              "     width=\"24px\">\n",
              "    <g>\n",
              "        <path d=\"M19 3H5c-1.1 0-2 .9-2 2v14c0 1.1.9 2 2 2h14c1.1 0 2-.9 2-2V5c0-1.1-.9-2-2-2zM9 17H7v-7h2v7zm4 0h-2V7h2v10zm4 0h-2v-4h2v4z\"/>\n",
              "    </g>\n",
              "</svg>\n",
              "  </button>\n",
              "\n",
              "<style>\n",
              "  .colab-df-quickchart {\n",
              "      --bg-color: #E8F0FE;\n",
              "      --fill-color: #1967D2;\n",
              "      --hover-bg-color: #E2EBFA;\n",
              "      --hover-fill-color: #174EA6;\n",
              "      --disabled-fill-color: #AAA;\n",
              "      --disabled-bg-color: #DDD;\n",
              "  }\n",
              "\n",
              "  [theme=dark] .colab-df-quickchart {\n",
              "      --bg-color: #3B4455;\n",
              "      --fill-color: #D2E3FC;\n",
              "      --hover-bg-color: #434B5C;\n",
              "      --hover-fill-color: #FFFFFF;\n",
              "      --disabled-bg-color: #3B4455;\n",
              "      --disabled-fill-color: #666;\n",
              "  }\n",
              "\n",
              "  .colab-df-quickchart {\n",
              "    background-color: var(--bg-color);\n",
              "    border: none;\n",
              "    border-radius: 50%;\n",
              "    cursor: pointer;\n",
              "    display: none;\n",
              "    fill: var(--fill-color);\n",
              "    height: 32px;\n",
              "    padding: 0;\n",
              "    width: 32px;\n",
              "  }\n",
              "\n",
              "  .colab-df-quickchart:hover {\n",
              "    background-color: var(--hover-bg-color);\n",
              "    box-shadow: 0 1px 2px rgba(60, 64, 67, 0.3), 0 1px 3px 1px rgba(60, 64, 67, 0.15);\n",
              "    fill: var(--button-hover-fill-color);\n",
              "  }\n",
              "\n",
              "  .colab-df-quickchart-complete:disabled,\n",
              "  .colab-df-quickchart-complete:disabled:hover {\n",
              "    background-color: var(--disabled-bg-color);\n",
              "    fill: var(--disabled-fill-color);\n",
              "    box-shadow: none;\n",
              "  }\n",
              "\n",
              "  .colab-df-spinner {\n",
              "    border: 2px solid var(--fill-color);\n",
              "    border-color: transparent;\n",
              "    border-bottom-color: var(--fill-color);\n",
              "    animation:\n",
              "      spin 1s steps(1) infinite;\n",
              "  }\n",
              "\n",
              "  @keyframes spin {\n",
              "    0% {\n",
              "      border-color: transparent;\n",
              "      border-bottom-color: var(--fill-color);\n",
              "      border-left-color: var(--fill-color);\n",
              "    }\n",
              "    20% {\n",
              "      border-color: transparent;\n",
              "      border-left-color: var(--fill-color);\n",
              "      border-top-color: var(--fill-color);\n",
              "    }\n",
              "    30% {\n",
              "      border-color: transparent;\n",
              "      border-left-color: var(--fill-color);\n",
              "      border-top-color: var(--fill-color);\n",
              "      border-right-color: var(--fill-color);\n",
              "    }\n",
              "    40% {\n",
              "      border-color: transparent;\n",
              "      border-right-color: var(--fill-color);\n",
              "      border-top-color: var(--fill-color);\n",
              "    }\n",
              "    60% {\n",
              "      border-color: transparent;\n",
              "      border-right-color: var(--fill-color);\n",
              "    }\n",
              "    80% {\n",
              "      border-color: transparent;\n",
              "      border-right-color: var(--fill-color);\n",
              "      border-bottom-color: var(--fill-color);\n",
              "    }\n",
              "    90% {\n",
              "      border-color: transparent;\n",
              "      border-bottom-color: var(--fill-color);\n",
              "    }\n",
              "  }\n",
              "</style>\n",
              "\n",
              "  <script>\n",
              "    async function quickchart(key) {\n",
              "      const quickchartButtonEl =\n",
              "        document.querySelector('#' + key + ' button');\n",
              "      quickchartButtonEl.disabled = true;  // To prevent multiple clicks.\n",
              "      quickchartButtonEl.classList.add('colab-df-spinner');\n",
              "      try {\n",
              "        const charts = await google.colab.kernel.invokeFunction(\n",
              "            'suggestCharts', [key], {});\n",
              "      } catch (error) {\n",
              "        console.error('Error during call to suggestCharts:', error);\n",
              "      }\n",
              "      quickchartButtonEl.classList.remove('colab-df-spinner');\n",
              "      quickchartButtonEl.classList.add('colab-df-quickchart-complete');\n",
              "    }\n",
              "    (() => {\n",
              "      let quickchartButtonEl =\n",
              "        document.querySelector('#df-282391e3-dc72-4f49-8f13-c69e081aa8f0 button');\n",
              "      quickchartButtonEl.style.display =\n",
              "        google.colab.kernel.accessAllowed ? 'block' : 'none';\n",
              "    })();\n",
              "  </script>\n",
              "</div>\n",
              "\n",
              "  <div id=\"id_ece72353-b1f2-413b-aa62-b9555f66f081\">\n",
              "    <style>\n",
              "      .colab-df-generate {\n",
              "        background-color: #E8F0FE;\n",
              "        border: none;\n",
              "        border-radius: 50%;\n",
              "        cursor: pointer;\n",
              "        display: none;\n",
              "        fill: #1967D2;\n",
              "        height: 32px;\n",
              "        padding: 0 0 0 0;\n",
              "        width: 32px;\n",
              "      }\n",
              "\n",
              "      .colab-df-generate:hover {\n",
              "        background-color: #E2EBFA;\n",
              "        box-shadow: 0px 1px 2px rgba(60, 64, 67, 0.3), 0px 1px 3px 1px rgba(60, 64, 67, 0.15);\n",
              "        fill: #174EA6;\n",
              "      }\n",
              "\n",
              "      [theme=dark] .colab-df-generate {\n",
              "        background-color: #3B4455;\n",
              "        fill: #D2E3FC;\n",
              "      }\n",
              "\n",
              "      [theme=dark] .colab-df-generate:hover {\n",
              "        background-color: #434B5C;\n",
              "        box-shadow: 0px 1px 3px 1px rgba(0, 0, 0, 0.15);\n",
              "        filter: drop-shadow(0px 1px 2px rgba(0, 0, 0, 0.3));\n",
              "        fill: #FFFFFF;\n",
              "      }\n",
              "    </style>\n",
              "    <button class=\"colab-df-generate\" onclick=\"generateWithVariable('test_model')\"\n",
              "            title=\"Generate code using this dataframe.\"\n",
              "            style=\"display:none;\">\n",
              "\n",
              "  <svg xmlns=\"http://www.w3.org/2000/svg\" height=\"24px\"viewBox=\"0 0 24 24\"\n",
              "       width=\"24px\">\n",
              "    <path d=\"M7,19H8.4L18.45,9,17,7.55,7,17.6ZM5,21V16.75L18.45,3.32a2,2,0,0,1,2.83,0l1.4,1.43a1.91,1.91,0,0,1,.58,1.4,1.91,1.91,0,0,1-.58,1.4L9.25,21ZM18.45,9,17,7.55Zm-12,3A5.31,5.31,0,0,0,4.9,8.1,5.31,5.31,0,0,0,1,6.5,5.31,5.31,0,0,0,4.9,4.9,5.31,5.31,0,0,0,6.5,1,5.31,5.31,0,0,0,8.1,4.9,5.31,5.31,0,0,0,12,6.5,5.46,5.46,0,0,0,6.5,12Z\"/>\n",
              "  </svg>\n",
              "    </button>\n",
              "    <script>\n",
              "      (() => {\n",
              "      const buttonEl =\n",
              "        document.querySelector('#id_ece72353-b1f2-413b-aa62-b9555f66f081 button.colab-df-generate');\n",
              "      buttonEl.style.display =\n",
              "        google.colab.kernel.accessAllowed ? 'block' : 'none';\n",
              "\n",
              "      buttonEl.onclick = () => {\n",
              "        google.colab.notebook.generateWithVariable('test_model');\n",
              "      }\n",
              "      })();\n",
              "    </script>\n",
              "  </div>\n",
              "\n",
              "    </div>\n",
              "  </div>\n"
            ],
            "application/vnd.google.colaboratory.intrinsic+json": {
              "type": "dataframe",
              "variable_name": "test_model",
              "summary": "{\n  \"name\": \"test_model\",\n  \"rows\": 126,\n  \"fields\": [\n    {\n      \"column\": \"Place_Id\",\n      \"properties\": {\n        \"dtype\": \"number\",\n        \"std\": 36,\n        \"min\": 85,\n        \"max\": 210,\n        \"num_unique_values\": 126,\n        \"samples\": [\n          158,\n          104,\n          201\n        ],\n        \"semantic_type\": \"\",\n        \"description\": \"\"\n      }\n    },\n    {\n      \"column\": \"Place_Name\",\n      \"properties\": {\n        \"dtype\": \"string\",\n        \"num_unique_values\": 126,\n        \"samples\": [\n          \"Pantai Pok Tunggal\",\n          \"Tebing Breksi\",\n          \"Pantai Kesirat\"\n        ],\n        \"semantic_type\": \"\",\n        \"description\": \"\"\n      }\n    },\n    {\n      \"column\": \"Description\",\n      \"properties\": {\n        \"dtype\": \"string\",\n        \"num_unique_values\": 126,\n        \"samples\": [\n          \"Pantai Pok Tunggal atau biasa disebut \\\"the hidden paradise\\\" (surga yang tersembunyi) adalah salah satu objek wisata yang ada di Yogyakarta tepatnya di Desa Tepus, Tepus, Gunung Kidul, Yogyakarta. Jika dihitung dari kota, maka jarak tempuhnya sejauh 80 km atau sekitar 2 jam perjalanan.\\\\nNama Pantai Pok Tunggal diambil karena dipantai tersebut terdapat sebuah pohon duras tua yang berdiri kokoh hingga saat ini. Pantai ini dikelilingi oleh tebing perbukitan karst. Terdapat tebing-tebing karang yang ditumbuhi oleh pepohonan yang lebat dan didalamnya dihuni oleh kera-kera yang jinak. Uniknya, pantai ini memiliki aliran sungai air tawar dibawah tanah yang menjadi sumber kehidupan bagi masyarakat sekitar pantai. Layaknya pantai selatan lainnya, Pantai Pok Tunggal memiliki pasir putih yang halus dan membentang sepanjang pantai. Sampai saat ini Pantai Pok Tunggal masih terjaga kebersihan dan kealamiannya.\\\\nPantai ini sangat ramai dikunjungi baik saat liburan maupun saat hari biasa. Terdapat banyak sekali aktivitas-aktivitas yang ditawarkan di Pantai Pok Tunggal, seperti diving, snorkeling, berenang, berkemah, berfoto di spot-spot foto yang indah, hingga aktivitas ekstrem seperti rock climbing.\",\n          \"Tebing Breksi merupakan tempat wisata yang berada di wilayah Kabupaten Sleman. Lokasinya berada di sebelah selatan Candi Prambanan dan berdekatan dengan Candi Ijo serta Kompleks Keraton Boko. Lokasi Wisata Tebing Breksi tepatnya berada di Desa Sambirejo, Prambanan, Kabupaten Sleman, Daerah Istimewa Yogyakarta 55572.\",\n          \"Pada umumnya pantai identik dengan pasirnya bukan, namun pantai kesirat memiliki keunikan tersendiri yang akan anda temukan disini. Pantai kesirat tidak memiliki pasir namun anda akan menemukan tebing tebing yang memeiliki struktur yang cantik kemudian anda kana menikmati pantai di atasnya, tempat ini juga sangat cocok untuk menikmati sunset. Keindahan pantai ini membuat semua orang tidak bisa melupakannya seperti janji mantan hehee.. pantai kesirat memiliki spot spot foto yang instagramable banget cocok sekali untuk kamu yang suka berfoto. Keunikan lain yang menjadi ciri khas dari wisata Pantai Kesirat adalah hadirnya sebuah pohon yang tampak berdiri kokoh yang menjadi ikon dari tempat wisata ini. Banyak wisatawan yang memanfaatkan pohon ini sebagai latar belakang foto mereka.\"\n        ],\n        \"semantic_type\": \"\",\n        \"description\": \"\"\n      }\n    },\n    {\n      \"column\": \"Category\",\n      \"properties\": {\n        \"dtype\": \"category\",\n        \"num_unique_values\": 5,\n        \"samples\": [\n          \"Budaya\",\n          \"Pusat Perbelanjaan\",\n          \"Cagar Alam\"\n        ],\n        \"semantic_type\": \"\",\n        \"description\": \"\"\n      }\n    },\n    {\n      \"column\": \"City\",\n      \"properties\": {\n        \"dtype\": \"category\",\n        \"num_unique_values\": 1,\n        \"samples\": [\n          \"Yogyakarta\"\n        ],\n        \"semantic_type\": \"\",\n        \"description\": \"\"\n      }\n    },\n    {\n      \"column\": \"Price\",\n      \"properties\": {\n        \"dtype\": \"number\",\n        \"std\": 55219,\n        \"min\": 0,\n        \"max\": 500000,\n        \"num_unique_values\": 24,\n        \"samples\": [\n          7000\n        ],\n        \"semantic_type\": \"\",\n        \"description\": \"\"\n      }\n    },\n    {\n      \"column\": \"Rating\",\n      \"properties\": {\n        \"dtype\": \"number\",\n        \"std\": 0.1738965209542733,\n        \"min\": 4.0,\n        \"max\": 5.0,\n        \"num_unique_values\": 10,\n        \"samples\": [\n          4.8\n        ],\n        \"semantic_type\": \"\",\n        \"description\": \"\"\n      }\n    }\n  ]\n}"
            }
          },
          "metadata": {},
          "execution_count": 21
        }
      ]
    },
    {
      "cell_type": "code",
      "source": [
        "test_model = loadedModel[['Place_Name','City', 'Price','Rating', 'Category']]"
      ],
      "metadata": {
        "id": "-xUuRXSCTbcR"
      },
      "execution_count": 22,
      "outputs": []
    },
    {
      "cell_type": "code",
      "source": [
        "# Handle duplicates and missing data\n",
        "test_model.drop_duplicates(inplace=True)\n",
        "test_model.dropna(inplace=True)"
      ],
      "metadata": {
        "id": "-m1k8D3mTfN3"
      },
      "execution_count": 23,
      "outputs": []
    },
    {
      "cell_type": "code",
      "source": [
        "# Assuming you have already executed the code provided and have the necessary objects (model, scaler, etc.) loaded.\n",
        "\n",
        "def recommend_places(city, price_range, num_recommendations=5):\n",
        "    \"\"\"\n",
        "    Recommends tourist places based on city and price range.\n",
        "\n",
        "    Args:\n",
        "        city (str): The city to search in (e.g., \"Yogyakarta\").\n",
        "        price_range (tuple): A tuple representing the minimum and maximum price (e.g., (10000, 50000)).\n",
        "        num_recommendations (int): The number of recommendations to return.\n",
        "\n",
        "    Returns:\n",
        "        list: A list of recommended place names.\n",
        "    \"\"\"\n",
        "\n",
        "    # Filter data based on city and price range\n",
        "    filtered_places = loadedModel[\n",
        "        (loadedModel[\"City\"] == city) & (loadedModel[\"Price\"] >= price_range[0]) & (loadedModel[\"Price\"] <= price_range[1])\n",
        "    ]\n",
        "\n",
        "    if filtered_places.empty:\n",
        "        return [\"No recommendations found for the given criteria.\"]\n",
        "\n",
        "    # Prepare input features for the model\n",
        "    X_input = filtered_places[[\"City\", \"Price\"]].copy()\n",
        "    X_input = pd.get_dummies(X_input, columns=[\"City\"])\n",
        "    X_input = loaded_scaler.transform(X_input)\n",
        "\n",
        "    # Predict ratings using the loaded model\n",
        "    predictions = model.predict(X_input)\n",
        "\n",
        "    # Get predicted ratings and corresponding place names\n",
        "    predicted_ratings = np.argmax(predictions, axis=1) + 1  # Convert back to 1-5 scale\n",
        "    place_names = filtered_places[\"Place_Name\"].tolist()\n",
        "\n",
        "    # Combine place names and predicted ratings\n",
        "    places_with_ratings = list(zip(place_names, predicted_ratings))\n",
        "    places_with_ratings.sort(key=lambda x: x[1], reverse=True)  # Sort by rating\n",
        "\n",
        "    # Return top recommendations\n",
        "    recommendations = [place[0] for place in places_with_ratings[:num_recommendations]]\n",
        "\n",
        "    return recommendations\n",
        "\n",
        "# Example Usage\n",
        "city_choice = \"Yogyakarta\" #@param {type:\"string\"}\n",
        "min_price =  1000#@param {type:\"number\"}\n",
        "max_price =  50000#@param {type:\"number\"}\n",
        "\n",
        "\n",
        "recommendations = recommend_places(city_choice, (min_price, max_price))\n",
        "print(\"Recommended Places:\")\n",
        "for place in recommendations:\n",
        "    print(place)"
      ],
      "metadata": {
        "colab": {
          "base_uri": "https://localhost:8080/"
        },
        "id": "EptpdZoyVnoM",
        "outputId": "a2a088bf-b372-4e40-b400-f69f331dc63c"
      },
      "execution_count": 25,
      "outputs": [
        {
          "output_type": "stream",
          "name": "stdout",
          "text": [
            "\u001b[1m3/3\u001b[0m \u001b[32m━━━━━━━━━━━━━━━━━━━━\u001b[0m\u001b[37m\u001b[0m \u001b[1m0s\u001b[0m 31ms/step\n",
            "Recommended Places:\n",
            "Taman Pintar Yogyakarta\n",
            "Keraton Yogyakarta\n",
            "Sindu Kusuma Edupark (SKE)\n",
            "Museum Benteng Vredeburg Yogyakarta\n",
            "De Mata Museum Jogja\n"
          ]
        }
      ]
    }
  ]
}