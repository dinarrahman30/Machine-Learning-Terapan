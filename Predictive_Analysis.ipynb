{
  "cells": [
    {
      "cell_type": "markdown",
      "metadata": {
        "id": "view-in-github",
        "colab_type": "text"
      },
      "source": [
        "<a href=\"https://colab.research.google.com/github/dinarrahman30/Machine-Learning-Terapan/blob/main/Predictive_Analysis.ipynb\" target=\"_parent\"><img src=\"https://colab.research.google.com/assets/colab-badge.svg\" alt=\"Open In Colab\"/></a>"
      ]
    },
    {
      "cell_type": "markdown",
      "metadata": {
        "id": "0oDZHwIvcf43"
      },
      "source": [
        "# Informasi Data Diri\n",
        "Nama: Dinar Wahyu Rahman\n",
        "\n",
        "Username Dicoding: dinar_wahyu\n",
        "\n",
        "Email: dinarrahman30@gmail.com\n",
        "\n",
        "LinkedIn: [Dinar Wahyu Rahman]('https:www.linkedin.com/in/dinar-wahyu-rahman/')\n",
        "\n",
        "Alamat: Kota Jakarta Barat, DKI Jakarta"
      ]
    },
    {
      "cell_type": "markdown",
      "source": [
        "In this Colab includes come code to get started scraping data from website. We will use package called BeautifulSoup to collect data from the web. Once, we collected data and save it into local .csv to start analysis.\n",
        "\n",
        "Website https://www.airlinequality.com you can see a lot of data there."
      ],
      "metadata": {
        "id": "LtFwDTC8oFtk"
      }
    },
    {
      "cell_type": "markdown",
      "source": [
        "# Predictive modeling of customer bookings\n",
        "\n",
        "![British Airways](https://media.cntraveler.com/photos/577fcc03e0b5a6244f4c789c/16:9/w_2560%2Cc_limit/BritishAirways-Boeing777-AlamyF1KW8J.jpg)"
      ],
      "metadata": {
        "id": "DKZJ4inDrelS"
      }
    },
    {
      "cell_type": "markdown",
      "source": [
        "## Import Library"
      ],
      "metadata": {
        "id": "3L2JnLDmh4hU"
      }
    },
    {
      "cell_type": "code",
      "execution_count": null,
      "metadata": {
        "id": "JJUEko1Ucf45"
      },
      "outputs": [],
      "source": [
        "import pandas as pd\n",
        "import matplotlib.pyplot as plt\n",
        "import numpy as np\n",
        "import seaborn as sns\n",
        "import warnings\n",
        "warnings.filterwarnings('ignore')"
      ]
    },
    {
      "cell_type": "markdown",
      "source": [
        "## Data Understanding\n",
        "\n",
        "Data Understanding merupakan proses memahami informasi dalam data dan menentukan kualitas dari data tersebut."
      ],
      "metadata": {
        "id": "x4uu8aUxhtPS"
      }
    },
    {
      "cell_type": "markdown",
      "source": [],
      "metadata": {
        "id": "kx1R2KcYoT8A"
      }
    },
    {
      "cell_type": "code",
      "execution_count": null,
      "metadata": {
        "colab": {
          "base_uri": "https://localhost:8080/",
          "height": 226
        },
        "id": "UiR8qvykcf46",
        "outputId": "e22b1d2c-e691-4d85-d0b6-80a04513c9df"
      },
      "outputs": [
        {
          "output_type": "execute_result",
          "data": {
            "text/plain": [
              "   num_passengers sales_channel  trip_type  purchase_lead  length_of_stay  \\\n",
              "0               2      Internet  RoundTrip            262              19   \n",
              "1               1      Internet  RoundTrip            112              20   \n",
              "2               2      Internet  RoundTrip            243              22   \n",
              "3               1      Internet  RoundTrip             96              31   \n",
              "4               2      Internet  RoundTrip             68              22   \n",
              "\n",
              "   flight_hour flight_day   route booking_origin  wants_extra_baggage  \\\n",
              "0            7        Sat  AKLDEL    New Zealand                    1   \n",
              "1            3        Sat  AKLDEL    New Zealand                    0   \n",
              "2           17        Wed  AKLDEL          India                    1   \n",
              "3            4        Sat  AKLDEL    New Zealand                    0   \n",
              "4           15        Wed  AKLDEL          India                    1   \n",
              "\n",
              "   wants_preferred_seat  wants_in_flight_meals  flight_duration  \\\n",
              "0                     0                      0             5.52   \n",
              "1                     0                      0             5.52   \n",
              "2                     1                      0             5.52   \n",
              "3                     0                      1             5.52   \n",
              "4                     0                      1             5.52   \n",
              "\n",
              "   booking_complete  \n",
              "0                 0  \n",
              "1                 0  \n",
              "2                 0  \n",
              "3                 0  \n",
              "4                 0  "
            ],
            "text/html": [
              "\n",
              "  <div id=\"df-16b85a2b-79db-462b-aaad-86b83fea3302\" class=\"colab-df-container\">\n",
              "    <div>\n",
              "<style scoped>\n",
              "    .dataframe tbody tr th:only-of-type {\n",
              "        vertical-align: middle;\n",
              "    }\n",
              "\n",
              "    .dataframe tbody tr th {\n",
              "        vertical-align: top;\n",
              "    }\n",
              "\n",
              "    .dataframe thead th {\n",
              "        text-align: right;\n",
              "    }\n",
              "</style>\n",
              "<table border=\"1\" class=\"dataframe\">\n",
              "  <thead>\n",
              "    <tr style=\"text-align: right;\">\n",
              "      <th></th>\n",
              "      <th>num_passengers</th>\n",
              "      <th>sales_channel</th>\n",
              "      <th>trip_type</th>\n",
              "      <th>purchase_lead</th>\n",
              "      <th>length_of_stay</th>\n",
              "      <th>flight_hour</th>\n",
              "      <th>flight_day</th>\n",
              "      <th>route</th>\n",
              "      <th>booking_origin</th>\n",
              "      <th>wants_extra_baggage</th>\n",
              "      <th>wants_preferred_seat</th>\n",
              "      <th>wants_in_flight_meals</th>\n",
              "      <th>flight_duration</th>\n",
              "      <th>booking_complete</th>\n",
              "    </tr>\n",
              "  </thead>\n",
              "  <tbody>\n",
              "    <tr>\n",
              "      <th>0</th>\n",
              "      <td>2</td>\n",
              "      <td>Internet</td>\n",
              "      <td>RoundTrip</td>\n",
              "      <td>262</td>\n",
              "      <td>19</td>\n",
              "      <td>7</td>\n",
              "      <td>Sat</td>\n",
              "      <td>AKLDEL</td>\n",
              "      <td>New Zealand</td>\n",
              "      <td>1</td>\n",
              "      <td>0</td>\n",
              "      <td>0</td>\n",
              "      <td>5.52</td>\n",
              "      <td>0</td>\n",
              "    </tr>\n",
              "    <tr>\n",
              "      <th>1</th>\n",
              "      <td>1</td>\n",
              "      <td>Internet</td>\n",
              "      <td>RoundTrip</td>\n",
              "      <td>112</td>\n",
              "      <td>20</td>\n",
              "      <td>3</td>\n",
              "      <td>Sat</td>\n",
              "      <td>AKLDEL</td>\n",
              "      <td>New Zealand</td>\n",
              "      <td>0</td>\n",
              "      <td>0</td>\n",
              "      <td>0</td>\n",
              "      <td>5.52</td>\n",
              "      <td>0</td>\n",
              "    </tr>\n",
              "    <tr>\n",
              "      <th>2</th>\n",
              "      <td>2</td>\n",
              "      <td>Internet</td>\n",
              "      <td>RoundTrip</td>\n",
              "      <td>243</td>\n",
              "      <td>22</td>\n",
              "      <td>17</td>\n",
              "      <td>Wed</td>\n",
              "      <td>AKLDEL</td>\n",
              "      <td>India</td>\n",
              "      <td>1</td>\n",
              "      <td>1</td>\n",
              "      <td>0</td>\n",
              "      <td>5.52</td>\n",
              "      <td>0</td>\n",
              "    </tr>\n",
              "    <tr>\n",
              "      <th>3</th>\n",
              "      <td>1</td>\n",
              "      <td>Internet</td>\n",
              "      <td>RoundTrip</td>\n",
              "      <td>96</td>\n",
              "      <td>31</td>\n",
              "      <td>4</td>\n",
              "      <td>Sat</td>\n",
              "      <td>AKLDEL</td>\n",
              "      <td>New Zealand</td>\n",
              "      <td>0</td>\n",
              "      <td>0</td>\n",
              "      <td>1</td>\n",
              "      <td>5.52</td>\n",
              "      <td>0</td>\n",
              "    </tr>\n",
              "    <tr>\n",
              "      <th>4</th>\n",
              "      <td>2</td>\n",
              "      <td>Internet</td>\n",
              "      <td>RoundTrip</td>\n",
              "      <td>68</td>\n",
              "      <td>22</td>\n",
              "      <td>15</td>\n",
              "      <td>Wed</td>\n",
              "      <td>AKLDEL</td>\n",
              "      <td>India</td>\n",
              "      <td>1</td>\n",
              "      <td>0</td>\n",
              "      <td>1</td>\n",
              "      <td>5.52</td>\n",
              "      <td>0</td>\n",
              "    </tr>\n",
              "  </tbody>\n",
              "</table>\n",
              "</div>\n",
              "    <div class=\"colab-df-buttons\">\n",
              "\n",
              "  <div class=\"colab-df-container\">\n",
              "    <button class=\"colab-df-convert\" onclick=\"convertToInteractive('df-16b85a2b-79db-462b-aaad-86b83fea3302')\"\n",
              "            title=\"Convert this dataframe to an interactive table.\"\n",
              "            style=\"display:none;\">\n",
              "\n",
              "  <svg xmlns=\"http://www.w3.org/2000/svg\" height=\"24px\" viewBox=\"0 -960 960 960\">\n",
              "    <path d=\"M120-120v-720h720v720H120Zm60-500h600v-160H180v160Zm220 220h160v-160H400v160Zm0 220h160v-160H400v160ZM180-400h160v-160H180v160Zm440 0h160v-160H620v160ZM180-180h160v-160H180v160Zm440 0h160v-160H620v160Z\"/>\n",
              "  </svg>\n",
              "    </button>\n",
              "\n",
              "  <style>\n",
              "    .colab-df-container {\n",
              "      display:flex;\n",
              "      gap: 12px;\n",
              "    }\n",
              "\n",
              "    .colab-df-convert {\n",
              "      background-color: #E8F0FE;\n",
              "      border: none;\n",
              "      border-radius: 50%;\n",
              "      cursor: pointer;\n",
              "      display: none;\n",
              "      fill: #1967D2;\n",
              "      height: 32px;\n",
              "      padding: 0 0 0 0;\n",
              "      width: 32px;\n",
              "    }\n",
              "\n",
              "    .colab-df-convert:hover {\n",
              "      background-color: #E2EBFA;\n",
              "      box-shadow: 0px 1px 2px rgba(60, 64, 67, 0.3), 0px 1px 3px 1px rgba(60, 64, 67, 0.15);\n",
              "      fill: #174EA6;\n",
              "    }\n",
              "\n",
              "    .colab-df-buttons div {\n",
              "      margin-bottom: 4px;\n",
              "    }\n",
              "\n",
              "    [theme=dark] .colab-df-convert {\n",
              "      background-color: #3B4455;\n",
              "      fill: #D2E3FC;\n",
              "    }\n",
              "\n",
              "    [theme=dark] .colab-df-convert:hover {\n",
              "      background-color: #434B5C;\n",
              "      box-shadow: 0px 1px 3px 1px rgba(0, 0, 0, 0.15);\n",
              "      filter: drop-shadow(0px 1px 2px rgba(0, 0, 0, 0.3));\n",
              "      fill: #FFFFFF;\n",
              "    }\n",
              "  </style>\n",
              "\n",
              "    <script>\n",
              "      const buttonEl =\n",
              "        document.querySelector('#df-16b85a2b-79db-462b-aaad-86b83fea3302 button.colab-df-convert');\n",
              "      buttonEl.style.display =\n",
              "        google.colab.kernel.accessAllowed ? 'block' : 'none';\n",
              "\n",
              "      async function convertToInteractive(key) {\n",
              "        const element = document.querySelector('#df-16b85a2b-79db-462b-aaad-86b83fea3302');\n",
              "        const dataTable =\n",
              "          await google.colab.kernel.invokeFunction('convertToInteractive',\n",
              "                                                    [key], {});\n",
              "        if (!dataTable) return;\n",
              "\n",
              "        const docLinkHtml = 'Like what you see? Visit the ' +\n",
              "          '<a target=\"_blank\" href=https://colab.research.google.com/notebooks/data_table.ipynb>data table notebook</a>'\n",
              "          + ' to learn more about interactive tables.';\n",
              "        element.innerHTML = '';\n",
              "        dataTable['output_type'] = 'display_data';\n",
              "        await google.colab.output.renderOutput(dataTable, element);\n",
              "        const docLink = document.createElement('div');\n",
              "        docLink.innerHTML = docLinkHtml;\n",
              "        element.appendChild(docLink);\n",
              "      }\n",
              "    </script>\n",
              "  </div>\n",
              "\n",
              "\n",
              "<div id=\"df-868ec7bd-726b-49d7-8f77-fdda436a4063\">\n",
              "  <button class=\"colab-df-quickchart\" onclick=\"quickchart('df-868ec7bd-726b-49d7-8f77-fdda436a4063')\"\n",
              "            title=\"Suggest charts\"\n",
              "            style=\"display:none;\">\n",
              "\n",
              "<svg xmlns=\"http://www.w3.org/2000/svg\" height=\"24px\"viewBox=\"0 0 24 24\"\n",
              "     width=\"24px\">\n",
              "    <g>\n",
              "        <path d=\"M19 3H5c-1.1 0-2 .9-2 2v14c0 1.1.9 2 2 2h14c1.1 0 2-.9 2-2V5c0-1.1-.9-2-2-2zM9 17H7v-7h2v7zm4 0h-2V7h2v10zm4 0h-2v-4h2v4z\"/>\n",
              "    </g>\n",
              "</svg>\n",
              "  </button>\n",
              "\n",
              "<style>\n",
              "  .colab-df-quickchart {\n",
              "      --bg-color: #E8F0FE;\n",
              "      --fill-color: #1967D2;\n",
              "      --hover-bg-color: #E2EBFA;\n",
              "      --hover-fill-color: #174EA6;\n",
              "      --disabled-fill-color: #AAA;\n",
              "      --disabled-bg-color: #DDD;\n",
              "  }\n",
              "\n",
              "  [theme=dark] .colab-df-quickchart {\n",
              "      --bg-color: #3B4455;\n",
              "      --fill-color: #D2E3FC;\n",
              "      --hover-bg-color: #434B5C;\n",
              "      --hover-fill-color: #FFFFFF;\n",
              "      --disabled-bg-color: #3B4455;\n",
              "      --disabled-fill-color: #666;\n",
              "  }\n",
              "\n",
              "  .colab-df-quickchart {\n",
              "    background-color: var(--bg-color);\n",
              "    border: none;\n",
              "    border-radius: 50%;\n",
              "    cursor: pointer;\n",
              "    display: none;\n",
              "    fill: var(--fill-color);\n",
              "    height: 32px;\n",
              "    padding: 0;\n",
              "    width: 32px;\n",
              "  }\n",
              "\n",
              "  .colab-df-quickchart:hover {\n",
              "    background-color: var(--hover-bg-color);\n",
              "    box-shadow: 0 1px 2px rgba(60, 64, 67, 0.3), 0 1px 3px 1px rgba(60, 64, 67, 0.15);\n",
              "    fill: var(--button-hover-fill-color);\n",
              "  }\n",
              "\n",
              "  .colab-df-quickchart-complete:disabled,\n",
              "  .colab-df-quickchart-complete:disabled:hover {\n",
              "    background-color: var(--disabled-bg-color);\n",
              "    fill: var(--disabled-fill-color);\n",
              "    box-shadow: none;\n",
              "  }\n",
              "\n",
              "  .colab-df-spinner {\n",
              "    border: 2px solid var(--fill-color);\n",
              "    border-color: transparent;\n",
              "    border-bottom-color: var(--fill-color);\n",
              "    animation:\n",
              "      spin 1s steps(1) infinite;\n",
              "  }\n",
              "\n",
              "  @keyframes spin {\n",
              "    0% {\n",
              "      border-color: transparent;\n",
              "      border-bottom-color: var(--fill-color);\n",
              "      border-left-color: var(--fill-color);\n",
              "    }\n",
              "    20% {\n",
              "      border-color: transparent;\n",
              "      border-left-color: var(--fill-color);\n",
              "      border-top-color: var(--fill-color);\n",
              "    }\n",
              "    30% {\n",
              "      border-color: transparent;\n",
              "      border-left-color: var(--fill-color);\n",
              "      border-top-color: var(--fill-color);\n",
              "      border-right-color: var(--fill-color);\n",
              "    }\n",
              "    40% {\n",
              "      border-color: transparent;\n",
              "      border-right-color: var(--fill-color);\n",
              "      border-top-color: var(--fill-color);\n",
              "    }\n",
              "    60% {\n",
              "      border-color: transparent;\n",
              "      border-right-color: var(--fill-color);\n",
              "    }\n",
              "    80% {\n",
              "      border-color: transparent;\n",
              "      border-right-color: var(--fill-color);\n",
              "      border-bottom-color: var(--fill-color);\n",
              "    }\n",
              "    90% {\n",
              "      border-color: transparent;\n",
              "      border-bottom-color: var(--fill-color);\n",
              "    }\n",
              "  }\n",
              "</style>\n",
              "\n",
              "  <script>\n",
              "    async function quickchart(key) {\n",
              "      const quickchartButtonEl =\n",
              "        document.querySelector('#' + key + ' button');\n",
              "      quickchartButtonEl.disabled = true;  // To prevent multiple clicks.\n",
              "      quickchartButtonEl.classList.add('colab-df-spinner');\n",
              "      try {\n",
              "        const charts = await google.colab.kernel.invokeFunction(\n",
              "            'suggestCharts', [key], {});\n",
              "      } catch (error) {\n",
              "        console.error('Error during call to suggestCharts:', error);\n",
              "      }\n",
              "      quickchartButtonEl.classList.remove('colab-df-spinner');\n",
              "      quickchartButtonEl.classList.add('colab-df-quickchart-complete');\n",
              "    }\n",
              "    (() => {\n",
              "      let quickchartButtonEl =\n",
              "        document.querySelector('#df-868ec7bd-726b-49d7-8f77-fdda436a4063 button');\n",
              "      quickchartButtonEl.style.display =\n",
              "        google.colab.kernel.accessAllowed ? 'block' : 'none';\n",
              "    })();\n",
              "  </script>\n",
              "</div>\n",
              "\n",
              "    </div>\n",
              "  </div>\n"
            ],
            "application/vnd.google.colaboratory.intrinsic+json": {
              "type": "dataframe",
              "variable_name": "df",
              "summary": "{\n  \"name\": \"df\",\n  \"rows\": 50000,\n  \"fields\": [\n    {\n      \"column\": \"num_passengers\",\n      \"properties\": {\n        \"dtype\": \"number\",\n        \"std\": 1,\n        \"min\": 1,\n        \"max\": 9,\n        \"num_unique_values\": 9,\n        \"samples\": [\n          9,\n          1,\n          5\n        ],\n        \"semantic_type\": \"\",\n        \"description\": \"\"\n      }\n    },\n    {\n      \"column\": \"sales_channel\",\n      \"properties\": {\n        \"dtype\": \"category\",\n        \"num_unique_values\": 2,\n        \"samples\": [\n          \"Mobile\",\n          \"Internet\"\n        ],\n        \"semantic_type\": \"\",\n        \"description\": \"\"\n      }\n    },\n    {\n      \"column\": \"trip_type\",\n      \"properties\": {\n        \"dtype\": \"category\",\n        \"num_unique_values\": 3,\n        \"samples\": [\n          \"RoundTrip\",\n          \"CircleTrip\"\n        ],\n        \"semantic_type\": \"\",\n        \"description\": \"\"\n      }\n    },\n    {\n      \"column\": \"purchase_lead\",\n      \"properties\": {\n        \"dtype\": \"number\",\n        \"std\": 90,\n        \"min\": 0,\n        \"max\": 867,\n        \"num_unique_values\": 470,\n        \"samples\": [\n          102,\n          63\n        ],\n        \"semantic_type\": \"\",\n        \"description\": \"\"\n      }\n    },\n    {\n      \"column\": \"length_of_stay\",\n      \"properties\": {\n        \"dtype\": \"number\",\n        \"std\": 33,\n        \"min\": 0,\n        \"max\": 778,\n        \"num_unique_values\": 335,\n        \"samples\": [\n          23,\n          184\n        ],\n        \"semantic_type\": \"\",\n        \"description\": \"\"\n      }\n    },\n    {\n      \"column\": \"flight_hour\",\n      \"properties\": {\n        \"dtype\": \"number\",\n        \"std\": 5,\n        \"min\": 0,\n        \"max\": 23,\n        \"num_unique_values\": 24,\n        \"samples\": [\n          12,\n          11\n        ],\n        \"semantic_type\": \"\",\n        \"description\": \"\"\n      }\n    },\n    {\n      \"column\": \"flight_day\",\n      \"properties\": {\n        \"dtype\": \"category\",\n        \"num_unique_values\": 7,\n        \"samples\": [\n          \"Sat\",\n          \"Wed\"\n        ],\n        \"semantic_type\": \"\",\n        \"description\": \"\"\n      }\n    },\n    {\n      \"column\": \"route\",\n      \"properties\": {\n        \"dtype\": \"category\",\n        \"num_unique_values\": 799,\n        \"samples\": [\n          \"SYDTPE\",\n          \"PUSSYD\"\n        ],\n        \"semantic_type\": \"\",\n        \"description\": \"\"\n      }\n    },\n    {\n      \"column\": \"booking_origin\",\n      \"properties\": {\n        \"dtype\": \"category\",\n        \"num_unique_values\": 104,\n        \"samples\": [\n          \"Croatia\",\n          \"Jordan\"\n        ],\n        \"semantic_type\": \"\",\n        \"description\": \"\"\n      }\n    },\n    {\n      \"column\": \"wants_extra_baggage\",\n      \"properties\": {\n        \"dtype\": \"number\",\n        \"std\": 0,\n        \"min\": 0,\n        \"max\": 1,\n        \"num_unique_values\": 2,\n        \"samples\": [\n          0,\n          1\n        ],\n        \"semantic_type\": \"\",\n        \"description\": \"\"\n      }\n    },\n    {\n      \"column\": \"wants_preferred_seat\",\n      \"properties\": {\n        \"dtype\": \"number\",\n        \"std\": 0,\n        \"min\": 0,\n        \"max\": 1,\n        \"num_unique_values\": 2,\n        \"samples\": [\n          1,\n          0\n        ],\n        \"semantic_type\": \"\",\n        \"description\": \"\"\n      }\n    },\n    {\n      \"column\": \"wants_in_flight_meals\",\n      \"properties\": {\n        \"dtype\": \"number\",\n        \"std\": 0,\n        \"min\": 0,\n        \"max\": 1,\n        \"num_unique_values\": 2,\n        \"samples\": [\n          1,\n          0\n        ],\n        \"semantic_type\": \"\",\n        \"description\": \"\"\n      }\n    },\n    {\n      \"column\": \"flight_duration\",\n      \"properties\": {\n        \"dtype\": \"number\",\n        \"std\": 1.496862916326865,\n        \"min\": 4.67,\n        \"max\": 9.5,\n        \"num_unique_values\": 21,\n        \"samples\": [\n          5.52,\n          5.0\n        ],\n        \"semantic_type\": \"\",\n        \"description\": \"\"\n      }\n    },\n    {\n      \"column\": \"booking_complete\",\n      \"properties\": {\n        \"dtype\": \"number\",\n        \"std\": 0,\n        \"min\": 0,\n        \"max\": 1,\n        \"num_unique_values\": 2,\n        \"samples\": [\n          1,\n          0\n        ],\n        \"semantic_type\": \"\",\n        \"description\": \"\"\n      }\n    }\n  ]\n}"
            }
          },
          "metadata": {},
          "execution_count": 2
        }
      ],
      "source": [
        "df = pd.read_csv(\"/content/customer_booking.csv\", encoding=\"ISO-8859-1\")\n",
        "df.head()"
      ]
    },
    {
      "cell_type": "markdown",
      "metadata": {
        "id": "Dp5Z2Wwucf47"
      },
      "source": [
        "Metode `.head()` memungkinkan kita untuk melihat 5 baris pertama dalam dataset, ini berguna untuk inspeksi visual kolom kita"
      ]
    },
    {
      "cell_type": "markdown",
      "source": [
        "## Exploratory Data Analytics (EDA)"
      ],
      "metadata": {
        "id": "beh9iQE8kQz9"
      }
    },
    {
      "cell_type": "code",
      "execution_count": null,
      "metadata": {
        "colab": {
          "base_uri": "https://localhost:8080/"
        },
        "id": "2o4qCT0Ccf47",
        "outputId": "7a8ca2a8-c16a-4b09-eeb9-38425906dc72"
      },
      "outputs": [
        {
          "output_type": "stream",
          "name": "stdout",
          "text": [
            "<class 'pandas.core.frame.DataFrame'>\n",
            "RangeIndex: 50000 entries, 0 to 49999\n",
            "Data columns (total 14 columns):\n",
            " #   Column                 Non-Null Count  Dtype  \n",
            "---  ------                 --------------  -----  \n",
            " 0   num_passengers         50000 non-null  int64  \n",
            " 1   sales_channel          50000 non-null  object \n",
            " 2   trip_type              50000 non-null  object \n",
            " 3   purchase_lead          50000 non-null  int64  \n",
            " 4   length_of_stay         50000 non-null  int64  \n",
            " 5   flight_hour            50000 non-null  int64  \n",
            " 6   flight_day             50000 non-null  object \n",
            " 7   route                  50000 non-null  object \n",
            " 8   booking_origin         50000 non-null  object \n",
            " 9   wants_extra_baggage    50000 non-null  int64  \n",
            " 10  wants_preferred_seat   50000 non-null  int64  \n",
            " 11  wants_in_flight_meals  50000 non-null  int64  \n",
            " 12  flight_duration        50000 non-null  float64\n",
            " 13  booking_complete       50000 non-null  int64  \n",
            "dtypes: float64(1), int64(8), object(5)\n",
            "memory usage: 5.3+ MB\n"
          ]
        }
      ],
      "source": [
        "df.info()"
      ]
    },
    {
      "cell_type": "markdown",
      "source": [
        "Dapat kita lihat dataset asli sebelum di encoding,\n",
        "- Jumlah data int64 berjumlah 8, data object berjumlah 5, dan data float64 berjumlah 1"
      ],
      "metadata": {
        "id": "-fKezXRem44i"
      }
    },
    {
      "cell_type": "markdown",
      "metadata": {
        "id": "FhxmFOTCcf48"
      },
      "source": [
        "Metode `.info()` memberi kita deskripsi data, yang memberi tahu kita nama kolom, tipe datanya, dan berapa banyak nilai null yang kita miliki. Untungnya, kita tidak memiliki nilai null. Sepertinya beberapa kolom ini harus diubah menjadi tipe data yang berbeda, misalnya flight_day.\n",
        "\n",
        "Untuk memberikan konteks lebih lanjut, berikut adalah deskripsi data yang lebih rinci, menjelaskan secara tepat apa arti setiap kolom:\n",
        "\n",
        "- `num_passengers` = jumlah penumpang yang bepergian\n",
        "- `sales_channel` = saluran penjualan tempat pemesanan dilakukan\n",
        "- `trip_type` = Jenis perjalanan (Pulang Pergi, Sekali Jalan, Perjalanan Lingkaran)\n",
        "- `purchase_lead` = jumlah hari antara tanggal perjalanan dan tanggal pemesanan\n",
        "- `length_of_stay` = jumlah hari yang dihabiskan di tempat tujuan\n",
        "- `flight_hour` = jam keberangkatan pesawat\n",
        "- `flight_day` = hari keberangkatan pesawat\n",
        "- `route` = rute penerbangan asal -> tujuan\n",
        "- `booking_origin` = negara tempat pemesanan dilakukan\n",
        "- `wants_extra_baggage` = jika pelanggan menginginkan bagasi tambahan dalam pemesanan\n",
        "- `wants_preferred_seat` = jika pelanggan menginginkan kursi pilihan dalam pemesanan\n",
        "- `wants_in_flight_meals` = jika pelanggan menginginkan makanan dalam pesawat dalam pemesanan\n",
        "- `flight_duration` = total durasi penerbangan (dalam jam)\n",
        "- `booking_complete` = tanda yang menunjukkan apakah pelanggan telah menyelesaikan pemesanan\n"
      ]
    },
    {
      "cell_type": "markdown",
      "source": [
        "Sebelum kita menghitung statistik apa pun pada data, mari kita lakukan konversi data yang diperlukan"
      ],
      "metadata": {
        "id": "vVHqfQY9k8jK"
      }
    },
    {
      "cell_type": "code",
      "execution_count": null,
      "metadata": {
        "colab": {
          "base_uri": "https://localhost:8080/"
        },
        "id": "fp2H4uEFcf48",
        "outputId": "53b0b989-2248-4d1a-9900-aa7888b933ee"
      },
      "outputs": [
        {
          "output_type": "execute_result",
          "data": {
            "text/plain": [
              "array(['Sat', 'Wed', 'Thu', 'Mon', 'Sun', 'Tue', 'Fri'], dtype=object)"
            ]
          },
          "metadata": {},
          "execution_count": 4
        }
      ],
      "source": [
        "df[\"flight_day\"].unique()"
      ]
    },
    {
      "cell_type": "code",
      "execution_count": null,
      "metadata": {
        "id": "bNzAfKtFcf48"
      },
      "outputs": [],
      "source": [
        "mapping = {\n",
        "    \"Mon\": 1,\n",
        "    \"Tue\": 2,\n",
        "    \"Wed\": 3,\n",
        "    \"Thu\": 4,\n",
        "    \"Fri\": 5,\n",
        "    \"Sat\": 6,\n",
        "    \"Sun\": 7,\n",
        "}\n",
        "\n",
        "df[\"flight_day\"] = df[\"flight_day\"].map(mapping)"
      ]
    },
    {
      "cell_type": "code",
      "execution_count": null,
      "metadata": {
        "colab": {
          "base_uri": "https://localhost:8080/"
        },
        "id": "SzHX_bfKcf49",
        "outputId": "29609aa8-3009-4f1b-a72e-7971523f365f"
      },
      "outputs": [
        {
          "output_type": "execute_result",
          "data": {
            "text/plain": [
              "array([6, 3, 4, 1, 7, 2, 5])"
            ]
          },
          "metadata": {},
          "execution_count": 6
        }
      ],
      "source": [
        "df[\"flight_day\"].unique()"
      ]
    },
    {
      "cell_type": "code",
      "execution_count": null,
      "metadata": {
        "colab": {
          "base_uri": "https://localhost:8080/",
          "height": 320
        },
        "id": "Ci_zkdeLcf49",
        "outputId": "3be02875-96c3-4d69-fb42-584c243245bc"
      },
      "outputs": [
        {
          "output_type": "execute_result",
          "data": {
            "text/plain": [
              "       num_passengers  purchase_lead  length_of_stay  flight_hour  \\\n",
              "count    50000.000000   50000.000000     50000.00000  50000.00000   \n",
              "mean         1.591240      84.940480        23.04456      9.06634   \n",
              "std          1.020165      90.451378        33.88767      5.41266   \n",
              "min          1.000000       0.000000         0.00000      0.00000   \n",
              "25%          1.000000      21.000000         5.00000      5.00000   \n",
              "50%          1.000000      51.000000        17.00000      9.00000   \n",
              "75%          2.000000     115.000000        28.00000     13.00000   \n",
              "max          9.000000     867.000000       778.00000     23.00000   \n",
              "\n",
              "         flight_day  wants_extra_baggage  wants_preferred_seat  \\\n",
              "count  50000.000000         50000.000000          50000.000000   \n",
              "mean       3.814420             0.668780              0.296960   \n",
              "std        1.992792             0.470657              0.456923   \n",
              "min        1.000000             0.000000              0.000000   \n",
              "25%        2.000000             0.000000              0.000000   \n",
              "50%        4.000000             1.000000              0.000000   \n",
              "75%        5.000000             1.000000              1.000000   \n",
              "max        7.000000             1.000000              1.000000   \n",
              "\n",
              "       wants_in_flight_meals  flight_duration  booking_complete  \n",
              "count           50000.000000     50000.000000      50000.000000  \n",
              "mean                0.427140         7.277561          0.149560  \n",
              "std                 0.494668         1.496863          0.356643  \n",
              "min                 0.000000         4.670000          0.000000  \n",
              "25%                 0.000000         5.620000          0.000000  \n",
              "50%                 0.000000         7.570000          0.000000  \n",
              "75%                 1.000000         8.830000          0.000000  \n",
              "max                 1.000000         9.500000          1.000000  "
            ],
            "text/html": [
              "\n",
              "  <div id=\"df-7482c309-7685-4da2-ab4e-a27ba10025a2\" class=\"colab-df-container\">\n",
              "    <div>\n",
              "<style scoped>\n",
              "    .dataframe tbody tr th:only-of-type {\n",
              "        vertical-align: middle;\n",
              "    }\n",
              "\n",
              "    .dataframe tbody tr th {\n",
              "        vertical-align: top;\n",
              "    }\n",
              "\n",
              "    .dataframe thead th {\n",
              "        text-align: right;\n",
              "    }\n",
              "</style>\n",
              "<table border=\"1\" class=\"dataframe\">\n",
              "  <thead>\n",
              "    <tr style=\"text-align: right;\">\n",
              "      <th></th>\n",
              "      <th>num_passengers</th>\n",
              "      <th>purchase_lead</th>\n",
              "      <th>length_of_stay</th>\n",
              "      <th>flight_hour</th>\n",
              "      <th>flight_day</th>\n",
              "      <th>wants_extra_baggage</th>\n",
              "      <th>wants_preferred_seat</th>\n",
              "      <th>wants_in_flight_meals</th>\n",
              "      <th>flight_duration</th>\n",
              "      <th>booking_complete</th>\n",
              "    </tr>\n",
              "  </thead>\n",
              "  <tbody>\n",
              "    <tr>\n",
              "      <th>count</th>\n",
              "      <td>50000.000000</td>\n",
              "      <td>50000.000000</td>\n",
              "      <td>50000.00000</td>\n",
              "      <td>50000.00000</td>\n",
              "      <td>50000.000000</td>\n",
              "      <td>50000.000000</td>\n",
              "      <td>50000.000000</td>\n",
              "      <td>50000.000000</td>\n",
              "      <td>50000.000000</td>\n",
              "      <td>50000.000000</td>\n",
              "    </tr>\n",
              "    <tr>\n",
              "      <th>mean</th>\n",
              "      <td>1.591240</td>\n",
              "      <td>84.940480</td>\n",
              "      <td>23.04456</td>\n",
              "      <td>9.06634</td>\n",
              "      <td>3.814420</td>\n",
              "      <td>0.668780</td>\n",
              "      <td>0.296960</td>\n",
              "      <td>0.427140</td>\n",
              "      <td>7.277561</td>\n",
              "      <td>0.149560</td>\n",
              "    </tr>\n",
              "    <tr>\n",
              "      <th>std</th>\n",
              "      <td>1.020165</td>\n",
              "      <td>90.451378</td>\n",
              "      <td>33.88767</td>\n",
              "      <td>5.41266</td>\n",
              "      <td>1.992792</td>\n",
              "      <td>0.470657</td>\n",
              "      <td>0.456923</td>\n",
              "      <td>0.494668</td>\n",
              "      <td>1.496863</td>\n",
              "      <td>0.356643</td>\n",
              "    </tr>\n",
              "    <tr>\n",
              "      <th>min</th>\n",
              "      <td>1.000000</td>\n",
              "      <td>0.000000</td>\n",
              "      <td>0.00000</td>\n",
              "      <td>0.00000</td>\n",
              "      <td>1.000000</td>\n",
              "      <td>0.000000</td>\n",
              "      <td>0.000000</td>\n",
              "      <td>0.000000</td>\n",
              "      <td>4.670000</td>\n",
              "      <td>0.000000</td>\n",
              "    </tr>\n",
              "    <tr>\n",
              "      <th>25%</th>\n",
              "      <td>1.000000</td>\n",
              "      <td>21.000000</td>\n",
              "      <td>5.00000</td>\n",
              "      <td>5.00000</td>\n",
              "      <td>2.000000</td>\n",
              "      <td>0.000000</td>\n",
              "      <td>0.000000</td>\n",
              "      <td>0.000000</td>\n",
              "      <td>5.620000</td>\n",
              "      <td>0.000000</td>\n",
              "    </tr>\n",
              "    <tr>\n",
              "      <th>50%</th>\n",
              "      <td>1.000000</td>\n",
              "      <td>51.000000</td>\n",
              "      <td>17.00000</td>\n",
              "      <td>9.00000</td>\n",
              "      <td>4.000000</td>\n",
              "      <td>1.000000</td>\n",
              "      <td>0.000000</td>\n",
              "      <td>0.000000</td>\n",
              "      <td>7.570000</td>\n",
              "      <td>0.000000</td>\n",
              "    </tr>\n",
              "    <tr>\n",
              "      <th>75%</th>\n",
              "      <td>2.000000</td>\n",
              "      <td>115.000000</td>\n",
              "      <td>28.00000</td>\n",
              "      <td>13.00000</td>\n",
              "      <td>5.000000</td>\n",
              "      <td>1.000000</td>\n",
              "      <td>1.000000</td>\n",
              "      <td>1.000000</td>\n",
              "      <td>8.830000</td>\n",
              "      <td>0.000000</td>\n",
              "    </tr>\n",
              "    <tr>\n",
              "      <th>max</th>\n",
              "      <td>9.000000</td>\n",
              "      <td>867.000000</td>\n",
              "      <td>778.00000</td>\n",
              "      <td>23.00000</td>\n",
              "      <td>7.000000</td>\n",
              "      <td>1.000000</td>\n",
              "      <td>1.000000</td>\n",
              "      <td>1.000000</td>\n",
              "      <td>9.500000</td>\n",
              "      <td>1.000000</td>\n",
              "    </tr>\n",
              "  </tbody>\n",
              "</table>\n",
              "</div>\n",
              "    <div class=\"colab-df-buttons\">\n",
              "\n",
              "  <div class=\"colab-df-container\">\n",
              "    <button class=\"colab-df-convert\" onclick=\"convertToInteractive('df-7482c309-7685-4da2-ab4e-a27ba10025a2')\"\n",
              "            title=\"Convert this dataframe to an interactive table.\"\n",
              "            style=\"display:none;\">\n",
              "\n",
              "  <svg xmlns=\"http://www.w3.org/2000/svg\" height=\"24px\" viewBox=\"0 -960 960 960\">\n",
              "    <path d=\"M120-120v-720h720v720H120Zm60-500h600v-160H180v160Zm220 220h160v-160H400v160Zm0 220h160v-160H400v160ZM180-400h160v-160H180v160Zm440 0h160v-160H620v160ZM180-180h160v-160H180v160Zm440 0h160v-160H620v160Z\"/>\n",
              "  </svg>\n",
              "    </button>\n",
              "\n",
              "  <style>\n",
              "    .colab-df-container {\n",
              "      display:flex;\n",
              "      gap: 12px;\n",
              "    }\n",
              "\n",
              "    .colab-df-convert {\n",
              "      background-color: #E8F0FE;\n",
              "      border: none;\n",
              "      border-radius: 50%;\n",
              "      cursor: pointer;\n",
              "      display: none;\n",
              "      fill: #1967D2;\n",
              "      height: 32px;\n",
              "      padding: 0 0 0 0;\n",
              "      width: 32px;\n",
              "    }\n",
              "\n",
              "    .colab-df-convert:hover {\n",
              "      background-color: #E2EBFA;\n",
              "      box-shadow: 0px 1px 2px rgba(60, 64, 67, 0.3), 0px 1px 3px 1px rgba(60, 64, 67, 0.15);\n",
              "      fill: #174EA6;\n",
              "    }\n",
              "\n",
              "    .colab-df-buttons div {\n",
              "      margin-bottom: 4px;\n",
              "    }\n",
              "\n",
              "    [theme=dark] .colab-df-convert {\n",
              "      background-color: #3B4455;\n",
              "      fill: #D2E3FC;\n",
              "    }\n",
              "\n",
              "    [theme=dark] .colab-df-convert:hover {\n",
              "      background-color: #434B5C;\n",
              "      box-shadow: 0px 1px 3px 1px rgba(0, 0, 0, 0.15);\n",
              "      filter: drop-shadow(0px 1px 2px rgba(0, 0, 0, 0.3));\n",
              "      fill: #FFFFFF;\n",
              "    }\n",
              "  </style>\n",
              "\n",
              "    <script>\n",
              "      const buttonEl =\n",
              "        document.querySelector('#df-7482c309-7685-4da2-ab4e-a27ba10025a2 button.colab-df-convert');\n",
              "      buttonEl.style.display =\n",
              "        google.colab.kernel.accessAllowed ? 'block' : 'none';\n",
              "\n",
              "      async function convertToInteractive(key) {\n",
              "        const element = document.querySelector('#df-7482c309-7685-4da2-ab4e-a27ba10025a2');\n",
              "        const dataTable =\n",
              "          await google.colab.kernel.invokeFunction('convertToInteractive',\n",
              "                                                    [key], {});\n",
              "        if (!dataTable) return;\n",
              "\n",
              "        const docLinkHtml = 'Like what you see? Visit the ' +\n",
              "          '<a target=\"_blank\" href=https://colab.research.google.com/notebooks/data_table.ipynb>data table notebook</a>'\n",
              "          + ' to learn more about interactive tables.';\n",
              "        element.innerHTML = '';\n",
              "        dataTable['output_type'] = 'display_data';\n",
              "        await google.colab.output.renderOutput(dataTable, element);\n",
              "        const docLink = document.createElement('div');\n",
              "        docLink.innerHTML = docLinkHtml;\n",
              "        element.appendChild(docLink);\n",
              "      }\n",
              "    </script>\n",
              "  </div>\n",
              "\n",
              "\n",
              "<div id=\"df-95f97618-64e8-4c9b-93b8-ebebc36137ee\">\n",
              "  <button class=\"colab-df-quickchart\" onclick=\"quickchart('df-95f97618-64e8-4c9b-93b8-ebebc36137ee')\"\n",
              "            title=\"Suggest charts\"\n",
              "            style=\"display:none;\">\n",
              "\n",
              "<svg xmlns=\"http://www.w3.org/2000/svg\" height=\"24px\"viewBox=\"0 0 24 24\"\n",
              "     width=\"24px\">\n",
              "    <g>\n",
              "        <path d=\"M19 3H5c-1.1 0-2 .9-2 2v14c0 1.1.9 2 2 2h14c1.1 0 2-.9 2-2V5c0-1.1-.9-2-2-2zM9 17H7v-7h2v7zm4 0h-2V7h2v10zm4 0h-2v-4h2v4z\"/>\n",
              "    </g>\n",
              "</svg>\n",
              "  </button>\n",
              "\n",
              "<style>\n",
              "  .colab-df-quickchart {\n",
              "      --bg-color: #E8F0FE;\n",
              "      --fill-color: #1967D2;\n",
              "      --hover-bg-color: #E2EBFA;\n",
              "      --hover-fill-color: #174EA6;\n",
              "      --disabled-fill-color: #AAA;\n",
              "      --disabled-bg-color: #DDD;\n",
              "  }\n",
              "\n",
              "  [theme=dark] .colab-df-quickchart {\n",
              "      --bg-color: #3B4455;\n",
              "      --fill-color: #D2E3FC;\n",
              "      --hover-bg-color: #434B5C;\n",
              "      --hover-fill-color: #FFFFFF;\n",
              "      --disabled-bg-color: #3B4455;\n",
              "      --disabled-fill-color: #666;\n",
              "  }\n",
              "\n",
              "  .colab-df-quickchart {\n",
              "    background-color: var(--bg-color);\n",
              "    border: none;\n",
              "    border-radius: 50%;\n",
              "    cursor: pointer;\n",
              "    display: none;\n",
              "    fill: var(--fill-color);\n",
              "    height: 32px;\n",
              "    padding: 0;\n",
              "    width: 32px;\n",
              "  }\n",
              "\n",
              "  .colab-df-quickchart:hover {\n",
              "    background-color: var(--hover-bg-color);\n",
              "    box-shadow: 0 1px 2px rgba(60, 64, 67, 0.3), 0 1px 3px 1px rgba(60, 64, 67, 0.15);\n",
              "    fill: var(--button-hover-fill-color);\n",
              "  }\n",
              "\n",
              "  .colab-df-quickchart-complete:disabled,\n",
              "  .colab-df-quickchart-complete:disabled:hover {\n",
              "    background-color: var(--disabled-bg-color);\n",
              "    fill: var(--disabled-fill-color);\n",
              "    box-shadow: none;\n",
              "  }\n",
              "\n",
              "  .colab-df-spinner {\n",
              "    border: 2px solid var(--fill-color);\n",
              "    border-color: transparent;\n",
              "    border-bottom-color: var(--fill-color);\n",
              "    animation:\n",
              "      spin 1s steps(1) infinite;\n",
              "  }\n",
              "\n",
              "  @keyframes spin {\n",
              "    0% {\n",
              "      border-color: transparent;\n",
              "      border-bottom-color: var(--fill-color);\n",
              "      border-left-color: var(--fill-color);\n",
              "    }\n",
              "    20% {\n",
              "      border-color: transparent;\n",
              "      border-left-color: var(--fill-color);\n",
              "      border-top-color: var(--fill-color);\n",
              "    }\n",
              "    30% {\n",
              "      border-color: transparent;\n",
              "      border-left-color: var(--fill-color);\n",
              "      border-top-color: var(--fill-color);\n",
              "      border-right-color: var(--fill-color);\n",
              "    }\n",
              "    40% {\n",
              "      border-color: transparent;\n",
              "      border-right-color: var(--fill-color);\n",
              "      border-top-color: var(--fill-color);\n",
              "    }\n",
              "    60% {\n",
              "      border-color: transparent;\n",
              "      border-right-color: var(--fill-color);\n",
              "    }\n",
              "    80% {\n",
              "      border-color: transparent;\n",
              "      border-right-color: var(--fill-color);\n",
              "      border-bottom-color: var(--fill-color);\n",
              "    }\n",
              "    90% {\n",
              "      border-color: transparent;\n",
              "      border-bottom-color: var(--fill-color);\n",
              "    }\n",
              "  }\n",
              "</style>\n",
              "\n",
              "  <script>\n",
              "    async function quickchart(key) {\n",
              "      const quickchartButtonEl =\n",
              "        document.querySelector('#' + key + ' button');\n",
              "      quickchartButtonEl.disabled = true;  // To prevent multiple clicks.\n",
              "      quickchartButtonEl.classList.add('colab-df-spinner');\n",
              "      try {\n",
              "        const charts = await google.colab.kernel.invokeFunction(\n",
              "            'suggestCharts', [key], {});\n",
              "      } catch (error) {\n",
              "        console.error('Error during call to suggestCharts:', error);\n",
              "      }\n",
              "      quickchartButtonEl.classList.remove('colab-df-spinner');\n",
              "      quickchartButtonEl.classList.add('colab-df-quickchart-complete');\n",
              "    }\n",
              "    (() => {\n",
              "      let quickchartButtonEl =\n",
              "        document.querySelector('#df-95f97618-64e8-4c9b-93b8-ebebc36137ee button');\n",
              "      quickchartButtonEl.style.display =\n",
              "        google.colab.kernel.accessAllowed ? 'block' : 'none';\n",
              "    })();\n",
              "  </script>\n",
              "</div>\n",
              "\n",
              "    </div>\n",
              "  </div>\n"
            ],
            "application/vnd.google.colaboratory.intrinsic+json": {
              "type": "dataframe",
              "summary": "{\n  \"name\": \"df\",\n  \"rows\": 8,\n  \"fields\": [\n    {\n      \"column\": \"num_passengers\",\n      \"properties\": {\n        \"dtype\": \"number\",\n        \"std\": 17676.83073776561,\n        \"min\": 1.0,\n        \"max\": 50000.0,\n        \"num_unique_values\": 6,\n        \"samples\": [\n          50000.0,\n          1.59124,\n          9.0\n        ],\n        \"semantic_type\": \"\",\n        \"description\": \"\"\n      }\n    },\n    {\n      \"column\": \"purchase_lead\",\n      \"properties\": {\n        \"dtype\": \"number\",\n        \"std\": 17617.87658912578,\n        \"min\": 0.0,\n        \"max\": 50000.0,\n        \"num_unique_values\": 8,\n        \"samples\": [\n          84.94048,\n          51.0,\n          50000.0\n        ],\n        \"semantic_type\": \"\",\n        \"description\": \"\"\n      }\n    },\n    {\n      \"column\": \"length_of_stay\",\n      \"properties\": {\n        \"dtype\": \"number\",\n        \"std\": 17634.983577369898,\n        \"min\": 0.0,\n        \"max\": 50000.0,\n        \"num_unique_values\": 8,\n        \"samples\": [\n          23.04456,\n          17.0,\n          50000.0\n        ],\n        \"semantic_type\": \"\",\n        \"description\": \"\"\n      }\n    },\n    {\n      \"column\": \"flight_hour\",\n      \"properties\": {\n        \"dtype\": \"number\",\n        \"std\": 17674.41414792492,\n        \"min\": 0.0,\n        \"max\": 50000.0,\n        \"num_unique_values\": 8,\n        \"samples\": [\n          9.06634,\n          9.0,\n          50000.0\n        ],\n        \"semantic_type\": \"\",\n        \"description\": \"\"\n      }\n    },\n    {\n      \"column\": \"flight_day\",\n      \"properties\": {\n        \"dtype\": \"number\",\n        \"std\": 17676.416679728813,\n        \"min\": 1.0,\n        \"max\": 50000.0,\n        \"num_unique_values\": 8,\n        \"samples\": [\n          3.81442,\n          4.0,\n          50000.0\n        ],\n        \"semantic_type\": \"\",\n        \"description\": \"\"\n      }\n    },\n    {\n      \"column\": \"wants_extra_baggage\",\n      \"properties\": {\n        \"dtype\": \"number\",\n        \"std\": 17677.46046147062,\n        \"min\": 0.0,\n        \"max\": 50000.0,\n        \"num_unique_values\": 5,\n        \"samples\": [\n          0.66878,\n          1.0,\n          0.4706567134916728\n        ],\n        \"semantic_type\": \"\",\n        \"description\": \"\"\n      }\n    },\n    {\n      \"column\": \"wants_preferred_seat\",\n      \"properties\": {\n        \"dtype\": \"number\",\n        \"std\": 17677.530442454314,\n        \"min\": 0.0,\n        \"max\": 50000.0,\n        \"num_unique_values\": 5,\n        \"samples\": [\n          0.29696,\n          1.0,\n          0.4569233349027356\n        ],\n        \"semantic_type\": \"\",\n        \"description\": \"\"\n      }\n    },\n    {\n      \"column\": \"wants_in_flight_meals\",\n      \"properties\": {\n        \"dtype\": \"number\",\n        \"std\": 17677.521960959704,\n        \"min\": 0.0,\n        \"max\": 50000.0,\n        \"num_unique_values\": 5,\n        \"samples\": [\n          0.42714,\n          1.0,\n          0.4946678828529746\n        ],\n        \"semantic_type\": \"\",\n        \"description\": \"\"\n      }\n    },\n    {\n      \"column\": \"flight_duration\",\n      \"properties\": {\n        \"dtype\": \"number\",\n        \"std\": 17675.398666343368,\n        \"min\": 1.496862916326865,\n        \"max\": 50000.0,\n        \"num_unique_values\": 8,\n        \"samples\": [\n          7.2775608,\n          7.57,\n          50000.0\n        ],\n        \"semantic_type\": \"\",\n        \"description\": \"\"\n      }\n    },\n    {\n      \"column\": \"booking_complete\",\n      \"properties\": {\n        \"dtype\": \"number\",\n        \"std\": 17677.593458250896,\n        \"min\": 0.0,\n        \"max\": 50000.0,\n        \"num_unique_values\": 5,\n        \"samples\": [\n          0.14956,\n          1.0,\n          0.35664316941035484\n        ],\n        \"semantic_type\": \"\",\n        \"description\": \"\"\n      }\n    }\n  ]\n}"
            }
          },
          "metadata": {},
          "execution_count": 7
        }
      ],
      "source": [
        "df.describe()"
      ]
    },
    {
      "cell_type": "markdown",
      "metadata": {
        "id": "Y17Fl-4Fcf49"
      },
      "source": [
        "Metode `.describe()` memberi kita ringkasan statistik deskriptif atas keseluruhan set data (hanya berfungsi untuk kolom numerik). Ini memberi kita gambaran singkat tentang beberapa hal seperti mean, min, max, dan distribusi keseluruhan setiap kolom.\n",
        "\n",
        "- Count adalah jumlah sampel pada data.\n",
        "- Mean adalah nilai rata-rata.\n",
        "- Std adalah standar deviasi.\n",
        "- Min yaitu nilai minimum setiap kolom.\n",
        "- 25% adalah kuartil pertama. Kuartil adalah nilai yang menandai batas interval dalam empat bagian sebaran yang sama.\n",
        "- 50% adalah kuartil kedua, atau biasa juga disebut median (nilai tengah).\n",
        "- 75% adalah kuartil ketiga.\n",
        "- Max adalah nilai maksimum."
      ]
    },
    {
      "cell_type": "code",
      "source": [
        "df.shape"
      ],
      "metadata": {
        "id": "NWnJww4KmAky"
      },
      "execution_count": null,
      "outputs": []
    },
    {
      "cell_type": "markdown",
      "source": [
        "Dari eksekusi method df.shape Terlihat:\n",
        "\n",
        "| Jumlah Baris\t| Jumlah Kolom |\n",
        "| ------ | ------ |\n",
        "| 4999 |\t14 |\n"
      ],
      "metadata": {
        "id": "YRARyQeVns3O"
      }
    },
    {
      "cell_type": "markdown",
      "source": [
        "### Check missing value"
      ],
      "metadata": {
        "id": "CdPowHyiiAa7"
      }
    },
    {
      "cell_type": "code",
      "source": [
        "# Check for missing values\n",
        "print(df.isnull().sum())\n",
        "print(df.isna().sum())"
      ],
      "metadata": {
        "id": "3yOD7Zn8iySs"
      },
      "execution_count": null,
      "outputs": []
    },
    {
      "cell_type": "markdown",
      "source": [
        "Tidak terdapat missing value pada dataset customer_booking.csv"
      ],
      "metadata": {
        "id": "VEGs7fqciGGv"
      }
    },
    {
      "cell_type": "code",
      "source": [
        "from sklearn.feature_selection import mutual_info_classif\n",
        "\n",
        "mi_scores = mutual_info_classif(x, y)\n",
        "mi_scores = pd.Series(mi_scores, name=\"MI Scores\", index = x.columns)\n",
        "mi_scores = mi_scores.sort_values(ascending=False)\n",
        "\n",
        "mi_scores"
      ],
      "metadata": {
        "colab": {
          "base_uri": "https://localhost:8080/",
          "height": 491
        },
        "id": "1_3BHA8craQc",
        "outputId": "7f4d840e-f652-458b-a215-c240f115d93a"
      },
      "execution_count": null,
      "outputs": [
        {
          "output_type": "execute_result",
          "data": {
            "text/plain": [
              "route                    0.053495\n",
              "booking_origin           0.049415\n",
              "flight_duration          0.019352\n",
              "wants_extra_baggage      0.013352\n",
              "wants_in_flight_meals    0.004654\n",
              "flight_hour              0.003436\n",
              "wants_preferred_seat     0.003198\n",
              "trip_type                0.003191\n",
              "length_of_stay           0.002842\n",
              "num_passengers           0.002652\n",
              "flight_day               0.002454\n",
              "purchase_lead            0.001355\n",
              "sales_channel            0.000000\n",
              "Name: MI Scores, dtype: float64"
            ],
            "text/html": [
              "<div>\n",
              "<style scoped>\n",
              "    .dataframe tbody tr th:only-of-type {\n",
              "        vertical-align: middle;\n",
              "    }\n",
              "\n",
              "    .dataframe tbody tr th {\n",
              "        vertical-align: top;\n",
              "    }\n",
              "\n",
              "    .dataframe thead th {\n",
              "        text-align: right;\n",
              "    }\n",
              "</style>\n",
              "<table border=\"1\" class=\"dataframe\">\n",
              "  <thead>\n",
              "    <tr style=\"text-align: right;\">\n",
              "      <th></th>\n",
              "      <th>MI Scores</th>\n",
              "    </tr>\n",
              "  </thead>\n",
              "  <tbody>\n",
              "    <tr>\n",
              "      <th>route</th>\n",
              "      <td>0.053495</td>\n",
              "    </tr>\n",
              "    <tr>\n",
              "      <th>booking_origin</th>\n",
              "      <td>0.049415</td>\n",
              "    </tr>\n",
              "    <tr>\n",
              "      <th>flight_duration</th>\n",
              "      <td>0.019352</td>\n",
              "    </tr>\n",
              "    <tr>\n",
              "      <th>wants_extra_baggage</th>\n",
              "      <td>0.013352</td>\n",
              "    </tr>\n",
              "    <tr>\n",
              "      <th>wants_in_flight_meals</th>\n",
              "      <td>0.004654</td>\n",
              "    </tr>\n",
              "    <tr>\n",
              "      <th>flight_hour</th>\n",
              "      <td>0.003436</td>\n",
              "    </tr>\n",
              "    <tr>\n",
              "      <th>wants_preferred_seat</th>\n",
              "      <td>0.003198</td>\n",
              "    </tr>\n",
              "    <tr>\n",
              "      <th>trip_type</th>\n",
              "      <td>0.003191</td>\n",
              "    </tr>\n",
              "    <tr>\n",
              "      <th>length_of_stay</th>\n",
              "      <td>0.002842</td>\n",
              "    </tr>\n",
              "    <tr>\n",
              "      <th>num_passengers</th>\n",
              "      <td>0.002652</td>\n",
              "    </tr>\n",
              "    <tr>\n",
              "      <th>flight_day</th>\n",
              "      <td>0.002454</td>\n",
              "    </tr>\n",
              "    <tr>\n",
              "      <th>purchase_lead</th>\n",
              "      <td>0.001355</td>\n",
              "    </tr>\n",
              "    <tr>\n",
              "      <th>sales_channel</th>\n",
              "      <td>0.000000</td>\n",
              "    </tr>\n",
              "  </tbody>\n",
              "</table>\n",
              "</div><br><label><b>dtype:</b> float64</label>"
            ]
          },
          "metadata": {},
          "execution_count": 12
        }
      ]
    },
    {
      "cell_type": "code",
      "source": [
        "def plot_mi_scores(scores):\n",
        "    scores = scores.sort_values(ascending=True)\n",
        "    width = np.arange(len(scores))\n",
        "    ticks = list(scores.index)\n",
        "    plt.barh(width, scores)\n",
        "    plt.yticks(width, ticks)\n",
        "    plt.title(\"Mutual Information Scores\")\n",
        "\n",
        "\n",
        "plt.figure(dpi=100, figsize=(8, 5))\n",
        "plot_mi_scores(mi_scores)"
      ],
      "metadata": {
        "id": "BdjLPeUwAOa9",
        "colab": {
          "base_uri": "https://localhost:8080/",
          "height": 468
        },
        "outputId": "0e373d6a-d3e2-4c5f-e670-37808dfa9131"
      },
      "execution_count": null,
      "outputs": [
        {
          "output_type": "display_data",
          "data": {
            "text/plain": [
              "<Figure size 800x500 with 1 Axes>"
            ],
            "image/png": "[encoded data removed]"
          },
          "metadata": {}
        }
      ]
    },
    {
      "cell_type": "code",
      "execution_count": null,
      "metadata": {
        "colab": {
          "base_uri": "https://localhost:8080/"
        },
        "id": "WADQaTbgyDxq",
        "outputId": "4fb8f1f0-8332-48e8-e3fc-024a46158888"
      },
      "outputs": [
        {
          "output_type": "stream",
          "name": "stdout",
          "text": [
            "sales_channel: ['Internet' 'Mobile']\n",
            "trip_type: ['RoundTrip' 'CircleTrip' 'OneWay']\n",
            "route: ['AKLDEL' 'AKLHGH' 'AKLHND' 'AKLICN' 'AKLKIX' 'AKLKTM' 'AKLKUL' 'AKLMRU'\n",
            " 'AKLPEK' 'AKLPVG' 'AKLTPE' 'AORICN' 'AORKIX' 'AORKTM' 'AORMEL' 'BBIMEL'\n",
            " 'BBIOOL' 'BBIPER' 'BBISYD' 'BDOCTS' 'BDOCTU' 'BDOHGH' 'BDOICN' 'BDOIKA'\n",
            " 'BDOKIX' 'BDOMEL' 'BDOOOL' 'BDOPEK' 'BDOPER' 'BDOPUS' 'BDOPVG' 'BDOSYD'\n",
            " 'BDOTPE' 'BDOXIY' 'BKICKG' 'BKICTS' 'BKICTU' 'BKIHND' 'BKIICN' 'BKIKIX'\n",
            " 'BKIKTM' 'BKIMEL' 'BKIMRU' 'BKIOOL' 'BKIPEK' 'BKIPER' 'BKIPUS' 'BKIPVG'\n",
            " 'BKISYD' 'BKIXIY' 'BLRICN' 'BLRMEL' 'BLRPER' 'BLRSYD' 'BOMMEL' 'BOMOOL'\n",
            " 'BOMPER' 'BOMSYD' 'BTJJED' 'BTUICN' 'BTUPER' 'BTUSYD' 'BTUWUH' 'BWNCKG'\n",
            " 'BWNDEL' 'BWNHGH' 'BWNIKA' 'BWNKTM' 'BWNMEL' 'BWNOOL' 'BWNPER' 'BWNSYD'\n",
            " 'BWNTPE' 'CANDEL' 'CANIKA' 'CANMEL' 'CANMRU' 'CANOOL' 'CANPER' 'CANSYD'\n",
            " 'CCUMEL' 'CCUMRU' 'CCUOOL' 'CCUPER' 'CCUSYD' 'CCUTPE' 'CEBMEL' 'CEBOOL'\n",
            " 'CEBPER' 'CEBSYD' 'CGKCKG' 'CGKCTS' 'CGKCTU' 'CGKDEL' 'CGKHGH' 'CGKHND'\n",
            " 'CGKICN' 'CGKIKA' 'CGKJED' 'CGKKIX' 'CGKKTM' 'CGKMEL' 'CGKMRU' 'CGKOOL'\n",
            " 'CGKPEK' 'CGKPER' 'CGKPUS' 'CGKPVG' 'CGKSYD' 'CGKTPE' 'CGKWUH' 'CGKXIY'\n",
            " 'CKGCOK' 'CKGDPS' 'CKGJHB' 'CKGKCH' 'CKGLOP' 'CKGMAA' 'CKGMEL' 'CKGMYY'\n",
            " 'CKGOOL' 'CKGPEN' 'CKGPER' 'CKGPNH' 'CKGSBW' 'CKGSIN' 'CKGSUB' 'CKGSYD'\n",
            " 'CKGTGG' 'CKGTRZ' 'CKGTWU' 'CMBCTS' 'CMBCTU' 'CMBHGH' 'CMBHND' 'CMBICN'\n",
            " 'CMBKIX' 'CMBMEL' 'CMBMRU' 'CMBOOL' 'CMBPEK' 'CMBPER' 'CMBPVG' 'CMBSYD'\n",
            " 'CMBWUH' 'CNXHND' 'CNXICN' 'CNXKIX' 'CNXMEL' 'CNXOOL' 'CNXPEK' 'CNXPER'\n",
            " 'CNXPVG' 'CNXSYD' 'CNXTPE' 'COKCTU' 'COKHGH' 'COKICN' 'COKKIX' 'COKMEL'\n",
            " 'COKOOL' 'COKPER' 'COKPUS' 'COKSYD' 'COKTPE' 'COKWUH' 'CRKMEL' 'CRKOOL'\n",
            " 'CRKSYD' 'CSXPER' 'CTSDMK' 'CTSDPS' 'CTSHKT' 'CTSJHB' 'CTSKBR' 'CTSKCH'\n",
            " 'CTSKNO' 'CTSLGK' 'CTSMEL' 'CTSMYY' 'CTSOOL' 'CTSPEN' 'CTSPER' 'CTSSGN'\n",
            " 'CTSSIN' 'CTSSUB' 'CTSSYD' 'CTUDPS' 'CTUHKT' 'CTUIKA' 'CTUJHB' 'CTUKBV'\n",
            " 'CTUKCH' 'CTUKNO' 'CTUMAA' 'CTUMEL' 'CTUMRU' 'CTUMYY' 'CTUOOL' 'CTUPEN'\n",
            " 'CTUPER' 'CTUSBW' 'CTUSIN' 'CTUSUB' 'CTUSYD' 'CTUTGG' 'CTUTRZ' 'CTUTWU'\n",
            " 'CXRMEL' 'DACHGH' 'DACHND' 'DACICN' 'DACKIX' 'DACMEL' 'DACOOL' 'DACPER'\n",
            " 'DACSYD' 'DACTPE' 'DADMEL' 'DADOOL' 'DADSYD' 'DELDMK' 'DELDPS' 'DELHKG'\n",
            " 'DELHKT' 'DELHND' 'DELJHB' 'DELJOG' 'DELKBV' 'DELKCH' 'DELKIX' 'DELKNO'\n",
            " 'DELLGK' 'DELMEL' 'DELMFM' 'DELMNL' 'DELMRU' 'DELMYY' 'DELOOL' 'DELPEN'\n",
            " 'DELPER' 'DELPNH' 'DELSBW' 'DELSGN' 'DELSIN' 'DELSUB' 'DELSYD' 'DELSZX'\n",
            " 'DMKHGH' 'DMKHND' 'DMKICN' 'DMKIKA' 'DMKKIX' 'DMKKTM' 'DMKMEL' 'DMKMRU'\n",
            " 'DMKOOL' 'DMKPEK' 'DMKPER' 'DMKPUS' 'DMKPVG' 'DMKSYD' 'DMKTPE' 'DPSHGH'\n",
            " 'DPSHND' 'DPSICN' 'DPSIKA' 'DPSKIX' 'DPSKTM' 'DPSMEL' 'DPSMRU' 'DPSOOL'\n",
            " 'DPSPEK' 'DPSPUS' 'DPSPVG' 'DPSSYD' 'DPSTPE' 'DPSXIY' 'GOIKUL' 'GOIMEL'\n",
            " 'GOIOOL' 'GOIPER' 'GOISYD' 'HANKTM' 'HANMEL' 'HANOOL' 'HANPER' 'HANSYD'\n",
            " 'HDYHGH' 'HDYKTM' 'HDYMEL' 'HDYOOL' 'HDYPEK' 'HDYPER' 'HDYPVG' 'HDYSYD'\n",
            " 'HDYTPE' 'HGHHKT' 'HGHJHB' 'HGHJOG' 'HGHKBR' 'HGHKBV' 'HGHKCH' 'HGHKNO'\n",
            " 'HGHLGK' 'HGHLOP' 'HGHMAA' 'HGHMEL' 'HGHMYY' 'HGHOOL' 'HGHPEN' 'HGHPER'\n",
            " 'HGHSBW' 'HGHSUB' 'HGHSYD' 'HGHTRZ' 'HKGIKA' 'HKGKTM' 'HKGMEL' 'HKGMRU'\n",
            " 'HKGOOL' 'HKGPER' 'HKGSYD' 'HKTHND' 'HKTICN' 'HKTKIX' 'HKTKTM' 'HKTMEL'\n",
            " 'HKTMRU' 'HKTOOL' 'HKTPEK' 'HKTPER' 'HKTPUS' 'HKTPVG' 'HKTSYD' 'HKTTPE'\n",
            " 'HKTXIY' 'HNDIKA' 'HNDJOG' 'HNDKBR' 'HNDKBV' 'HNDKCH' 'HNDKNO' 'HNDKTM'\n",
            " 'HNDLGK' 'HNDLOP' 'HNDMAA' 'HNDMEL' 'HNDMLE' 'HNDOOL' 'HNDPEN' 'HNDPER'\n",
            " 'HNDPNH' 'HNDREP' 'HNDRGN' 'HNDSBW' 'HNDSGN' 'HNDSIN' 'HNDSUB' 'HNDSYD'\n",
            " 'HNDTRZ' 'HYDMEL' 'HYDOOL' 'HYDPER' 'HYDSYD' 'HYDWUH' 'ICNIKA' 'ICNJED'\n",
            " 'ICNJHB' 'ICNKBR' 'ICNKBV' 'ICNKCH' 'ICNKNO' 'ICNKTM' 'ICNLGK' 'ICNMAA'\n",
            " 'ICNMEL' 'ICNMLE' 'ICNMYY' 'ICNOOL' 'ICNPEN' 'ICNPER' 'ICNREP' 'ICNRGN'\n",
            " 'ICNSBW' 'ICNSDK' 'ICNSGN' 'ICNSIN' 'ICNSUB' 'ICNSYD' 'ICNTRZ' 'ICNVTZ'\n",
            " 'IKAKCH' 'IKAKIX' 'IKALOP' 'IKAMEL' 'IKAMFM' 'IKAMNL' 'IKAOOL' 'IKAPEK'\n",
            " 'IKAPEN' 'IKAPER' 'IKAPUS' 'IKAPVG' 'IKASGN' 'IKASIN' 'IKASUB' 'IKASYD'\n",
            " 'IKATPE' 'JEDJOG' 'JEDKNO' 'JEDMEL' 'JEDMNL' 'JEDPDG' 'JEDPEN' 'JEDSUB'\n",
            " 'JHBKIX' 'JHBKTM' 'JHBMEL' 'JHBMRU' 'JHBPEK' 'JHBPUS' 'JHBPVG' 'JHBSYD'\n",
            " 'JHBTPE' 'JHBWUH' 'JHBXIY' 'JOGKIX' 'JOGKTM' 'JOGMEL' 'JOGOOL' 'JOGPER'\n",
            " 'JOGPVG' 'JOGSYD' 'JOGTPE' 'KBRKIX' 'KBRKTM' 'KBRMEL' 'KBROOL' 'KBRPEK'\n",
            " 'KBRPER' 'KBRPVG' 'KBRSYD' 'KBRTPE' 'KBVKTM' 'KBVMEL' 'KBVOOL' 'KBVPEK'\n",
            " 'KBVPER' 'KBVPVG' 'KBVSYD' 'KCHKIX' 'KCHKTM' 'KCHMEL' 'KCHMRU' 'KCHOOL'\n",
            " 'KCHPEK' 'KCHPER' 'KCHPUS' 'KCHPVG' 'KCHSYD' 'KCHTPE' 'KCHXIY' 'KHHMEL'\n",
            " 'KHHOOL' 'KHHPER' 'KHHSYD' 'KIXKNO' 'KIXKTM' 'KIXLGK' 'KIXLOP' 'KIXMAA'\n",
            " 'KIXMEL' 'KIXMLE' 'KIXMYY' 'KIXOOL' 'KIXPEN' 'KIXPER' 'KIXPNH' 'KIXREP'\n",
            " 'KIXRGN' 'KIXSBW' 'KIXSGN' 'KIXSIN' 'KIXSUB' 'KIXSYD' 'KIXTGG' 'KIXTRZ'\n",
            " 'KLOMEL' 'KLOOOL' 'KNOKTM' 'KNOMEL' 'KNOOOL' 'KNOPEK' 'KNOPER' 'KNOPUS'\n",
            " 'KNOPVG' 'KNOSYD' 'KNOTPE' 'KNOXIY' 'KOSMEL' 'KOSOOL' 'KOSPEK' 'KOSSYD'\n",
            " 'KTMMEL' 'KTMMFM' 'KTMMYY' 'KTMPEN' 'KTMPER' 'KTMREP' 'KTMSGN' 'KTMSIN'\n",
            " 'KTMSUB' 'KTMSYD' 'KTMTGG' 'KTMTPE' 'KTMURT' 'KWLPER' 'LBUPER' 'LGKMEL'\n",
            " 'LGKOOL' 'LGKPER' 'LGKPUS' 'LGKPVG' 'LGKSYD' 'LGKTPE' 'LOPOOL' 'LOPPEK'\n",
            " 'LOPPVG' 'LOPSYD' 'LOPTPE' 'LOPXIY' 'LPQMEL' 'LPQOOL' 'LPQPER' 'LPQTPE'\n",
            " 'MAAMEL' 'MAAMRU' 'MAAOOL' 'MAAPER' 'MAAPVG' 'MAASYD' 'MAATPE' 'MAAWUH'\n",
            " 'MELMFM' 'MELMLE' 'MELMNL' 'MELMRU' 'MELMYY' 'MELPEK' 'MELPEN' 'MELPNH'\n",
            " 'MELPUS' 'MELPVG' 'MELREP' 'MELRGN' 'MELSBW' 'MELSGN' 'MELSIN' 'MELSUB'\n",
            " 'MELSWA' 'MELSZX' 'MELTGG' 'MELTPE' 'MELTRZ' 'MELTWU' 'MELURT' 'MELUTP'\n",
            " 'MELVTE' 'MELVTZ' 'MELWUH' 'MELXIY' 'MFMOOL' 'MFMPER' 'MFMSYD' 'MLEPEK'\n",
            " 'MLEPER' 'MLESYD' 'MNLMRU' 'MNLOOL' 'MNLPER' 'MNLSYD' 'MRUOOL' 'MRUPEK'\n",
            " 'MRUPEN' 'MRUPER' 'MRUPVG' 'MRUSGN' 'MRUSIN' 'MRUSUB' 'MRUSYD' 'MRUSZX'\n",
            " 'MYYOOL' 'MYYPER' 'MYYPUS' 'MYYSYD' 'MYYXIY' 'NRTSYD' 'OOLPEK' 'OOLPEN'\n",
            " 'OOLPNH' 'OOLPUS' 'OOLPVG' 'OOLREP' 'OOLRGN' 'OOLSBW' 'OOLSDK' 'OOLSGN'\n",
            " 'OOLSIN' 'OOLSUB' 'OOLSZX' 'OOLTGG' 'OOLTPE' 'OOLTRZ' 'OOLTWU' 'OOLURT'\n",
            " 'OOLUTP' 'OOLVTE' 'OOLWUH' 'OOLXIY' 'PEKPEN' 'PEKPER' 'PEKREP' 'PEKRGN'\n",
            " 'PEKSBW' 'PEKSIN' 'PEKSUB' 'PEKSYD' 'PEKTGG' 'PEKTRZ' 'PEKTWU' 'PENPER'\n",
            " 'PENPUS' 'PENPVG' 'PENSYD' 'PENTPE' 'PENWUH' 'PENXIY' 'PERPNH' 'PERPUS'\n",
            " 'PERPVG' 'PERREP' 'PERRGN' 'PERSBW' 'PERSDK' 'PERSGN' 'PERSIN' 'PERSWA'\n",
            " 'PERSZX' 'PERTGG' 'PERTPE' 'PERTRZ' 'PERTWU' 'PERUTP' 'PERVTE' 'PERVTZ'\n",
            " 'PERWUH' 'PERXIY' 'PNHSYD' 'PNHTPE' 'PNKTPE' 'PUSRGN' 'PUSSBW' 'PUSSGN'\n",
            " 'PUSSIN' 'PUSSUB' 'PUSSYD' 'PUSTRZ' 'PVGREP' 'PVGRGN' 'PVGSIN' 'PVGSUB'\n",
            " 'PVGSYD' 'PVGTGG' 'PVGTWU' 'PVGURT' 'REPSYD' 'REPTPE' 'RGNSYD' 'RGNTPE'\n",
            " 'SBWSYD' 'SBWTPE' 'SBWXIY' 'SDKSYD' 'SGNSYD' 'SGNXIY' 'SINSYD' 'SINTPE'\n",
            " 'SINWUH' 'SINXIY' 'SRGTPE' 'SUBSYD' 'SUBTPE' 'SUBXIY' 'SYDSZX' 'SYDTPE'\n",
            " 'SYDTRZ' 'SYDTWU' 'SYDVTE' 'SYDVTZ' 'SYDXIY' 'TGGTPE' 'TGGXIY' 'TPETRZ'\n",
            " 'TPEVTE' 'TRZWUH' 'TRZXIY' 'TWUXIY' 'HGHSGN' 'ICNTGG' 'JHBOOL' 'KBRXIY'\n",
            " 'KBVTPE' 'KIXTWU' 'LBUTPE' 'PVGSGN' 'SBWWUH' 'DELREP' 'DPSWUH' 'HKGJED'\n",
            " 'KBVKIX' 'KBVPUS' 'KIXLPQ' 'LGKPEK' 'LGKXIY' 'LOPPER' 'PEKSGN' 'PERSUB'\n",
            " 'TPETWU' 'BDOWUH' 'BKIDEL' 'CKGSGN' 'CTUKBR' 'CTULGK' 'CTUREP' 'DACMRU'\n",
            " 'DACPEK' 'DELRGN' 'HDYXIY' 'HGHTGG' 'HKTWUH' 'ICNVTE' 'KBRPUS' 'KCHWUH'\n",
            " 'KLOSYD' 'KNOWUH' 'MLETPE' 'SDKTPE' 'SUBWUH' 'TWUWUH' 'AORPUS' 'BTUCKG'\n",
            " 'BWNWUH' 'CKGKNO' 'CKGLGK' 'CNXDEL' 'CNXPUS' 'CTSJOG' 'CTSSBW' 'CTUDMK'\n",
            " 'CTULOP' 'DELKBR' 'DELURT' 'HDYKIX' 'HGHSIN' 'HGHTWU' 'HYDMRU' 'IKASZX'\n",
            " 'KBVWUH' 'KBVXIY' 'KIXLBU' 'LGKWUH' 'MELNRT' 'MLEOOL' 'MRUTPE' 'TPEURT'\n",
            " 'URTXIY' 'AORPER' 'CKGHKT' 'CKGMRU' 'CNXXIY' 'COKCTS' 'CSXMRU' 'CSXSYD'\n",
            " 'CTUMLE' 'CTUSGN' 'CTUSRG' 'CTUURT' 'DACPUS' 'HGHMRU' 'HKTIKA' 'HKTJED'\n",
            " 'ICNMRU' 'JEDMFM' 'KBRWUH' 'KIXMRU' 'KTMTWU' 'MLEPVG' 'MRUXIY']\n",
            "booking_origin: ['New Zealand' 'India' 'United Kingdom' 'China' 'South Korea' 'Japan'\n",
            " 'Malaysia' 'Singapore' 'Switzerland' 'Germany' 'Indonesia'\n",
            " 'Czech Republic' 'Vietnam' 'Thailand' 'Spain' 'Romania' 'Ireland' 'Italy'\n",
            " 'Slovakia' 'United Arab Emirates' 'Tonga' 'Réunion' '(not set)'\n",
            " 'Saudi Arabia' 'Netherlands' 'Qatar' 'Hong Kong' 'Philippines'\n",
            " 'Sri Lanka' 'France' 'Croatia' 'United States' 'Laos' 'Hungary'\n",
            " 'Portugal' 'Cyprus' 'Australia' 'Cambodia' 'Poland' 'Belgium' 'Oman'\n",
            " 'Bangladesh' 'Kazakhstan' 'Brazil' 'Turkey' 'Kenya' 'Taiwan' 'Brunei'\n",
            " 'Chile' 'Bulgaria' 'Ukraine' 'Denmark' 'Colombia' 'Iran' 'Bahrain'\n",
            " 'Solomon Islands' 'Slovenia' 'Mauritius' 'Nepal' 'Russia' 'Kuwait'\n",
            " 'Mexico' 'Sweden' 'Austria' 'Lebanon' 'Jordan' 'Greece' 'Mongolia'\n",
            " 'Canada' 'Tanzania' 'Peru' 'Timor-Leste' 'Argentina' 'New Caledonia'\n",
            " 'Macau' 'Myanmar (Burma)' 'Norway' 'Panama' 'Bhutan' 'Norfolk Island'\n",
            " 'Finland' 'Nicaragua' 'Maldives' 'Egypt' 'Israel' 'Tunisia'\n",
            " 'South Africa' 'Papua New Guinea' 'Paraguay' 'Estonia' 'Seychelles'\n",
            " 'Afghanistan' 'Guam' 'Czechia' 'Malta' 'Vanuatu' 'Belarus' 'Pakistan'\n",
            " 'Iraq' 'Ghana' 'Gibraltar' 'Guatemala' 'Algeria' 'Svalbard & Jan Mayen']\n"
          ]
        }
      ],
      "source": [
        "# categorical columns\n",
        "categorical_columns = df.select_dtypes(include=['object']).columns\n",
        "categorical_columns\n",
        "\n",
        "# checking unique values in categorical columns\n",
        "for col in categorical_columns:\n",
        "    print(f\"{col}: {df[col].unique()}\")"
      ]
    },
    {
      "cell_type": "code",
      "execution_count": null,
      "metadata": {
        "id": "pQEEedNc6Bt0"
      },
      "outputs": [],
      "source": [
        "# label encoding the categorical variables\n",
        "from sklearn.preprocessing import LabelEncoder\n",
        "\n",
        "label_encoder = LabelEncoder()\n",
        "for col in categorical_columns:\n",
        "    df[col] = label_encoder.fit_transform(df[col])"
      ]
    },
    {
      "cell_type": "code",
      "execution_count": null,
      "metadata": {
        "colab": {
          "base_uri": "https://localhost:8080/"
        },
        "id": "irYU-wBv6BrN",
        "outputId": "2e7823ac-976a-48f0-81e4-c28455a6ca19"
      },
      "outputs": [
        {
          "output_type": "stream",
          "name": "stdout",
          "text": [
            "<class 'pandas.core.frame.DataFrame'>\n",
            "RangeIndex: 50000 entries, 0 to 49999\n",
            "Data columns (total 14 columns):\n",
            " #   Column                 Non-Null Count  Dtype  \n",
            "---  ------                 --------------  -----  \n",
            " 0   num_passengers         50000 non-null  int64  \n",
            " 1   sales_channel          50000 non-null  int64  \n",
            " 2   trip_type              50000 non-null  int64  \n",
            " 3   purchase_lead          50000 non-null  int64  \n",
            " 4   length_of_stay         50000 non-null  int64  \n",
            " 5   flight_hour            50000 non-null  int64  \n",
            " 6   flight_day             50000 non-null  int64  \n",
            " 7   route                  50000 non-null  int64  \n",
            " 8   booking_origin         50000 non-null  int64  \n",
            " 9   wants_extra_baggage    50000 non-null  int64  \n",
            " 10  wants_preferred_seat   50000 non-null  int64  \n",
            " 11  wants_in_flight_meals  50000 non-null  int64  \n",
            " 12  flight_duration        50000 non-null  float64\n",
            " 13  booking_complete       50000 non-null  int64  \n",
            "dtypes: float64(1), int64(13)\n",
            "memory usage: 5.3 MB\n"
          ]
        }
      ],
      "source": [
        "df.info()"
      ]
    },
    {
      "cell_type": "markdown",
      "source": [
        "Dapat kita lihat data yang sesuah di encoding:\n",
        "\n",
        "- Jumlah data 1 fitur bertipe float64, 8 fitur bertipe int64, dan 5 fitur bertipe object."
      ],
      "metadata": {
        "id": "jmmErrdVmPly"
      }
    },
    {
      "cell_type": "markdown",
      "source": [
        "## Train-test-split"
      ],
      "metadata": {
        "id": "qqr1kKnFjPTN"
      }
    },
    {
      "cell_type": "code",
      "execution_count": null,
      "metadata": {
        "id": "3vSsqVbS6Boa"
      },
      "outputs": [],
      "source": [
        "# drop unused columns\n",
        "x = df.drop(['booking_complete'], axis=1)\n",
        "y = df['booking_complete']\n",
        "\n",
        "#changing object dtype to int dtype\n",
        "for colname in x.select_dtypes(\"object\"):\n",
        "    x[colname], _ = x[colname].factorize()"
      ]
    },
    {
      "cell_type": "code",
      "source": [
        "# test train split\n",
        "\n",
        "from sklearn.model_selection import train_test_split\n",
        "\n",
        "x_train, x_test, y_train, y_test = train_test_split(x, y, test_size=0.2, random_state=42)"
      ],
      "metadata": {
        "id": "ykFlBRqrgj9L"
      },
      "execution_count": null,
      "outputs": []
    },
    {
      "cell_type": "markdown",
      "metadata": {
        "id": "Lfn29CZNMj_X"
      },
      "source": [
        "### Membangun machine learning model"
      ]
    },
    {
      "cell_type": "markdown",
      "source": [
        "Ada tiga algoritma model machine learning yang dicoba dan dibandingkan tingkat akurasi dari masing-masing model untuk mendapatkan hasil akurasi terbaik, yaitu\n",
        "\n",
        "* Random Forest\n",
        "* XCBoost\n",
        "* Logistic Regression"
      ],
      "metadata": {
        "id": "qtiNuXnrjcfe"
      }
    },
    {
      "cell_type": "markdown",
      "source": [
        "### Random forest"
      ],
      "metadata": {
        "id": "7TV5PqiZj-nh"
      }
    },
    {
      "cell_type": "code",
      "execution_count": null,
      "metadata": {
        "colab": {
          "base_uri": "https://localhost:8080/"
        },
        "id": "T7YdWZLhMgc9",
        "outputId": "6ba53cee-2d23-43da-883d-534968e07e1c"
      },
      "outputs": [
        {
          "output_type": "stream",
          "name": "stdout",
          "text": [
            "Cross-validation accuracy scores: [0.8537 0.8504 0.8488 0.8527 0.8561]\n",
            "Mean accuracy score: 0.8523400000000001\n"
          ]
        }
      ],
      "source": [
        "# Random Forest\n",
        "from sklearn.model_selection import KFold, cross_val_score\n",
        "from sklearn.ensemble import RandomForestClassifier\n",
        "\n",
        "# initialize the model\n",
        "model = RandomForestClassifier(n_estimators=100, random_state=42)\n",
        "\n",
        "# perform cross-validation\n",
        "kf = KFold(n_splits=5, shuffle=True, random_state=42)\n",
        "scores = cross_val_score(model, x, y, cv=kf, scoring='accuracy')\n",
        "print(\"Cross-validation accuracy scores:\", scores)\n",
        "print(\"Mean accuracy score:\", scores.mean())\n",
        "\n",
        "# train the model\n",
        "model.fit(x_train, y_train)\n",
        "\n",
        "# make predictions on the test set\n",
        "y_pred = model.predict(x_test)"
      ]
    },
    {
      "cell_type": "code",
      "source": [
        "# Gradient Boosting Classifier (XGBoost)\n",
        "from xgboost import XGBClassifier\n",
        "from sklearn.metrics import accuracy_score, roc_auc_score\n",
        "\n",
        "xgb_model = XGBClassifier()\n",
        "xgb_model.fit(x_train, y_train)\n",
        "prediction_xgb = xgb_model.predict(x_test)\n",
        "print('ACCURACY: ',accuracy_score(y_test, prediction_xgb)*100)\n",
        "print('AUC score: ',roc_auc_score(y_test,prediction_xgb))"
      ],
      "metadata": {
        "id": "YOGvTdi9fYf5",
        "colab": {
          "base_uri": "https://localhost:8080/"
        },
        "outputId": "9e44f0fd-8ca9-426d-c293-ac1a391e4555"
      },
      "execution_count": null,
      "outputs": [
        {
          "output_type": "stream",
          "name": "stdout",
          "text": [
            "ACCURACY:  85.1\n",
            "AUC score:  0.5477065093262277\n"
          ]
        }
      ]
    },
    {
      "cell_type": "code",
      "source": [
        "# Logistic Regression\n",
        "from sklearn.linear_model import LogisticRegression\n",
        "from sklearn.metrics import accuracy_score, classification_report\n",
        "\n",
        "# Logistic Regression\n",
        "logistic_model = LogisticRegression(max_iter=1000, random_state=42)\n",
        "logistic_model.fit(x_train, y_train)\n",
        "\n",
        "# Predictions and evaluation\n",
        "y_pred_logistic = logistic_model.predict(x_test)\n",
        "logistic_accuracy = accuracy_score(y_test, y_pred_logistic)\n",
        "logistic_report = classification_report(y_test, y_pred_logistic)\n",
        "\n",
        "print(\"Logistic Regression Accuracy:\", logistic_accuracy)\n",
        "print(\"Logistic Regression Classification Report:\\n\", logistic_report)"
      ],
      "metadata": {
        "id": "ucA9vUSbgKGg",
        "colab": {
          "base_uri": "https://localhost:8080/"
        },
        "outputId": "2c6f2178-b27a-4bbc-f6f1-f98c243acd09"
      },
      "execution_count": null,
      "outputs": [
        {
          "output_type": "stream",
          "name": "stdout",
          "text": [
            "Logistic Regression Accuracy: 0.852\n",
            "Logistic Regression Classification Report:\n",
            "               precision    recall  f1-score   support\n",
            "\n",
            "           0       0.85      1.00      0.92      8520\n",
            "           1       0.00      0.00      0.00      1480\n",
            "\n",
            "    accuracy                           0.85     10000\n",
            "   macro avg       0.43      0.50      0.46     10000\n",
            "weighted avg       0.73      0.85      0.78     10000\n",
            "\n"
          ]
        }
      ]
    },
    {
      "cell_type": "markdown",
      "metadata": {
        "id": "Ar65AM6FNu9e"
      },
      "source": [
        "### Evaluate and Present Findings"
      ]
    },
    {
      "cell_type": "code",
      "source": [
        "# Evaluasi semua model\n",
        "from sklearn.metrics import accuracy_score, classification_report\n",
        "\n",
        "all_models = {\n",
        "    \"Random Forest\": model,\n",
        "    \"XGBoost\": xgb_model,\n",
        "    \"Logistic Regression\": logistic_model\n",
        "}\n",
        "\n",
        "for model_name, model in all_models.items():\n",
        "    y_pred = model.predict(x_test)\n",
        "\n",
        "    accuracy = accuracy_score(y_test, y_pred)\n",
        "    report = classification_report(y_test, y_pred)\n",
        "\n",
        "    print(f\"{model_name} Accuracy: {accuracy}\")\n",
        "    print(f\"{model_name} Classification Report:\\n{report}\\n\")\n",
        "    print(\"-\" * 50)\n",
        "    print()"
      ],
      "metadata": {
        "colab": {
          "base_uri": "https://localhost:8080/"
        },
        "id": "Og1Lp1MGs9nZ",
        "outputId": "4b9b42eb-4091-4f86-d0a3-9cdd3d5e3c43"
      },
      "execution_count": null,
      "outputs": [
        {
          "output_type": "stream",
          "name": "stdout",
          "text": [
            "Random Forest Accuracy: 0.8543\n",
            "Random Forest Classification Report:\n",
            "              precision    recall  f1-score   support\n",
            "\n",
            "           0       0.86      0.98      0.92      8520\n",
            "           1       0.54      0.11      0.18      1480\n",
            "\n",
            "    accuracy                           0.85     10000\n",
            "   macro avg       0.70      0.55      0.55     10000\n",
            "weighted avg       0.82      0.85      0.81     10000\n",
            "\n",
            "\n",
            "--------------------------------------------------\n",
            "\n",
            "XGBoost Accuracy: 0.851\n",
            "XGBoost Classification Report:\n",
            "              precision    recall  f1-score   support\n",
            "\n",
            "           0       0.86      0.98      0.92      8520\n",
            "           1       0.49      0.12      0.19      1480\n",
            "\n",
            "    accuracy                           0.85     10000\n",
            "   macro avg       0.68      0.55      0.55     10000\n",
            "weighted avg       0.81      0.85      0.81     10000\n",
            "\n",
            "\n",
            "--------------------------------------------------\n",
            "\n",
            "Logistic Regression Accuracy: 0.852\n",
            "Logistic Regression Classification Report:\n",
            "              precision    recall  f1-score   support\n",
            "\n",
            "           0       0.85      1.00      0.92      8520\n",
            "           1       0.00      0.00      0.00      1480\n",
            "\n",
            "    accuracy                           0.85     10000\n",
            "   macro avg       0.43      0.50      0.46     10000\n",
            "weighted avg       0.73      0.85      0.78     10000\n",
            "\n",
            "\n",
            "--------------------------------------------------\n",
            "\n"
          ]
        }
      ]
    },
    {
      "cell_type": "code",
      "source": [
        "# Feature Important\n",
        "importances = all_models['Random Forest'].feature_importances_  # Use the RandomForestClassifier from all_models dictionary\n",
        "indices = np.argsort(importances)[::-1]\n",
        "\n",
        "print(\"Feature ranking:\")\n",
        "\n",
        "for f in range(x_train.shape[1]):\n",
        "    print(\"%d. feature %d (%f)\" %\n",
        "          (f + 1, indices[f], importances[indices[f]]))\n",
        "    print(x_train.columns[indices[f]])\n",
        "    print()"
      ],
      "metadata": {
        "colab": {
          "base_uri": "https://localhost:8080/",
          "height": 905
        },
        "id": "w5hp-5s84qTk",
        "outputId": "e14abd14-a2fa-4cf0-b5f6-f92ec8b34df1"
      },
      "execution_count": null,
      "outputs": [
        {
          "output_type": "stream",
          "name": "stdout",
          "text": [
            "Feature ranking:\n",
            "1. feature 3 (0.192845)\n",
            "purchase_lead\n",
            "\n",
            "2. feature 7 (0.149148)\n",
            "route\n",
            "\n",
            "3. feature 5 (0.140716)\n",
            "flight_hour\n",
            "\n",
            "4. feature 4 (0.125112)\n",
            "length_of_stay\n",
            "\n",
            "5. feature 8 (0.110298)\n",
            "booking_origin\n",
            "\n",
            "6. feature 6 (0.091608)\n",
            "flight_day\n",
            "\n",
            "7. feature 12 (0.072816)\n",
            "flight_duration\n",
            "\n",
            "8. feature 0 (0.049482)\n",
            "num_passengers\n",
            "\n",
            "9. feature 11 (0.021780)\n",
            "wants_in_flight_meals\n",
            "\n",
            "10. feature 10 (0.017479)\n",
            "wants_preferred_seat\n",
            "\n",
            "11. feature 9 (0.015265)\n",
            "wants_extra_baggage\n",
            "\n",
            "12. feature 1 (0.011738)\n",
            "sales_channel\n",
            "\n",
            "13. feature 2 (0.001713)\n",
            "trip_type\n",
            "\n"
          ]
        },
        {
          "output_type": "error",
          "ename": "AttributeError",
          "evalue": "'numpy.ndarray' object has no attribute 'index'",
          "traceback": [
            "\u001b[0;31m---------------------------------------------------------------------------\u001b[0m",
            "\u001b[0;31mAttributeError\u001b[0m                            Traceback (most recent call last)",
            "\u001b[0;32m<ipython-input-32-bc3235299ceb>\u001b[0m in \u001b[0;36m<cell line: 14>\u001b[0;34m()\u001b[0m\n\u001b[1;32m     12\u001b[0m \u001b[0;34m\u001b[0m\u001b[0m\n\u001b[1;32m     13\u001b[0m \u001b[0;31m# plot feature importance\u001b[0m\u001b[0;34m\u001b[0m\u001b[0;34m\u001b[0m\u001b[0m\n\u001b[0;32m---> 14\u001b[0;31m \u001b[0mplt\u001b[0m\u001b[0;34m.\u001b[0m\u001b[0mbarh\u001b[0m\u001b[0;34m(\u001b[0m\u001b[0mimportances\u001b[0m\u001b[0;34m.\u001b[0m\u001b[0mindex\u001b[0m\u001b[0;34m,\u001b[0m \u001b[0mimportances\u001b[0m\u001b[0;34m.\u001b[0m\u001b[0mvalues\u001b[0m\u001b[0;34m,\u001b[0m \u001b[0mcolor\u001b[0m\u001b[0;34m=\u001b[0m\u001b[0;34m'skyblue'\u001b[0m\u001b[0;34m)\u001b[0m\u001b[0;34m\u001b[0m\u001b[0;34m\u001b[0m\u001b[0m\n\u001b[0m\u001b[1;32m     15\u001b[0m \u001b[0mplt\u001b[0m\u001b[0;34m.\u001b[0m\u001b[0mxlabel\u001b[0m\u001b[0;34m(\u001b[0m\u001b[0;34m'Importance'\u001b[0m\u001b[0;34m)\u001b[0m\u001b[0;34m\u001b[0m\u001b[0;34m\u001b[0m\u001b[0m\n\u001b[1;32m     16\u001b[0m \u001b[0mplt\u001b[0m\u001b[0;34m.\u001b[0m\u001b[0mtitle\u001b[0m\u001b[0;34m(\u001b[0m\u001b[0;34m'Feature Importance'\u001b[0m\u001b[0;34m)\u001b[0m\u001b[0;34m\u001b[0m\u001b[0;34m\u001b[0m\u001b[0m\n",
            "\u001b[0;31mAttributeError\u001b[0m: 'numpy.ndarray' object has no attribute 'index'"
          ]
        }
      ]
    }
  ],
  "metadata": {
    "colab": {
      "provenance": [],
      "include_colab_link": true
    },
    "kernelspec": {
      "display_name": "Python 3.9.13 ('venv': venv)",
      "language": "python",
      "name": "python3"
    },
    "language_info": {
      "codemirror_mode": {
        "name": "ipython",
        "version": 3
      },
      "file_extension": ".py",
      "mimetype": "text/x-python",
      "name": "python",
      "nbconvert_exporter": "python",
      "pygments_lexer": "ipython3",
      "version": "3.9.13"
    },
    "orig_nbformat": 4,
    "vscode": {
      "interpreter": {
        "hash": "4f7924c4c56b083e0e50eadfe7ef592a7a8ef70df33a0047f82280e6be1afe15"
      }
    }
  },
  "nbformat": 4,
  "nbformat_minor": 0
}